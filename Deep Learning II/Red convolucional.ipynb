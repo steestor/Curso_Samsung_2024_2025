{
 "cells": [
  {
   "cell_type": "code",
   "execution_count": 7,
   "id": "fbc7f6af-84e4-4bdf-855f-b2db27f69e94",
   "metadata": {},
   "outputs": [],
   "source": [
    "#pip install tensorflow"
   ]
  },
  {
   "cell_type": "code",
   "execution_count": 8,
   "id": "cab4442c-b782-4012-b84c-18f176c4071c",
   "metadata": {},
   "outputs": [],
   "source": [
    "import tensorflow as tf\n",
    "import numpy as np"
   ]
  },
  {
   "cell_type": "markdown",
   "id": "d662a5d7-3503-4337-9dc5-81453267b241",
   "metadata": {},
   "source": [
    "## Red convolucional 1D: puede ser texto o puede ser un audio"
   ]
  },
  {
   "cell_type": "code",
   "execution_count": 23,
   "id": "18906f3e-5ed6-4f09-8195-6ed2cd2da7a0",
   "metadata": {},
   "outputs": [],
   "source": [
    "# X: señal de entrada\n",
    "# w: kernel o filtro\n",
    "# p: padding (relleno con ceros)\n",
    "# s: stride (paso)\n",
    "\n",
    "def conv1d(X, w, p=0, s=1):\n",
    "    X_padded = np.array(X)\n",
    "    w = np.array(w)\n",
    "    \n",
    "    if p > 0:\n",
    "        zero_pad = np.zeros(shape = p)\n",
    "        # Concatenar los ceros antes y después de X_padded\n",
    "        X_padded = np.concatenate([zero_pad, X_padded, zero_pad])\n",
    "    \n",
    "    res = []\n",
    "    \n",
    "    # Iterar sobre la señal con el stride especificado\n",
    "    for i in range(0, int(len(X_padded) - len(w) + 1), s):\n",
    "        res.append(np.sum(X_padded[i:i+w.shape[0]] * w))\n",
    "        \n",
    "    return res"
   ]
  },
  {
   "cell_type": "code",
   "execution_count": 25,
   "id": "49c4fc24-c984-4685-9c81-bb95c6ddd133",
   "metadata": {},
   "outputs": [],
   "source": [
    "# Kernel (filtro) w, es un filtro de suavizado que:\n",
    "# - Reduce el ruido\n",
    "# - Suaviza transiciones bruscas\n",
    "# - Cada valor de salida será el promedio de tres valores de entrada\n",
    "X = [0,0,0,0,0,9,9,9,9,9,0,0,0,0,0]\n",
    "w = [1/3, 1/3, 1/3]"
   ]
  },
  {
   "cell_type": "code",
   "execution_count": 27,
   "id": "c8c44501-4af0-4e26-99c0-01a4f668af11",
   "metadata": {},
   "outputs": [
    {
     "name": "stdout",
     "output_type": "stream",
     "text": [
      "Conv1D:  [0.0, 0.0, 0.0, 3.0, 6.0, 9.0, 9.0, 9.0, 6.0, 3.0, 0.0, 0.0, 0.0]\n"
     ]
    }
   ],
   "source": [
    "print(\"Conv1D: \", conv1d(X, w, p=0, s=1))"
   ]
  },
  {
   "cell_type": "code",
   "execution_count": 29,
   "id": "d97395ad-000d-4063-997a-8ec1dc8e5540",
   "metadata": {},
   "outputs": [],
   "source": [
    "X = [0,0,0,0,0,9,9,9,9,9,0,0,0,0,0]\n",
    "w = [-1, 2, -1] #detecta cambios bruscos en la señal ya que hay un número positivo en el centro"
   ]
  },
  {
   "cell_type": "code",
   "execution_count": 31,
   "id": "5fbf7fa8-99ce-4f9e-89ee-f254dfecc75f",
   "metadata": {},
   "outputs": [
    {
     "name": "stdout",
     "output_type": "stream",
     "text": [
      "Conv1D:  [0, 0, 0, -9, 9, 0, 0, 0, 9, -9, 0, 0, 0]\n"
     ]
    }
   ],
   "source": [
    "print(\"Conv1D: \", conv1d(X, w, p=0, s=1))"
   ]
  },
  {
   "cell_type": "markdown",
   "id": "4ac16ec5-5350-444e-8a24-edc337508e04",
   "metadata": {},
   "source": [
    "RESUMEN:\n",
    "\n",
    "Valores = 0 significan \"no hay cambio\"\n",
    "\n",
    "Valores > 0 significan \"subida brusca\"\n",
    "\n",
    "Valores < 0 significan \"bajada brusca\""
   ]
  },
  {
   "cell_type": "markdown",
   "id": "7ab16396-6011-488e-ae27-fcb1d61d1568",
   "metadata": {},
   "source": [
    "## Red convolucional 2D: imágenes"
   ]
  },
  {
   "cell_type": "code",
   "execution_count": 46,
   "id": "474e91b4-e50d-4eda-97b1-03be6809cd8c",
   "metadata": {},
   "outputs": [],
   "source": [
    "def conv2d(X, w, p=(0,0), s=(1,1)):\n",
    "    X = np.array(X)\n",
    "    w = np.array(w)\n",
    "    \n",
    "    # Calcular dimensiones para el padding\n",
    "    n1 = X.shape[0] + 2*p[0] # Altura con padding\n",
    "    n2 = X.shape[1] + 2*p[1] # Anchura con padding\n",
    "    \n",
    "    X_padded = np.zeros(shape=(n1, n2))\n",
    "    X_padded[p[0]:p[0]+X.shape[0], p[1]:p[1]+X.shape[1]] = X\n",
    "    \n",
    "    res = []\n",
    "    \n",
    "    # Iterar sobre la altura\n",
    "    for i in range(0, int(X_padded.shape[0] - w.shape[0]+1), s[0]):\n",
    "        res.append([])\n",
    "        # Iterar sobre el ancho\n",
    "        for j in range(0, int(X_padded.shape[1] - w.shape[1]+1), s[1]):\n",
    "            # Extraer la porción de imagen del tamaño del kernel\n",
    "            part_image = X_padded[i:i+w.shape[0], j:j+w.shape[1]]\n",
    "            # Multiplicar elemento a elemento y sumar (convolución)\n",
    "            res[-1].append(np.sum(part_image * w))\n",
    "    \n",
    "    return np.array(res)"
   ]
  },
  {
   "cell_type": "code",
   "execution_count": 50,
   "id": "ec6a0eb5-ed25-45db-9927-1f36f85b9e00",
   "metadata": {},
   "outputs": [
    {
     "name": "stdout",
     "output_type": "stream",
     "text": [
      "Conv2D: \n",
      " [[0. 0. 0. 0. 0. 0. 0. 0. 0.]\n",
      " [0. 0. 1. 2. 3. 2. 1. 0. 0.]\n",
      " [0. 0. 2. 4. 6. 4. 2. 0. 0.]\n",
      " [0. 0. 3. 6. 9. 6. 3. 0. 0.]\n",
      " [0. 0. 3. 6. 9. 6. 3. 0. 0.]\n",
      " [0. 0. 3. 6. 9. 6. 3. 0. 0.]\n",
      " [0. 0. 2. 4. 6. 4. 2. 0. 0.]\n",
      " [0. 0. 1. 2. 3. 2. 1. 0. 0.]\n",
      " [0. 0. 0. 0. 0. 0. 0. 0. 0.]]\n"
     ]
    }
   ],
   "source": [
    "# Imagen 9x9\n",
    "# Rectángulo de nueves (5x3) en el centro\n",
    "X = [[0,0,0,0,0,0,0,0,0],\n",
    "     [0,0,0,0,0,0,0,0,0],\n",
    "     [0,0,0,9,9,9,0,0,0],\n",
    "     [0,0,0,9,9,9,0,0,0],\n",
    "     [0,0,0,9,9,9,0,0,0],\n",
    "     [0,0,0,9,9,9,0,0,0],\n",
    "     [0,0,0,9,9,9,0,0,0],\n",
    "     [0,0,0,0,0,0,0,0,0],\n",
    "     [0,0,0,0,0,0,0,0,0]]\n",
    "\n",
    "# Este kernel de promedio (1/9) suavizará la imagen, promediando cada pixel con sus 8 vecinos.\n",
    "w = [[1/9,1/9,1/9],\n",
    "     [1/9,1/9,1/9],\n",
    "     [1/9,1/9,1/9]]\n",
    "\n",
    "print(\"Conv2D: \\n\", conv2d(X, w, p=(1,1), s=(1,1)))"
   ]
  },
  {
   "cell_type": "code",
   "execution_count": 54,
   "id": "98001382-c89e-4c73-9abe-bb5dac77c933",
   "metadata": {},
   "outputs": [
    {
     "name": "stdout",
     "output_type": "stream",
     "text": [
      "Conv2D: \n",
      " [[  0.   0.   0.   0.   0.   0.   0.   0.   0.]\n",
      " [  0.   0.  -9. -18. -27. -18.  -9.   0.   0.]\n",
      " [  0.   0. -18.  45.  27.  45. -18.   0.   0.]\n",
      " [  0.   0. -27.  27.   0.  27. -27.   0.   0.]\n",
      " [  0.   0. -27.  27.   0.  27. -27.   0.   0.]\n",
      " [  0.   0. -27.  27.   0.  27. -27.   0.   0.]\n",
      " [  0.   0. -18.  45.  27.  45. -18.   0.   0.]\n",
      " [  0.   0.  -9. -18. -27. -18.  -9.   0.   0.]\n",
      " [  0.   0.   0.   0.   0.   0.   0.   0.   0.]]\n"
     ]
    }
   ],
   "source": [
    "# Imagen 9x9\n",
    "# Rectángulo de nueves (5x3) en el centro\n",
    "X = [[0,0,0,0,0,0,0,0,0],\n",
    "     [0,0,0,0,0,0,0,0,0],\n",
    "     [0,0,0,9,9,9,0,0,0],\n",
    "     [0,0,0,9,9,9,0,0,0],\n",
    "     [0,0,0,9,9,9,0,0,0],\n",
    "     [0,0,0,9,9,9,0,0,0],\n",
    "     [0,0,0,9,9,9,0,0,0],\n",
    "     [0,0,0,0,0,0,0,0,0],\n",
    "     [0,0,0,0,0,0,0,0,0]]\n",
    "\n",
    "\n",
    "w = [[-1,-1,-1],\n",
    "     [-1, 8,-1],\n",
    "     [-1,-1,-1]]\n",
    "\n",
    "print(\"Conv2D: \\n\", conv2d(X, w, p=(1,1), s=(1,1)))"
   ]
  },
  {
   "cell_type": "code",
   "execution_count": 56,
   "id": "e7d8943a-53c9-4fef-9def-024366b214b5",
   "metadata": {},
   "outputs": [],
   "source": [
    "# Detectará:\n",
    "# Bordes y esquinas (cambios bruscos)\n",
    "# Valores altos en los bordes\n",
    "# Valores bajos en áreas uniformes"
   ]
  }
 ],
 "metadata": {
  "kernelspec": {
   "display_name": "Python 3 (ipykernel)",
   "language": "python",
   "name": "python3"
  },
  "language_info": {
   "codemirror_mode": {
    "name": "ipython",
    "version": 3
   },
   "file_extension": ".py",
   "mimetype": "text/x-python",
   "name": "python",
   "nbconvert_exporter": "python",
   "pygments_lexer": "ipython3",
   "version": "3.11.7"
  }
 },
 "nbformat": 4,
 "nbformat_minor": 5
}
