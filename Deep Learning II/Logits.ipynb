{
 "cells": [
  {
   "cell_type": "code",
   "execution_count": 1,
   "id": "b1575f50-a126-4695-b381-fde17ec5df9d",
   "metadata": {},
   "outputs": [],
   "source": [
    "import tensorflow as tf"
   ]
  },
  {
   "cell_type": "code",
   "execution_count": null,
   "id": "642bc03e-cfea-47bb-8cd1-f1ce73f20eca",
   "metadata": {},
   "outputs": [],
   "source": [
    "# Crear dos funciones diferentes de pérdida BinaryCrossentropy"
   ]
  },
  {
   "cell_type": "code",
   "execution_count": 7,
   "id": "8b227988-9c51-4d0e-ba2b-df08df4c5a6e",
   "metadata": {},
   "outputs": [
    {
     "name": "stdout",
     "output_type": "stream",
     "text": [
      "logits: [0.8]\n",
      "probas: [0.6899745]\n",
      "tf.Tensor(0.37110066, shape=(), dtype=float32)\n",
      "tf.Tensor(0.37110066, shape=(), dtype=float32)\n"
     ]
    }
   ],
   "source": [
    "# from_logits=False significa que la entrada debe ser probabilidades (entre 0 y 1)\n",
    "bce_probas = tf.keras.losses.BinaryCrossentropy(from_logits=False)\n",
    "\n",
    "# from_logits=True significa que la entrada debe ser logits puros (sin límites)\n",
    "bce_logits = tf.keras.losses.BinaryCrossentropy(from_logits=True)\n",
    "\n",
    "# Crear un tensor constante con valor 0.8 (logit puro)\n",
    "logits = tf.constant([0.8])\n",
    "\n",
    "# Convertir logits a probabilidades usando la función de activación sigmoid\n",
    "# Sigmoid comprime los valores al rango (0,1)\n",
    "probas = tf.keras.activations.sigmoid(logits)\n",
    "\n",
    "# Imprimir tanto los logits puros como los valores de probabilidad\n",
    "print(f\"logits: {logits}\")\n",
    "print(f\"probas: {probas}\")\n",
    "\n",
    "# y_pred=probas debe ser un valor entre 0 y 1\n",
    "print(bce_probas(y_true=tf.constant([1]), y_pred=probas))\n",
    "\n",
    "# y_pred=logits puede ser cualquier valor real\n",
    "print(bce_logits(y_true=tf.constant([1]), y_pred=logits))"
   ]
  },
  {
   "cell_type": "code",
   "execution_count": 9,
   "id": "d41e06a9-f9b4-4fdb-87a5-4f7cfe392b8b",
   "metadata": {},
   "outputs": [
    {
     "name": "stdout",
     "output_type": "stream",
     "text": [
      "logits: [[1.5 0.8 2.1]]\n",
      "probas: [[0.30132246 0.14963228 0.54904526]]\n",
      "tf.Tensor(0.5995744, shape=(), dtype=float32)\n",
      "tf.Tensor(0.5995744, shape=(), dtype=float32)\n"
     ]
    }
   ],
   "source": [
    "# Crear dos funciones de pérdida para entropía cruzada categórica dispersa\n",
    "# from_logits=False significa que la entrada debe ser probabilidades (después de softmax)\n",
    "sp_cce_probas = tf.keras.losses.SparseCategoricalCrossentropy(from_logits=False)\n",
    "# from_logits=True significa que la entrada son logits puros (antes de softmax)\n",
    "sp_cce_logits = tf.keras.losses.SparseCategoricalCrossentropy(from_logits=True)\n",
    "\n",
    "# Crear un tensor con tres logits para clasificación de 3 clases\n",
    "logits = tf.constant([[1.5, 0.8, 2.1]])\n",
    "\n",
    "# Convertir logits a probabilidades usando softmax\n",
    "# Softmax convierte los números a probabilidades que suman 1\n",
    "probas = tf.keras.activations.softmax(logits)\n",
    "\n",
    "print(f\"logits: {logits}\")\n",
    "print(f\"probas: {probas}\")\n",
    "\n",
    "# Calcular la pérdida usando probabilidades (se espera que y_true sea 2, indicando la clase 2)\n",
    "print(sp_cce_probas(y_true=tf.constant([2]), y_pred=probas))\n",
    "\n",
    "# Calcular la pérdida usando logits directamente\n",
    "print(sp_cce_logits(y_true=tf.constant([2]), y_pred=logits))"
   ]
  }
 ],
 "metadata": {
  "kernelspec": {
   "display_name": "Python 3 (ipykernel)",
   "language": "python",
   "name": "python3"
  },
  "language_info": {
   "codemirror_mode": {
    "name": "ipython",
    "version": 3
   },
   "file_extension": ".py",
   "mimetype": "text/x-python",
   "name": "python",
   "nbconvert_exporter": "python",
   "pygments_lexer": "ipython3",
   "version": "3.11.7"
  }
 },
 "nbformat": 4,
 "nbformat_minor": 5
}
