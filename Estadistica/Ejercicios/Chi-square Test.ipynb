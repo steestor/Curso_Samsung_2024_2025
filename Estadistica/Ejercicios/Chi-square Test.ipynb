{
 "cells": [
  {
   "cell_type": "markdown",
   "metadata": {},
   "source": [
    "## Coding Exercise #0210"
   ]
  },
  {
   "cell_type": "markdown",
   "metadata": {},
   "source": [
    "### 1. Chi-squared Tests:"
   ]
  },
  {
   "cell_type": "code",
   "execution_count": 1,
   "metadata": {},
   "outputs": [],
   "source": [
    "import pandas as pd\n",
    "import numpy as np\n",
    "import scipy.stats as st"
   ]
  },
  {
   "cell_type": "markdown",
   "metadata": {},
   "source": [
    "#### 1.1. For one way table:"
   ]
  },
  {
   "cell_type": "markdown",
   "metadata": {},
   "source": [
    "Supongamos que tenemos una tabla de frecuencias de *color de ojos* de 592 adultos\n",
    "Realicemos las pruebas de Chi-cuadrado"
   ]
  },
  {
   "cell_type": "code",
   "execution_count": 2,
   "metadata": {},
   "outputs": [
    {
     "data": {
      "text/plain": [
       "Brown    220\n",
       "Blue     215\n",
       "Hazel     93\n",
       "Green     64\n",
       "dtype: int64"
      ]
     },
     "execution_count": 2,
     "metadata": {},
     "output_type": "execute_result"
    }
   ],
   "source": [
    "# Data.\n",
    "data = np.array([220, 215, 93,64])\n",
    "eye = pd.Series(data,index=['Brown','Blue','Hazel','Green'])\n",
    "eye"
   ]
  },
  {
   "cell_type": "code",
   "execution_count": 3,
   "metadata": {},
   "outputs": [
    {
     "data": {
      "text/plain": [
       "Brown    0.371622\n",
       "Blue     0.363176\n",
       "Hazel    0.157095\n",
       "Green    0.108108\n",
       "dtype: float64"
      ]
     },
     "execution_count": 3,
     "metadata": {},
     "output_type": "execute_result"
    }
   ],
   "source": [
    "# Table of proportions.\n",
    "eye/eye.sum()"
   ]
  },
  {
   "cell_type": "code",
   "execution_count": 4,
   "metadata": {},
   "outputs": [
    {
     "data": {
      "text/plain": [
       "Power_divergenceResult(statistic=133.47297297297297, pvalue=9.650879774148268e-29)"
      ]
     },
     "execution_count": 4,
     "metadata": {},
     "output_type": "execute_result"
    }
   ],
   "source": [
    "# Comparar con el modelo por defecto de frecuencias iguales.\n",
    "# Concluimos que los datos y el modelo proporcionado no coinciden.\n",
    "st.chisquare(eye)"
   ]
  },
  {
   "cell_type": "code",
   "execution_count": 5,
   "metadata": {},
   "outputs": [
    {
     "data": {
      "text/plain": [
       "Power_divergenceResult(statistic=133.47297297297297, pvalue=9.650879774148268e-29)"
      ]
     },
     "execution_count": 5,
     "metadata": {},
     "output_type": "execute_result"
    }
   ],
   "source": [
    "# Comparar con el modelo proporcionado por el usuario.\n",
    "# De nuevo, este modelo corresponde a las frecuencias iguales.\n",
    "# Concluimos que los datos y el modelo proporcionado no coinciden.\n",
    "my_model = len(eye)*[np.mean(eye)]\n",
    "st.chisquare(f_obs=eye,f_exp = my_model)"
   ]
  },
  {
   "cell_type": "code",
   "execution_count": 6,
   "metadata": {},
   "outputs": [
    {
     "data": {
      "text/plain": [
       "Power_divergenceResult(statistic=4.06265356265356, pvalue=0.25477767063672113)"
      ]
     },
     "execution_count": 6,
     "metadata": {},
     "output_type": "execute_result"
    }
   ],
   "source": [
    "# Comparar con el modelo proporcionado por el usuario.\n",
    "# Se proporciona un modelo más realista.\n",
    "# Concluimos que los datos y el modelo proporcionado coinciden.\n",
    "my_model = eye.sum()*np.array([0.40,0.33,0.15,0.12])\n",
    "st.chisquare(f_obs=eye,f_exp = my_model )"
   ]
  },
  {
   "cell_type": "markdown",
   "metadata": {},
   "source": [
    "#### 1.2. For two way table:"
   ]
  },
  {
   "cell_type": "markdown",
   "metadata": {},
   "source": [
    "Supongamos que tenemos una tabla de contingencia de *color de ojos* frente a *color de pelo* de 592 adultos <br>.\n",
    "Realicemos la prueba de Chi-cuadrado para la independencia"
   ]
  },
  {
   "cell_type": "code",
   "execution_count": 7,
   "metadata": {},
   "outputs": [
    {
     "data": {
      "text/html": [
       "<div>\n",
       "<style scoped>\n",
       "    .dataframe tbody tr th:only-of-type {\n",
       "        vertical-align: middle;\n",
       "    }\n",
       "\n",
       "    .dataframe tbody tr th {\n",
       "        vertical-align: top;\n",
       "    }\n",
       "\n",
       "    .dataframe thead th {\n",
       "        text-align: right;\n",
       "    }\n",
       "</style>\n",
       "<table border=\"1\" class=\"dataframe\">\n",
       "  <thead>\n",
       "    <tr style=\"text-align: right;\">\n",
       "      <th></th>\n",
       "      <th>Brown</th>\n",
       "      <th>Blue</th>\n",
       "      <th>Hazel</th>\n",
       "      <th>Green</th>\n",
       "    </tr>\n",
       "  </thead>\n",
       "  <tbody>\n",
       "    <tr>\n",
       "      <th>Black</th>\n",
       "      <td>68</td>\n",
       "      <td>20</td>\n",
       "      <td>15</td>\n",
       "      <td>5</td>\n",
       "    </tr>\n",
       "    <tr>\n",
       "      <th>Brown</th>\n",
       "      <td>119</td>\n",
       "      <td>84</td>\n",
       "      <td>54</td>\n",
       "      <td>29</td>\n",
       "    </tr>\n",
       "    <tr>\n",
       "      <th>Red</th>\n",
       "      <td>26</td>\n",
       "      <td>17</td>\n",
       "      <td>14</td>\n",
       "      <td>14</td>\n",
       "    </tr>\n",
       "    <tr>\n",
       "      <th>Blonde</th>\n",
       "      <td>7</td>\n",
       "      <td>94</td>\n",
       "      <td>10</td>\n",
       "      <td>16</td>\n",
       "    </tr>\n",
       "  </tbody>\n",
       "</table>\n",
       "</div>"
      ],
      "text/plain": [
       "        Brown  Blue  Hazel  Green\n",
       "Black      68    20     15      5\n",
       "Brown     119    84     54     29\n",
       "Red        26    17     14     14\n",
       "Blonde      7    94     10     16"
      ]
     },
     "execution_count": 7,
     "metadata": {},
     "output_type": "execute_result"
    }
   ],
   "source": [
    "# Data.\n",
    "# Row label    = hair color.\n",
    "# Column label = eye color. \n",
    "data_eye = {'Brown': [68,119,26,7], 'Blue':[20,84,17,94], 'Hazel':[15,54,14,10], 'Green':[5, 29, 14,16]}\n",
    "data = pd.DataFrame(data_eye,index=['Black','Brown','Red','Blonde'])\n",
    "data"
   ]
  },
  {
   "cell_type": "code",
   "execution_count": 8,
   "metadata": {},
   "outputs": [
    {
     "data": {
      "text/plain": [
       "Chi2ContingencyResult(statistic=138.28984162600824, pvalue=2.325286787098839e-25, dof=9, expected_freq=array([[ 40.13513514,  39.22297297,  16.96621622,  11.67567568],\n",
       "       [106.28378378, 103.86824324,  44.92905405,  30.91891892],\n",
       "       [ 26.38513514,  25.78547297,  11.15371622,   7.67567568],\n",
       "       [ 47.19594595,  46.12331081,  19.95101351,  13.72972973]]))"
      ]
     },
     "execution_count": 8,
     "metadata": {},
     "output_type": "execute_result"
    }
   ],
   "source": [
    "# Estadística de prueba, valor p, grado de libertad, tabla de frecuencias esperadas.\n",
    "# Concluimos que el color de ojos y el color de pelo no son independientes.\n",
    "st.chi2_contingency(data)"
   ]
  },
  {
   "cell_type": "markdown",
   "metadata": {},
   "source": [
    "Suppose we have a contingency table of the *room class* vs *survived* from RMS Titanic. <br>\n",
    "Let us carry out the Chi-squared test for independence."
   ]
  },
  {
   "cell_type": "code",
   "execution_count": 9,
   "metadata": {},
   "outputs": [
    {
     "data": {
      "text/html": [
       "<div>\n",
       "<style scoped>\n",
       "    .dataframe tbody tr th:only-of-type {\n",
       "        vertical-align: middle;\n",
       "    }\n",
       "\n",
       "    .dataframe tbody tr th {\n",
       "        vertical-align: top;\n",
       "    }\n",
       "\n",
       "    .dataframe thead th {\n",
       "        text-align: right;\n",
       "    }\n",
       "</style>\n",
       "<table border=\"1\" class=\"dataframe\">\n",
       "  <thead>\n",
       "    <tr style=\"text-align: right;\">\n",
       "      <th></th>\n",
       "      <th>Yes</th>\n",
       "      <th>No</th>\n",
       "    </tr>\n",
       "  </thead>\n",
       "  <tbody>\n",
       "    <tr>\n",
       "      <th>1st</th>\n",
       "      <td>122</td>\n",
       "      <td>203</td>\n",
       "    </tr>\n",
       "    <tr>\n",
       "      <th>2nd</th>\n",
       "      <td>167</td>\n",
       "      <td>118</td>\n",
       "    </tr>\n",
       "    <tr>\n",
       "      <th>3rd</th>\n",
       "      <td>528</td>\n",
       "      <td>178</td>\n",
       "    </tr>\n",
       "    <tr>\n",
       "      <th>Crew</th>\n",
       "      <td>673</td>\n",
       "      <td>212</td>\n",
       "    </tr>\n",
       "  </tbody>\n",
       "</table>\n",
       "</div>"
      ],
      "text/plain": [
       "      Yes   No\n",
       "1st   122  203\n",
       "2nd   167  118\n",
       "3rd   528  178\n",
       "Crew  673  212"
      ]
     },
     "execution_count": 9,
     "metadata": {},
     "output_type": "execute_result"
    }
   ],
   "source": [
    "# Data.\n",
    "# Row label    = room class.\n",
    "# Column label = survived. \n",
    "data_survived = {'Yes':[122, 167, 528, 673], 'No':[203,118,178,212]}\n",
    "data = pd.DataFrame(data_survived,index=['1st','2nd','3rd','Crew'])\n",
    "data"
   ]
  },
  {
   "cell_type": "code",
   "execution_count": 10,
   "metadata": {},
   "outputs": [
    {
     "data": {
      "text/plain": [
       "Chi2ContingencyResult(statistic=190.40110361683327, pvalue=4.999927529868003e-41, dof=3, expected_freq=array([[220.01363017, 104.98636983],\n",
       "       [192.93502953,  92.06497047],\n",
       "       [477.93730123, 228.06269877],\n",
       "       [599.11403907, 285.88596093]]))"
      ]
     },
     "execution_count": 10,
     "metadata": {},
     "output_type": "execute_result"
    }
   ],
   "source": [
    "# Estadística de prueba, valor p, grado de libertad, tabla de frecuencias esperadas.\n",
    "# Concluimos que la clase de habitación y sobrevivió no son independientes.\n",
    "st.chi2_contingency(data)"
   ]
  },
  {
   "cell_type": "code",
   "execution_count": null,
   "metadata": {},
   "outputs": [],
   "source": []
  }
 ],
 "metadata": {
  "kernelspec": {
   "display_name": "Python 3 (ipykernel)",
   "language": "python",
   "name": "python3"
  },
  "language_info": {
   "codemirror_mode": {
    "name": "ipython",
    "version": 3
   },
   "file_extension": ".py",
   "mimetype": "text/x-python",
   "name": "python",
   "nbconvert_exporter": "python",
   "pygments_lexer": "ipython3",
   "version": "3.11.7"
  }
 },
 "nbformat": 4,
 "nbformat_minor": 4
}
