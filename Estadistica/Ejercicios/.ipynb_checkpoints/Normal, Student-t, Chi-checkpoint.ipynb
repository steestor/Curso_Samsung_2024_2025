{
 "cells": [
  {
   "cell_type": "markdown",
   "metadata": {},
   "source": [
    "## Coding Exercise #0204"
   ]
  },
  {
   "cell_type": "markdown",
   "metadata": {},
   "source": [
    "### 1. Quantile:"
   ]
  },
  {
   "cell_type": "code",
   "execution_count": null,
   "metadata": {},
   "outputs": [],
   "source": [
    "import scipy.stats as st\n",
    "import numpy as np"
   ]
  },
  {
   "cell_type": "markdown",
   "metadata": {},
   "source": [
    "#### 1.1. Standard Normal:"
   ]
  },
  {
   "cell_type": "code",
   "execution_count": null,
   "metadata": {},
   "outputs": [],
   "source": [
    "# Standard Normal corresponds to mu = 0 and sigma = 1.\n",
    "mu = 0\n",
    "sigma = 1"
   ]
  },
  {
   "cell_type": "code",
   "execution_count": null,
   "metadata": {},
   "outputs": [],
   "source": [
    "# Quantile at alpha = 0.95\n",
    "# This is useful when calculating 90% confidence interval.\n",
    "alpha = 0.95\n",
    "st.norm.ppf(alpha, loc = mu , scale = sigma)"
   ]
  },
  {
   "cell_type": "code",
   "execution_count": null,
   "metadata": {},
   "outputs": [],
   "source": [
    "# Quantile at alpha = 0.975\n",
    "# This is useful when calculating 95% confidence interval.\n",
    "alpha = 0.975\n",
    "st.norm.ppf(alpha, loc = mu , scale = sigma)"
   ]
  },
  {
   "cell_type": "markdown",
   "metadata": {},
   "source": [
    "#### 1.2. Student-t:"
   ]
  },
  {
   "cell_type": "code",
   "execution_count": null,
   "metadata": {},
   "outputs": [],
   "source": [
    "# Quantiles at alpha = 0.95 with changing degree of freedom.\n",
    "alpha=0.95\n",
    "for df in [10,50,100,2000,100000]:\n",
    "    val = st.t.ppf(alpha,df)\n",
    "    print( 'Degree of Freedom = %7d,  Quantile = %10f' %(df,val))"
   ]
  },
  {
   "cell_type": "code",
   "execution_count": null,
   "metadata": {},
   "outputs": [],
   "source": [
    "# Quantiles at alpha = 0.975 with changing degree of freedom.\n",
    "alpha=0.95\n",
    "alpha=0.975\n",
    "for df in [10,50,100,2000,100000]:\n",
    "    val = st.t.ppf(alpha,df)\n",
    "    print( 'Degree of Freedom = %7d,  Quantile = %10f' %(df,val))"
   ]
  },
  {
   "cell_type": "markdown",
   "metadata": {},
   "source": [
    "#### 1.3. Chi-square:"
   ]
  },
  {
   "cell_type": "code",
   "execution_count": null,
   "metadata": {},
   "outputs": [],
   "source": [
    "# P(X <= 8) with degree of freedom = 5.\n",
    "df = 5\n",
    "st.chi2.cdf(8, df)"
   ]
  },
  {
   "cell_type": "code",
   "execution_count": null,
   "metadata": {},
   "outputs": [],
   "source": [
    "# Quantile at alpha = 0.843764373 with degree of freedom = 5\n",
    "df = 5\n",
    "alpha = 0.843764373\n",
    "st.chi2.ppf(alpha, df)"
   ]
  },
  {
   "cell_type": "markdown",
   "metadata": {},
   "source": [
    "*So, have verified that the Quantile is indeed an inverse function of the CDF.*"
   ]
  },
  {
   "cell_type": "code",
   "execution_count": null,
   "metadata": {},
   "outputs": [],
   "source": []
  }
 ],
 "metadata": {
  "kernelspec": {
   "display_name": "Python 3 (ipykernel)",
   "language": "python",
   "name": "python3"
  },
  "language_info": {
   "codemirror_mode": {
    "name": "ipython",
    "version": 3
   },
   "file_extension": ".py",
   "mimetype": "text/x-python",
   "name": "python",
   "nbconvert_exporter": "python",
   "pygments_lexer": "ipython3",
   "version": "3.11.7"
  }
 },
 "nbformat": 4,
 "nbformat_minor": 4
}
