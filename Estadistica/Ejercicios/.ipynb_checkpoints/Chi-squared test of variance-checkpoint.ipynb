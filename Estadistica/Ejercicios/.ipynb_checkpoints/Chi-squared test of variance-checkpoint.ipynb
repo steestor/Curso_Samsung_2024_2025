{
 "cells": [
  {
   "cell_type": "markdown",
   "metadata": {},
   "source": [
    "## Coding Exercise #0211"
   ]
  },
  {
   "cell_type": "markdown",
   "metadata": {},
   "source": [
    "### 1. Chi-squared test of variance:"
   ]
  },
  {
   "cell_type": "code",
   "execution_count": 1,
   "metadata": {},
   "outputs": [],
   "source": [
    "import pandas as pd\n",
    "import numpy as np\n",
    "import scipy.stats as st\n",
    "import os"
   ]
  },
  {
   "cell_type": "code",
   "execution_count": 2,
   "metadata": {},
   "outputs": [],
   "source": [
    "# Simulate the data.\n",
    "np.random.seed(1234)\n",
    "n = 20\n",
    "mu = 10\n",
    "sigma = 2\n",
    "x = np.random.randn(n)*sigma + mu  \n",
    "ssq = x.var(ddof=1)                                  # s^2"
   ]
  },
  {
   "cell_type": "markdown",
   "metadata": {},
   "source": [
    "#### 1.1. Using the acceptance range (region):"
   ]
  },
  {
   "cell_type": "code",
   "execution_count": 3,
   "metadata": {},
   "outputs": [
    {
     "name": "stdout",
     "output_type": "stream",
     "text": [
      "Test statistic : 23.067557 \n"
     ]
    },
    {
     "data": {
      "text/plain": [
       "{'low': 8.906516481987971, 'high': 32.85232686172969}"
      ]
     },
     "execution_count": 3,
     "metadata": {},
     "output_type": "execute_result"
    }
   ],
   "source": [
    "# Test statistic.\n",
    "sigma0sq = 2**2                                      # simga_0^2\n",
    "test_stat = (n-1)*ssq/sigma0sq                       \n",
    "print(\"Test statistic : %f \" % test_stat)\n",
    "# Obtain the acceptance range as a dictionary object.\n",
    "acceptance_range = {'low': st.chi2.ppf(0.025,n-1), 'high': st.chi2.ppf(0.975,n-1)}\n",
    "acceptance_range\n",
    "# As the test statistic belongs to the acceptance range, we conclude that the s^2 = simga_0^2."
   ]
  },
  {
   "cell_type": "markdown",
   "metadata": {},
   "source": [
    "#### 1.2. Using the p-value:"
   ]
  },
  {
   "cell_type": "code",
   "execution_count": 4,
   "metadata": {},
   "outputs": [
    {
     "data": {
      "text/plain": [
       "0.23437934469820776"
      ]
     },
     "execution_count": 4,
     "metadata": {},
     "output_type": "execute_result"
    }
   ],
   "source": [
    "# Right tail.\n",
    "p_value1 = 1 - st.chi2.cdf(test_stat,n-1)\n",
    "p_value1"
   ]
  },
  {
   "cell_type": "code",
   "execution_count": 5,
   "metadata": {},
   "outputs": [
    {
     "data": {
      "text/plain": [
       "0.7656206553017922"
      ]
     },
     "execution_count": 5,
     "metadata": {},
     "output_type": "execute_result"
    }
   ],
   "source": [
    "# Left tail.\n",
    "p_value2 = st.chi2.cdf(test_stat,n-1)\n",
    "p_value2"
   ]
  },
  {
   "cell_type": "code",
   "execution_count": 6,
   "metadata": {},
   "outputs": [
    {
     "data": {
      "text/plain": [
       "0.4687586893964155"
      ]
     },
     "execution_count": 6,
     "metadata": {},
     "output_type": "execute_result"
    }
   ],
   "source": [
    "# Two tail.\n",
    "p_value3 = 2*p_value1\n",
    "p_value3"
   ]
  },
  {
   "cell_type": "code",
   "execution_count": null,
   "metadata": {},
   "outputs": [],
   "source": []
  }
 ],
 "metadata": {
  "kernelspec": {
   "display_name": "Python 3 (ipykernel)",
   "language": "python",
   "name": "python3"
  },
  "language_info": {
   "codemirror_mode": {
    "name": "ipython",
    "version": 3
   },
   "file_extension": ".py",
   "mimetype": "text/x-python",
   "name": "python",
   "nbconvert_exporter": "python",
   "pygments_lexer": "ipython3",
   "version": "3.10.11"
  }
 },
 "nbformat": 4,
 "nbformat_minor": 2
}
