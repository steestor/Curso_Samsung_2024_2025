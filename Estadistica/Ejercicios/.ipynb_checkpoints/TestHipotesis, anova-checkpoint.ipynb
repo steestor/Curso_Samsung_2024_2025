{
 "cells": [
  {
   "cell_type": "markdown",
   "metadata": {},
   "source": [
    "## Coding Exercise #0208"
   ]
  },
  {
   "cell_type": "markdown",
   "metadata": {},
   "source": [
    "###  1. Hypothesis Test of the Means:"
   ]
  },
  {
   "cell_type": "markdown",
   "metadata": {},
   "source": [
    "#### 1.1. One sample t-test:"
   ]
  },
  {
   "cell_type": "code",
   "execution_count": 1,
   "metadata": {},
   "outputs": [],
   "source": [
    "import numpy as np\n",
    "import scipy.stats as st"
   ]
  },
  {
   "cell_type": "code",
   "execution_count": 2,
   "metadata": {},
   "outputs": [],
   "source": [
    "# Simular una muestra x con distribución Normal.\n",
    "# mu = 3, sigma = 2, n = 10.\n",
    "n = 10\n",
    "mu = 3\n",
    "sigma = 2\n",
    "np.random.seed(1234)\n",
    "x = np.random.randn(n)*sigma + mu"
   ]
  },
  {
   "cell_type": "markdown",
   "metadata": {},
   "source": [
    "**Two tail test:**"
   ]
  },
  {
   "cell_type": "code",
   "execution_count": 3,
   "metadata": {},
   "outputs": [
    {
     "data": {
      "text/plain": [
       "TtestResult(statistic=3.8682023385794677, pvalue=0.0037991794351627216, df=9)"
      ]
     },
     "execution_count": 3,
     "metadata": {},
     "output_type": "execute_result"
    }
   ],
   "source": [
    "# Usando la función ttest_1samp() de la librería SciPy.\n",
    "# Comparar la media con 0.\n",
    "mu_0 = 0\n",
    "st.ttest_1samp(x, mu_0)"
   ]
  },
  {
   "cell_type": "code",
   "execution_count": 4,
   "metadata": {},
   "outputs": [
    {
     "data": {
      "text/plain": [
       "0.003799179435162836"
      ]
     },
     "execution_count": 4,
     "metadata": {},
     "output_type": "execute_result"
    }
   ],
   "source": [
    "# Usando la fórmula de la clase.\n",
    "# Compara la media con 0.\n",
    "mu_0 = 0\n",
    "x_mean = x.mean()                                      # Sample mean.\n",
    "SEM = x.std(ddof=1)/np.sqrt(n)                         # Standard error of the mean.\n",
    "p_value = (1-st.t.cdf((x_mean-mu_0)/SEM,df=n-1))*2\n",
    "p_value"
   ]
  },
  {
   "cell_type": "code",
   "execution_count": 5,
   "metadata": {},
   "outputs": [
    {
     "data": {
      "text/plain": [
       "0.03722962101247096"
      ]
     },
     "execution_count": 5,
     "metadata": {},
     "output_type": "execute_result"
    }
   ],
   "source": [
    "# Usando la fórmula de la clase.\n",
    "# Compara la media con 1.\n",
    "mu_0 = 1\n",
    "p_value = (1-st.t.cdf((x_mean-mu_0)/SEM,df=n-1))*2         # Use the same x_mean and SEM as above.\n",
    "p_value"
   ]
  },
  {
   "cell_type": "code",
   "execution_count": 6,
   "metadata": {},
   "outputs": [
    {
     "data": {
      "text/plain": [
       "0.33606746944255295"
      ]
     },
     "execution_count": 6,
     "metadata": {},
     "output_type": "execute_result"
    }
   ],
   "source": [
    "# Usando la fórmula de la clase.\n",
    "# Compara la media con 2.\n",
    "mu_0 = 2\n",
    "p_value = (1-st.t.cdf((x_mean-mu_0)/SEM,df=n-1))*2         # Use the same x_mean and SEM as above.\n",
    "p_value"
   ]
  },
  {
   "cell_type": "markdown",
   "metadata": {},
   "source": [
    "**Right tail test:**"
   ]
  },
  {
   "cell_type": "code",
   "execution_count": 7,
   "metadata": {},
   "outputs": [
    {
     "data": {
      "text/plain": [
       "0.001899589717581418"
      ]
     },
     "execution_count": 7,
     "metadata": {},
     "output_type": "execute_result"
    }
   ],
   "source": [
    "# Using the formula from the lecture.\n",
    "# Compare the mean with 0.\n",
    "mu_0 = 0\n",
    "p_value = (1-st.t.cdf((x_mean-mu_0)/SEM,df=n-1))           # Use the same x_mean and SEM as above.\n",
    "p_value"
   ]
  },
  {
   "cell_type": "code",
   "execution_count": 8,
   "metadata": {},
   "outputs": [
    {
     "data": {
      "text/plain": [
       "0.01861481050623548"
      ]
     },
     "execution_count": 8,
     "metadata": {},
     "output_type": "execute_result"
    }
   ],
   "source": [
    "# Using the formula from the lecture.\n",
    "# Compare the mean with 1.\n",
    "mu_0 = 1\n",
    "p_value = (1-st.t.cdf((x_mean-mu_0)/SEM,df=n-1))           # Use the same x_mean and SEM as above.\n",
    "p_value"
   ]
  },
  {
   "cell_type": "code",
   "execution_count": 9,
   "metadata": {},
   "outputs": [
    {
     "data": {
      "text/plain": [
       "0.16803373472127647"
      ]
     },
     "execution_count": 9,
     "metadata": {},
     "output_type": "execute_result"
    }
   ],
   "source": [
    "# Using the formula from the lecture.\n",
    "# Compare the mean with 2.\n",
    "mu_0 = 2\n",
    "p_value = (1-st.t.cdf((x_mean-mu_0)/SEM,df=n-1))           # Use the same x_mean and SEM as above.\n",
    "p_value"
   ]
  },
  {
   "cell_type": "markdown",
   "metadata": {},
   "source": [
    "**Left tail test:**"
   ]
  },
  {
   "cell_type": "code",
   "execution_count": 10,
   "metadata": {},
   "outputs": [
    {
     "data": {
      "text/plain": [
       "0.9981004102824186"
      ]
     },
     "execution_count": 10,
     "metadata": {},
     "output_type": "execute_result"
    }
   ],
   "source": [
    "# Using the formula from the lecture.\n",
    "# Compare the mean with 0.\n",
    "mu_0 = 0\n",
    "p_value = st.t.cdf((x_mean-mu_0)/SEM,df=n-1)              # Use the same x_mean and SEM as above.\n",
    "p_value"
   ]
  },
  {
   "cell_type": "code",
   "execution_count": 11,
   "metadata": {},
   "outputs": [
    {
     "data": {
      "text/plain": [
       "0.9813851894937645"
      ]
     },
     "execution_count": 11,
     "metadata": {},
     "output_type": "execute_result"
    }
   ],
   "source": [
    "# Using the formula from the lecture.\n",
    "# Compare the mean with 1.\n",
    "mu_0 = 1\n",
    "p_value = st.t.cdf((x_mean-mu_0)/SEM,df=n-1)              # Use the same x_mean and SEM as above.\n",
    "p_value"
   ]
  },
  {
   "cell_type": "code",
   "execution_count": 12,
   "metadata": {},
   "outputs": [
    {
     "data": {
      "text/plain": [
       "0.8319662652787235"
      ]
     },
     "execution_count": 12,
     "metadata": {},
     "output_type": "execute_result"
    }
   ],
   "source": [
    "# Using the formula from the lecture.\n",
    "# Compare the mean with 2.\n",
    "mu_0 = 2\n",
    "p_value = st.t.cdf((x_mean-mu_0)/SEM,df=n-1)              # Use the same x_mean and SEM as above.\n",
    "p_value"
   ]
  },
  {
   "cell_type": "markdown",
   "metadata": {},
   "source": [
    "#### 1.2. Independent two sample t-test:"
   ]
  },
  {
   "cell_type": "code",
   "execution_count": 13,
   "metadata": {},
   "outputs": [],
   "source": [
    "# Simulate two samples x1 and x2 with Normal distribution.\n",
    "# mu1 = 3, sigma1 = 2, n1= 10.\n",
    "# mu2 = 5, sigma2 = 3, n2= 20\n",
    "n1 = 10\n",
    "n2 = 20\n",
    "mu1 = 3\n",
    "mu2 = 5\n",
    "sigma1 = 2\n",
    "sigma2 = 3\n",
    "x1 = np.random.randn(n1)*sigma1 + mu1\n",
    "x2 = np.random.randn(n2)*sigma2 + mu2"
   ]
  },
  {
   "cell_type": "code",
   "execution_count": 14,
   "metadata": {},
   "outputs": [
    {
     "data": {
      "text/plain": [
       "Ttest_indResult(statistic=-2.870701133767877, pvalue=0.009090146778647546)"
      ]
     },
     "execution_count": 14,
     "metadata": {},
     "output_type": "execute_result"
    }
   ],
   "source": [
    "# Using dirrectly the dataset.\n",
    "# Assume different variances.\n",
    "# Two tail test.\n",
    "st.ttest_ind(x1,x2,equal_var=False)                                       "
   ]
  },
  {
   "cell_type": "code",
   "execution_count": 15,
   "metadata": {},
   "outputs": [
    {
     "data": {
      "text/plain": [
       "Ttest_indResult(statistic=-2.870701133767877, pvalue=0.009090146778647546)"
      ]
     },
     "execution_count": 15,
     "metadata": {},
     "output_type": "execute_result"
    }
   ],
   "source": [
    "# Using the statistic calculated with the dataset.\n",
    "# Assume different variances.\n",
    "# Two tail test.\n",
    "x1_mean = x1.mean()\n",
    "x2_mean = x2.mean()\n",
    "s1 = x1.std(ddof=1)\n",
    "s2 = x2.std(ddof=1)\n",
    "st.ttest_ind_from_stats(x1_mean,s1,n1,x2_mean,s2,n2,equal_var=False)    "
   ]
  },
  {
   "cell_type": "markdown",
   "metadata": {},
   "source": [
    "#### 1.3. Paired two sample t-test:"
   ]
  },
  {
   "cell_type": "code",
   "execution_count": 16,
   "metadata": {},
   "outputs": [],
   "source": [
    "# Simulate two samples with Normal distribution.\n",
    "# Notice that the x2 is created by adding some 'noise' to the x1.\n",
    "# So,'one to one' relation is established.\n",
    "n = 10\n",
    "x1 = np.random.randn(n)*5 + 3\n",
    "x2 = x1 + np.random.randn(n)*1 + 1"
   ]
  },
  {
   "cell_type": "code",
   "execution_count": 17,
   "metadata": {},
   "outputs": [
    {
     "data": {
      "text/plain": [
       "TtestResult(statistic=-3.2467018903823366, pvalue=0.0100502680325701, df=9)"
      ]
     },
     "execution_count": 17,
     "metadata": {},
     "output_type": "execute_result"
    }
   ],
   "source": [
    "# Using the ttest_rel() function from the SciPy library. \n",
    "# Two tail test.\n",
    "st.ttest_rel(x1,x2)"
   ]
  },
  {
   "cell_type": "code",
   "execution_count": 18,
   "metadata": {},
   "outputs": [
    {
     "data": {
      "text/plain": [
       "Ttest_indResult(statistic=-0.523719559914853, pvalue=0.6069034633660737)"
      ]
     },
     "execution_count": 18,
     "metadata": {},
     "output_type": "execute_result"
    }
   ],
   "source": [
    "# Compare with the indepdent two sample t-test on the same dataset. \n",
    "# The p-value is completely diffetent!\n",
    "st.ttest_ind(x1,x2,equal_var=False)  "
   ]
  },
  {
   "cell_type": "markdown",
   "metadata": {},
   "source": [
    "#### 1.4. ANOVA:"
   ]
  },
  {
   "cell_type": "markdown",
   "metadata": {},
   "source": [
    "There are three groups of students. The data corresponds to the test scores. Determine whether there is any significant difference in the group test scores."
   ]
  },
  {
   "cell_type": "code",
   "execution_count": 19,
   "metadata": {},
   "outputs": [],
   "source": [
    "# Data.\n",
    "x1 = np.array([82,93,61,74,69,70,53])\n",
    "x2 = np.array([71,62,85,94,78,66,71])\n",
    "x3 = np.array([64,73,87,91,56,78,87])"
   ]
  },
  {
   "cell_type": "code",
   "execution_count": 20,
   "metadata": {},
   "outputs": [
    {
     "name": "stdout",
     "output_type": "stream",
     "text": [
      "Test statistic  : 0.283726 \n",
      "p-value         : 0.756278 \n"
     ]
    }
   ],
   "source": [
    "# Using the f_onway() function from the SciPy library.\n",
    "res=st.f_oneway(x1,x2,x3)\n",
    "print(\"Test statistic  : %f \" % res[0] )\n",
    "print(\"p-value         : %f \" % res[1] )"
   ]
  },
  {
   "cell_type": "code",
   "execution_count": null,
   "metadata": {},
   "outputs": [],
   "source": []
  }
 ],
 "metadata": {
  "kernelspec": {
   "display_name": "Python 3 (ipykernel)",
   "language": "python",
   "name": "python3"
  },
  "language_info": {
   "codemirror_mode": {
    "name": "ipython",
    "version": 3
   },
   "file_extension": ".py",
   "mimetype": "text/x-python",
   "name": "python",
   "nbconvert_exporter": "python",
   "pygments_lexer": "ipython3",
   "version": "3.11.7"
  }
 },
 "nbformat": 4,
 "nbformat_minor": 4
}
