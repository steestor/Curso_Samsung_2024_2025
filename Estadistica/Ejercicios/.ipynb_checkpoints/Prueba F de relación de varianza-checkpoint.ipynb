{
 "cells": [
  {
   "cell_type": "markdown",
   "metadata": {},
   "source": [
    "## Coding Exercise #0212"
   ]
  },
  {
   "cell_type": "markdown",
   "metadata": {},
   "source": [
    "### 1. F test of variance ratio:"
   ]
  },
  {
   "cell_type": "code",
   "execution_count": 1,
   "metadata": {},
   "outputs": [],
   "source": [
    "import pandas as pd\n",
    "import numpy as np\n",
    "import scipy.stats as st\n",
    "import os"
   ]
  },
  {
   "cell_type": "code",
   "execution_count": 2,
   "metadata": {},
   "outputs": [],
   "source": [
    "# Simulate the data.\n",
    "np.random.seed(1234)\n",
    "n1 = 25\n",
    "n2 = 20\n",
    "n3 = 30\n",
    "x1 = np.random.randn(n1)*2 + 10              # mu=10, sigma=2.  \n",
    "x2 = np.random.randn(n2)*4 - 5               # mu=-5, sigma=4.  \n",
    "x3 = np.random.randn(n3)*2 + 50              # mu=50, sigma=2.  \n",
    "ssq_1 = x1.var(ddof=1)                       # s1^2.                              \n",
    "ssq_2 = x2.var(ddof=1)                       # s2^2.\n",
    "ssq_3 = x3.var(ddof=1)                       # s3^2."
   ]
  },
  {
   "cell_type": "code",
   "execution_count": 3,
   "metadata": {},
   "outputs": [
    {
     "name": "stdout",
     "output_type": "stream",
     "text": [
      "s1^2 = 4.264041\n",
      "s2^2 = 16.174581\n",
      "s3^2 = 3.543988\n"
     ]
    }
   ],
   "source": [
    "# Print out the sample variances.\n",
    "print(\"s1^2 = %f\" % ssq_1)\n",
    "print(\"s2^2 = %f\" % ssq_2)\n",
    "print(\"s3^2 = %f\" % ssq_3)"
   ]
  },
  {
   "cell_type": "markdown",
   "metadata": {},
   "source": [
    "#### 1.1. Using the p-value:"
   ]
  },
  {
   "cell_type": "code",
   "execution_count": 4,
   "metadata": {},
   "outputs": [
    {
     "data": {
      "text/plain": [
       "0.002514298584073593"
      ]
     },
     "execution_count": 4,
     "metadata": {},
     "output_type": "execute_result"
    }
   ],
   "source": [
    "# Two tail test for 2 vs 1.\n",
    "test_stat = ssq_2/ssq_1                             # Larger sample variance to the numerator! \n",
    "p_value = 2*(1 - st.f.cdf(test_stat, n2-1, n1-1))   \n",
    "p_value"
   ]
  },
  {
   "cell_type": "code",
   "execution_count": 5,
   "metadata": {},
   "outputs": [
    {
     "data": {
      "text/plain": [
       "0.0012571492920367966"
      ]
     },
     "execution_count": 5,
     "metadata": {},
     "output_type": "execute_result"
    }
   ],
   "source": [
    "# Right tail test for 2 vs 1.\n",
    "p_value = 1 - st.f.cdf(test_stat, n2-1, n1-1)       \n",
    "p_value"
   ]
  },
  {
   "cell_type": "code",
   "execution_count": 6,
   "metadata": {},
   "outputs": [
    {
     "data": {
      "text/plain": [
       "0.6291925258409772"
      ]
     },
     "execution_count": 6,
     "metadata": {},
     "output_type": "execute_result"
    }
   ],
   "source": [
    "# Two tail test for 1 vs 3.\n",
    "test_stat = ssq_1/ssq_3                             # Larger sample variance to the numerator!\n",
    "p_value = 2*(1 - st.f.cdf(test_stat, n1-1, n3-1))   \n",
    "p_value"
   ]
  },
  {
   "cell_type": "code",
   "execution_count": 7,
   "metadata": {},
   "outputs": [
    {
     "data": {
      "text/plain": [
       "0.3145962629204886"
      ]
     },
     "execution_count": 7,
     "metadata": {},
     "output_type": "execute_result"
    }
   ],
   "source": [
    "# Right tail test for 1 vs 3.\n",
    "p_value = 1 - st.f.cdf(test_stat, n1-1, n3-1)       \n",
    "p_value"
   ]
  },
  {
   "cell_type": "markdown",
   "metadata": {},
   "source": [
    "*NOTE: As the F distribution is assymetric, we made the test statistic placing the larger sample variance in the numerator. In this way, we are always using the right tail of the F distribution.*"
   ]
  },
  {
   "cell_type": "code",
   "execution_count": null,
   "metadata": {},
   "outputs": [],
   "source": []
  }
 ],
 "metadata": {
  "kernelspec": {
   "display_name": "Python 3 (ipykernel)",
   "language": "python",
   "name": "python3"
  },
  "language_info": {
   "codemirror_mode": {
    "name": "ipython",
    "version": 3
   },
   "file_extension": ".py",
   "mimetype": "text/x-python",
   "name": "python",
   "nbconvert_exporter": "python",
   "pygments_lexer": "ipython3",
   "version": "3.10.11"
  }
 },
 "nbformat": 4,
 "nbformat_minor": 2
}
