{
 "cells": [
  {
   "cell_type": "code",
   "execution_count": 70,
   "id": "2fa42b1e-add7-4308-8dca-0e71cde54e72",
   "metadata": {},
   "outputs": [
    {
     "name": "stdout",
     "output_type": "stream",
     "text": [
      "La característica más correlacionada es: worst concave points\n",
      "Su coeficiente de correlación es: 0.7936\n"
     ]
    }
   ],
   "source": [
    "import numpy as np \n",
    "import pandas as pd\n",
    "from sklearn.datasets import load_breast_cancer\n",
    "\n",
    "data = load_breast_cancer()\n",
    "df = pd.DataFrame(data.data, columns=data.feature_names)\n",
    "df = df.assign(target=pd.Series(1 - data.target))\n",
    "\n",
    "correlaciones = df.corr()['target']\n",
    "correlaciones_ordenadas = correlaciones.abs().sort_values(ascending=False)\n",
    "\n",
    "# Ahora encontraremos la característica más correlacionada (excluyendo 'target')\n",
    "mas_corr = correlaciones_ordenadas.index[1]\n",
    "\n",
    "# Ahora obtenemos el coeficiente de correlación\n",
    "coef_corr = correlaciones[mas_corr]\n",
    "\n",
    "print(f\"La característica más correlacionada es: {mas_corr}\")\n",
    "print(f\"Su coeficiente de correlación es: {coef_corr:.4f}\")"
   ]
  }
 ],
 "metadata": {
  "kernelspec": {
   "display_name": "Python 3 (ipykernel)",
   "language": "python",
   "name": "python3"
  },
  "language_info": {
   "codemirror_mode": {
    "name": "ipython",
    "version": 3
   },
   "file_extension": ".py",
   "mimetype": "text/x-python",
   "name": "python",
   "nbconvert_exporter": "python",
   "pygments_lexer": "ipython3",
   "version": "3.11.7"
  }
 },
 "nbformat": 4,
 "nbformat_minor": 5
}
