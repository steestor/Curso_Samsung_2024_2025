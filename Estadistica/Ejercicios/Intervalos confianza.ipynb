{
 "cells": [
  {
   "cell_type": "markdown",
   "metadata": {},
   "source": [
    "## Coding Exercise #0205"
   ]
  },
  {
   "cell_type": "markdown",
   "metadata": {},
   "source": [
    "### 1. Interval Estimation of the Mean:"
   ]
  },
  {
   "cell_type": "code",
   "execution_count": 1,
   "metadata": {},
   "outputs": [],
   "source": [
    "import numpy as np\n",
    "import scipy.stats as st"
   ]
  },
  {
   "cell_type": "code",
   "execution_count": 2,
   "metadata": {},
   "outputs": [],
   "source": [
    "# x contiene una muestra.\n",
    "# n = tamaño de la muestra.\n",
    "x = np.array([25,24,24,27,29,31,28,24,25,26,25,18,30,28,23,26,27,23,16,20,22,22,25,24, 24,25,25,27,26,30,25,25,26,26,25,24])\n",
    "n = len(x)"
   ]
  },
  {
   "cell_type": "code",
   "execution_count": 3,
   "metadata": {},
   "outputs": [],
   "source": [
    "# SEM = Error estándar de la media.\n",
    "# Para hacer una estimación insesgada de la desviación estándar, fijamos ddof = 1. \n",
    "x_mean = x.mean()\n",
    "SEM = x.std(ddof=1)/np.sqrt(n*1.0)"
   ]
  },
  {
   "cell_type": "markdown",
   "metadata": {},
   "source": [
    "#### 1.1 90% Confidence Interval:"
   ]
  },
  {
   "cell_type": "code",
   "execution_count": 4,
   "metadata": {},
   "outputs": [],
   "source": [
    "# Usando los cuantiles aproximados de la Normal Estándar.\n",
    "(x_mean - 1.645*SEM, x_mean + 1.645*SEM)"
   ]
  },
  {
   "cell_type": "code",
   "execution_count": 5,
   "metadata": {},
   "outputs": [],
   "source": [
    "# Usando los cuantiles exactos de la Normal Estándar.\n",
    "(x_mean - st.norm.ppf(0.95,loc=0,scale=1)*SEM, x_mean + st.norm.ppf(0.95,loc=0,scale=1)*SEM)"
   ]
  },
  {
   "cell_type": "code",
   "execution_count": 6,
   "metadata": {},
   "outputs": [],
   "source": [
    " # Usando la función interval() de la librería SciPy (Standard Normal). \n",
    "st.norm.interval(0.9, loc = x_mean, scale = SEM )"
   ]
  },
  {
   "cell_type": "code",
   "execution_count": 7,
   "metadata": {},
   "outputs": [],
   "source": [
    "# Usando los cuantiles exactos de la t de Student.\n",
    "(x_mean - st.t.ppf(0.95,df=n-1)*SEM, x_mean + st.t.ppf(0.95,df=n-1)*SEM)"
   ]
  },
  {
   "cell_type": "code",
   "execution_count": 8,
   "metadata": {},
   "outputs": [],
   "source": [
    "# Usando la función interval() de la librería SciPy (Student-t).\n",
    "st.t.interval(0.9, df = n-1, loc = x_mean, scale = SEM )"
   ]
  },
  {
   "cell_type": "markdown",
   "metadata": {},
   "source": [
    "#### 1.2. 95% Confidence Interval:"
   ]
  },
  {
   "cell_type": "code",
   "execution_count": 9,
   "metadata": {},
   "outputs": [],
   "source": [
    "# Usando los cuantiles aproximados de la Normal Estándar.\n",
    "(x_mean - 1.96*SEM, x_mean + 1.96*SEM)"
   ]
  },
  {
   "cell_type": "code",
   "execution_count": 10,
   "metadata": {},
   "outputs": [],
   "source": [
    "# Usando los cuantiles exactos de la Normal Estándar.\n",
    "(x_mean - st.norm.ppf(0.975,loc=0,scale=1)*SEM, x_mean + st.norm.ppf(0.975,loc=0,scale=1)*SEM)"
   ]
  },
  {
   "cell_type": "code",
   "execution_count": 11,
   "metadata": {},
   "outputs": [],
   "source": [
    "# Usando la función interval() de la librería SciPy (Standard Normal). \n",
    "st.norm.interval(0.95, loc = x_mean, scale = SEM )"
   ]
  },
  {
   "cell_type": "code",
   "execution_count": 12,
   "metadata": {},
   "outputs": [],
   "source": [
    "# Usando los cuantiles exactos de la t de Student.\n",
    "(x_mean - st.t.ppf(0.975,df=n-1)*SEM, x_mean + st.t.ppf(0.975,df=n-1)*SEM)"
   ]
  },
  {
   "cell_type": "code",
   "execution_count": 13,
   "metadata": {},
   "outputs": [],
   "source": [
    "# Usando la función interval() de la librería SciPy (Student-t).\n",
    "st.t.interval(0.95, df = n-1, loc = x_mean, scale = SEM )"
   ]
  },
  {
   "cell_type": "markdown",
   "metadata": {},
   "source": [
    "#### 1.3. 99% Confidence Interval:"
   ]
  },
  {
   "cell_type": "code",
   "execution_count": 14,
   "metadata": {},
   "outputs": [],
   "source": [
    "# Usando los cuantiles aproximados de la Normal Estándar.\n",
    "(x_mean - 2.576*SEM, x_mean + 2.576*SEM)"
   ]
  },
  {
   "cell_type": "code",
   "execution_count": 15,
   "metadata": {},
   "outputs": [],
   "source": [
    "# Usando los cuantiles exactos de la Normal Estándar.\n",
    "(x_mean - st.norm.ppf(0.995,loc=0,scale=1)*SEM, x_mean + st.norm.ppf(0.995,loc=0,scale=1)*SEM)"
   ]
  },
  {
   "cell_type": "code",
   "execution_count": 16,
   "metadata": {},
   "outputs": [],
   "source": [
    "# Usando la función interval() de la librería SciPy (Standard Normal). \n",
    "st.norm.interval(0.99, loc = x_mean, scale = SEM )"
   ]
  },
  {
   "cell_type": "code",
   "execution_count": 17,
   "metadata": {},
   "outputs": [],
   "source": [
    "# Usando los cuantiles exactos de la t de Student..\n",
    "(x_mean - st.t.ppf(0.995,df=n-1)*SEM, x_mean + st.t.ppf(0.995,df=n-1)*SEM)"
   ]
  },
  {
   "cell_type": "code",
   "execution_count": 18,
   "metadata": {},
   "outputs": [],
   "source": [
    "# Usando la función interval() de la librería SciPy (Student-t).\n",
    "st.t.interval(0.99, df = n-1, loc = x_mean, scale = SEM )"
   ]
  },
  {
   "cell_type": "code",
   "execution_count": null,
   "metadata": {},
   "outputs": [],
   "source": []
  },
  {
   "cell_type": "code",
   "execution_count": null,
   "metadata": {},
   "outputs": [],
   "source": []
  }
 ],
 "metadata": {
  "kernelspec": {
   "display_name": "Python 3 (ipykernel)",
   "language": "python",
   "name": "python3"
  },
  "language_info": {
   "codemirror_mode": {
    "name": "ipython",
    "version": 3
   },
   "file_extension": ".py",
   "mimetype": "text/x-python",
   "name": "python",
   "nbconvert_exporter": "python",
   "pygments_lexer": "ipython3",
   "version": "3.11.7"
  }
 },
 "nbformat": 4,
 "nbformat_minor": 4
}
