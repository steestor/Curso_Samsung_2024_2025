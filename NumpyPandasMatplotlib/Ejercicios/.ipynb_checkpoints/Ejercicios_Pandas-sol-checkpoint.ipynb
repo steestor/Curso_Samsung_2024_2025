{
 "cells": [
  {
   "cell_type": "markdown",
   "id": "006b629d-0c21-4c1c-875a-569308ec12c2",
   "metadata": {},
   "source": [
    "# Ejercicios de la Librería Pandas"
   ]
  },
  {
   "cell_type": "markdown",
   "id": "7b560e8a-be8c-4d37-929f-86567490257f",
   "metadata": {},
   "source": [
    "## Ejercicio 1\n",
    "\n",
    "Escribir un programa que pregunte al usuario por las ventas de un rango de años y muestre por pantalla una serie con los datos de las ventas indexada por los años, antes y después de aplicarles un descuento del 10%."
   ]
  },
  {
   "cell_type": "code",
   "execution_count": null,
   "id": "b0fdc51f-e66c-4f29-a43f-96b5d4fa8eb5",
   "metadata": {},
   "outputs": [],
   "source": [
    "import pandas as pd\n",
    "\n",
    "inicio = int(input('Introduce el año inicial: '))\n",
    "fin = int(input('Introduce el año final: '))\n",
    "ventas = {}\n",
    "for i in range(inicio, fin+1):\n",
    "    ventas[i] = float(input('Introduce las ventas del año ' + str(i) +': '))\n",
    "ventas = pd.Series(ventas)\n",
    "print('Ventas\\n', ventas)\n",
    "print('Ventas con descuento\\n', ventas*0.9)"
   ]
  },
  {
   "cell_type": "markdown",
   "id": "ee1b5c01-d4a2-4047-ac47-686ff86f99c4",
   "metadata": {},
   "source": [
    "## Ejercicio 2\n",
    "\n",
    "Escribir una función que reciba un diccionario con las notas de los alumno de un curso y devuelva una serie con la nota mínima, la máxima, media y la desviación típica."
   ]
  },
  {
   "cell_type": "code",
   "execution_count": null,
   "id": "3c02634e-f232-43eb-bd03-061084f30d8e",
   "metadata": {},
   "outputs": [],
   "source": [
    "import pandas as pd\n",
    "\n",
    "def estadistica_notas(notas):\n",
    "    notas = pd.Series(notas)\n",
    "    estadisticos = pd.Series([notas.min(), notas.max(), notas.mean(), notas.std()], index=['Min', 'Max', 'Media', 'Desviación típica'])\n",
    "    return estadisticos\n",
    "\n",
    "notas = {'Juan':9, 'María':6.5, 'Pedro':4, 'Carmen': 8.5, 'Luis': 5}\n",
    "print(estadistica_notas(notas))"
   ]
  },
  {
   "cell_type": "markdown",
   "id": "f6f3db15-b0c6-488d-8744-22d6a88f04c6",
   "metadata": {},
   "source": [
    "## Ejercicio 3\n",
    "\n",
    "Escribir una función que reciba un diccionario con las notas de los alumnos de un curso y devuelva una serie con las notas de los alumnos aprobados ordenadas de mayor a menor."
   ]
  },
  {
   "cell_type": "code",
   "execution_count": null,
   "id": "91d51c47-e785-47da-9c26-2886c979ac3d",
   "metadata": {},
   "outputs": [],
   "source": [
    "import pandas as pd\n",
    "\n",
    "def aprobados(notas):\n",
    "    notas = pd.Series(notas)\n",
    "    return notas[notas >= 5].sort_values(ascending=False)\n",
    "\n",
    "notas = {'Juan':9, 'María':6.5, 'Pedro':4, 'Carmen': 8.5, 'Luis': 5}\n",
    "print(aprobados(notas))"
   ]
  },
  {
   "cell_type": "markdown",
   "id": "7e5c0132-8e4a-4af3-9264-6706ec3fb447",
   "metadata": {},
   "source": [
    "## Ejercicio 4\n",
    "Escribir programa que genere y muestre por pantalla un DataFrame con los datos de la tabla siguiente:\n",
    "\n",
    "| Mes     | Ventas | Gastos |\n",
    "|---------|-------:|-------:|\n",
    "| Enero   |  30500 |  22000 |\n",
    "| Febrero |  35600 |  23400 |\n",
    "| Marzo   |  28300 |  18100 |\n",
    "| Abril   |  33900 |  20700 |"
   ]
  },
  {
   "cell_type": "code",
   "execution_count": null,
   "id": "d8140595-9904-4f64-be2f-2a10f3b65149",
   "metadata": {},
   "outputs": [],
   "source": [
    "import pandas as pd\n",
    "\n",
    "datos = {'Mes':['Enero', 'Febrero', 'Marzo', 'Abril'], 'Ventas':[30500, 35600, 28300, 33900], 'Gastos':[22000, 23400, 18100, 20700]}\n",
    "contabilidad = pd.DataFrame(datos)\n",
    "print(contabilidad)"
   ]
  },
  {
   "cell_type": "markdown",
   "id": "50947e43-ad78-4143-9ff3-350d714bd1bd",
   "metadata": {},
   "source": [
    "## Ejercicio 5\n",
    "\n",
    "Escribir una función que reciba un DataFrame con el formato del ejercicio anterior, una lista de meses, y devuelva el balance (ventas - gastos) total en los meses indicados."
   ]
  },
  {
   "cell_type": "code",
   "execution_count": null,
   "id": "7a49a573-6a68-4202-b6cc-4b8958d534e6",
   "metadata": {},
   "outputs": [],
   "source": [
    "import pandas as pd\n",
    "\n",
    "datos = {'Mes':['Enero', 'Febrero', 'Marzo', 'Abril'], 'Ventas':[30500, 35600, 28300, 33900], 'Gastos':[22000, 23400, 18100, 20700]}\n",
    "\n",
    "contabilidad = pd.DataFrame(datos)\n",
    "\n",
    "def balance(contabilidad, meses):\n",
    "    contabilidad['Balance'] = contabilidad.Ventas - contabilidad.Gastos\n",
    "    return contabilidad[contabilidad.Mes.isin(meses)].Balance.sum()\n",
    "\n",
    "print(balance(contabilidad, ['Enero','Marzo']))"
   ]
  },
  {
   "cell_type": "markdown",
   "id": "253086fa-e532-48d6-bad5-44cec67a6329",
   "metadata": {},
   "source": [
    "## Ejercicio 6\n",
    "\n",
    "El fichero [cotizacion.csv](https://aprendeconalf.es/docencia/python/ejercicios/soluciones/pandas/cotizacion.csv) contiene las cotizaciones de las empresas del IBEX35 con las siguientes columnas: nombre (nombre de la empresa), Final (precio de la acción al cierre de bolsa), Máximo (precio máximo de la acción durante la jornada), Mínimo (precio mínimo de la acción durante la jornada), volumen (Volumen al cierre de bolsa), Efectivo (capitalización al cierre en miles de euros). Construir una función que construya un DataFrame a partir del un fichero con el formato anterior y devuelva otro DataFrame con el mínimo, el máximo y la media de dada columna."
   ]
  },
  {
   "cell_type": "code",
   "execution_count": null,
   "id": "68d64fcc-7977-420c-92c0-e046d4f8025b",
   "metadata": {},
   "outputs": [],
   "source": [
    "import pandas as pd\n",
    "\n",
    "def resumen_cotizaciones(fichero):\n",
    "    df = pd.read_csv(fichero, sep=';', decimal=',', thousands='.', index_col=0)\n",
    "    return pd.DataFrame([df.min(), df.max(), df.mean()], index=['Mínimo', 'Máximo', 'Media'])\n",
    "\n",
    "resumen_cotizaciones('cotizacion.csv')"
   ]
  },
  {
   "cell_type": "markdown",
   "id": "8abd0d8d-8e80-40e4-bfdd-f652858cd733",
   "metadata": {},
   "source": [
    "## Ejercicio 7\n",
    "\n",
    "El fichero [titanic.csv](https://aprendeconalf.es/docencia/python/ejercicios/soluciones/pandas/titanic.csv) contiene información sobre los pasajeros del Titanic. Escribir un programa con los siguientes requisitos:\n",
    "\n",
    "1. Generar un DataFrame con los datos del fichero.\n",
    "1. Mostrar por pantalla las dimensiones del DataFrame, el número de datos que contiene, los nombres de sus columnas y filas, los tipos de datos de las columnas, las 10 primeras filas y las 10 últimas filas\n",
    "1. Mostrar por pantalla los datos del pasajero con identificador 148.\n",
    "1. Mostrar por pantalla las filas pares del DataFrame.\n",
    "1. Mostrar por pantalla los nombres de las personas que iban en primera clase ordenadas alfabéticamente.\n",
    "1. Mostrar por pantalla el porcentaje de personas que sobrevivieron y murieron.\n",
    "1. Mostrar por pantalla el porcentaje de personas que sobrevivieron en cada clase.\n",
    "1. Eliminar del DataFrame los pasajeros con edad desconocida.\n",
    "1. Mostrar por pantalla la edad media de las mujeres que viajaban en cada clase.\n",
    "1. Añadir una nueva columna booleana para ver si el pasajero era menor de edad o no.\n",
    "1. Mostrar por pantalla el porcentaje de menores y mayores de edad que sobrevivieron en cada clase."
   ]
  },
  {
   "cell_type": "code",
   "execution_count": null,
   "id": "575ed5f9-bdc3-4f24-b928-6f6094f43a99",
   "metadata": {},
   "outputs": [],
   "source": [
    "import pandas as pd\n",
    "\n",
    "# Generar un DataFrame con los datos del fichero.\n",
    "titanic = pd.read_csv('https://raw.githubusercontent.com/asalber/asalber.github.io/master/python/ejercicios/soluciones/pandas/titanic.csv', index_col=0)\n",
    "\n",
    "print(titanic)"
   ]
  },
  {
   "cell_type": "code",
   "execution_count": null,
   "id": "d33c2d5f-a4b1-43f5-ba40-8f37cb4d0181",
   "metadata": {},
   "outputs": [],
   "source": [
    "# Mostrar por pantalla las dimensiones del DataFrame, el número de datos que contiene, los nombres de sus columnas y filas, los tipos de datos de las columnas,\n",
    "# las 10 primeras filas y las 10 últimas filas.\n",
    "print('Dimensiones:', titanic.shape)\n",
    "print('Número de elemntos:', titanic.size)\n",
    "print('Nombres de columnas:', titanic.columns)\n",
    "print('Nombres de filas:', titanic.index)\n",
    "print('Tipos de datos:\\n', titanic.dtypes)\n",
    "print('Primeras 10 filas:\\n', titanic.head(10))\n",
    "print('Últimas 10 filas:\\n', titanic.tail(10))"
   ]
  },
  {
   "cell_type": "code",
   "execution_count": null,
   "id": "f099f2c5-c354-4cd4-89c4-2b2af31380a1",
   "metadata": {},
   "outputs": [],
   "source": [
    "# Mostrar por pantalla los datos del pasajero con identificador 148\n",
    "print(titanic.loc[148])"
   ]
  },
  {
   "cell_type": "code",
   "execution_count": null,
   "id": "848b7360-8e35-456e-a5e5-ffb7ab404ce7",
   "metadata": {},
   "outputs": [],
   "source": [
    "# Mostrar por pantalla las filas pares del DataFrame.\n",
    "print(titanic.iloc[range(0,titanic.shape[0],2)])"
   ]
  },
  {
   "cell_type": "code",
   "execution_count": null,
   "id": "4ac3c27b-3fc1-43be-88aa-c3900a5b4bf1",
   "metadata": {},
   "outputs": [],
   "source": [
    "# Mostrar los nombres de las personas que iban en primera clase ordenadas alfabéticamente.\n",
    "print(titanic[titanic[\"Pclass\"]==1]['Name'].sort_values())"
   ]
  },
  {
   "cell_type": "code",
   "execution_count": null,
   "id": "af18c75a-4dff-4c54-9f2f-0b080fde6a33",
   "metadata": {},
   "outputs": [],
   "source": [
    "# Mostrar por pantalla el porcentaje de personas que sobrevivieron y murieron\n",
    "print(titanic['Survived'].value_counts()/titanic['Survived'].count() * 100)\n",
    "\n",
    "# Alternativa\n",
    "print(titanic['Survived'].value_counts(normalize=True) * 100)"
   ]
  },
  {
   "cell_type": "code",
   "execution_count": null,
   "id": "4fb3470c-c587-47fe-a3c6-463bbe336b7a",
   "metadata": {},
   "outputs": [],
   "source": [
    "#Mostrar por pantalla el porcentaje de personas que sobrevivieron en cada clase\n",
    "print(titanic.groupby('Pclass')['Survived'].value_counts(normalize=True))"
   ]
  },
  {
   "cell_type": "code",
   "execution_count": null,
   "id": "5d272ba2-ae7c-4e31-b983-85902c2e4864",
   "metadata": {},
   "outputs": [],
   "source": [
    "# Eliminar del DataFrame los pasajeros con edad desconocida.\n",
    "titanic.dropna(subset=['Age'])"
   ]
  },
  {
   "cell_type": "code",
   "execution_count": null,
   "id": "cf5d8819-d203-46ab-b0e3-3abffd289f6c",
   "metadata": {},
   "outputs": [],
   "source": [
    "# Mostrar la edad media de las mujeres que viajaban en cada clase.\n",
    "print(titanic.groupby(['Pclass','Sex'])['Age'].mean().unstack()['female'])"
   ]
  },
  {
   "cell_type": "code",
   "execution_count": null,
   "id": "02091ce6-474b-4859-a7f8-240ba989c123",
   "metadata": {},
   "outputs": [],
   "source": [
    "# Añadir una nueva columna booleana para ver si el pasajero era menor de edad o no.\n",
    "titanic['Young'] = titanic['Age'] < 18"
   ]
  },
  {
   "cell_type": "code",
   "execution_count": null,
   "id": "e52c43e3-f440-42bc-9a43-84d072b4a946",
   "metadata": {},
   "outputs": [],
   "source": [
    "# Mostrar el porcentaje de menores y mayores de edad que sobrevivieron en cada clase.\n",
    "print(titanic.groupby(['Pclass', 'Young'])['Survived'].value_counts(normalize = True) * 100)"
   ]
  }
 ],
 "metadata": {
  "kernelspec": {
   "display_name": "Python 3 (ipykernel)",
   "language": "python",
   "name": "python3"
  },
  "language_info": {
   "codemirror_mode": {
    "name": "ipython",
    "version": 3
   },
   "file_extension": ".py",
   "mimetype": "text/x-python",
   "name": "python",
   "nbconvert_exporter": "python",
   "pygments_lexer": "ipython3",
   "version": "3.7.11"
  }
 },
 "nbformat": 4,
 "nbformat_minor": 5
}
