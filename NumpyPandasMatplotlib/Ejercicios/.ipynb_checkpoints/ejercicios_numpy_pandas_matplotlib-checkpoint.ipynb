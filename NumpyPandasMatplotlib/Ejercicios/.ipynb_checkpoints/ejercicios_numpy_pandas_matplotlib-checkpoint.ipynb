{
 "cells": [
  {
   "cell_type": "markdown",
   "id": "b00f39ff",
   "metadata": {},
   "source": [
    "# Ejercicios con NumPy, Pandas y Matplotlib (y Seaborn)\n",
    "\n",
    "Este notebook contiene una serie de 10 ejercicios diseñados para practicar el uso de **NumPy**, **Pandas** y **Matplotlib** (con la opción de utilizar **Seaborn** en algunas visualizaciones).\n",
    "\n",
    "Cada ejercicio incluye una descripción del problema, y en celdas aparte podrás implementar las soluciones.\n"
   ]
  },
  {
   "cell_type": "markdown",
   "id": "117dad0d",
   "metadata": {},
   "source": [
    "\n",
    "## Ejercicio 1: Serie Temporal de Temperaturas Simuladas\n",
    "\n",
    "1. **Objetivo**: Crear y analizar una serie temporal de temperaturas diarias.\n",
    "2. **Enunciado**:\n",
    "   - Usa `numpy.random.normal(loc=20, scale=5, size=365)` para generar 365 datos aleatorios que simulen temperaturas diarias para un año, con una media de 20°C y una desviación estándar de 5°C.\n",
    "   - Usa `pd.date_range('2023-01-01', periods=365)` para crear una columna de fechas.\n",
    "   - Crea un DataFrame con Pandas que contenga las fechas y las temperaturas.\n",
    "   - Calcula la media, el valor mínimo y máximo mensual.\n",
    "   - Representa la serie temporal de las temperaturas usando `matplotlib` o `seaborn`.\n"
   ]
  },
  {
   "cell_type": "code",
   "execution_count": null,
   "id": "dc94b238",
   "metadata": {},
   "outputs": [],
   "source": []
  },
  {
   "cell_type": "markdown",
   "id": "93bf5479",
   "metadata": {},
   "source": [
    "\n",
    "## Ejercicio 2: Análisis del Dataset \"Iris\"\n",
    "\n",
    "1. **Objetivo**: Cargar y explorar el dataset de Iris.\n",
    "2. **Enunciado**:\n",
    "   - Carga el dataset de Iris desde `https://archive.ics.uci.edu/ml/machine-learning-databases/iris/iris.data`.\n",
    "   - Usa `pandas` para asignar nombres de columnas: ['sepal_length', 'sepal_width', 'petal_length', 'petal_width', 'species'].\n",
    "   - Calcula la media y la desviación estándar de cada especie para las columnas numéricas.\n",
    "   - Visualiza la distribución de cada característica numérica con un gráfico de histogramas y boxplots usando `seaborn` o `matplotlib`.\n"
   ]
  },
  {
   "cell_type": "code",
   "execution_count": null,
   "id": "27583530",
   "metadata": {},
   "outputs": [],
   "source": []
  },
  {
   "cell_type": "markdown",
   "id": "94b2ee0b-01d9-4da0-a75e-b40f087ee386",
   "metadata": {},
   "source": [
    "\n",
    "## Ejercicio 3: Análisis Exploratorio del Dataset \"Titanic\"\n",
    "\n",
    "1. **Objetivo**: Realizar un análisis exploratorio básico.\n",
    "2. **Enunciado**:\n",
    "   - Carga el dataset de Titanic desde `https://raw.githubusercontent.com/datasciencedojo/datasets/master/titanic.csv`.\n",
    "   - Usa `pandas` para explorar el dataset y calcular estadísticas descriptivas (media, mediana, etc.).\n",
    "   - Encuentra la proporción de sobrevivientes vs no sobrevivientes y visualízala con un gráfico de barras.\n",
    "   - Crea un gráfico de correlación entre las características numéricas usando `seaborn.heatmap`.\n"
   ]
  },
  {
   "cell_type": "code",
   "execution_count": null,
   "id": "57a9c4fd-15a6-4553-ad84-a6f907239058",
   "metadata": {},
   "outputs": [],
   "source": []
  },
  {
   "cell_type": "markdown",
   "id": "b0daa782-64ba-4dd0-b4ae-ffeb643039da",
   "metadata": {},
   "source": [
    "\n",
    "## Ejercicio 4: Análisis de Ventas Mensuales de una Tienda\n",
    "\n",
    "1. **Objetivo**: Simular y analizar ventas mensuales.\n",
    "2. **Enunciado**:\n",
    "   - Usa `numpy.random.normal(loc=100, scale=20, size=12)` para simular ventas mensuales de una tienda para un año (12 meses) con una media de 100 ventas y una desviación estándar de 20.\n",
    "   - Crea un DataFrame con las fechas correspondientes y los valores de ventas.\n",
    "   - Calcula la media y la desviación estándar de las ventas.\n",
    "   - Representa la serie de tiempo de las ventas usando `matplotlib`.\n"
   ]
  },
  {
   "cell_type": "code",
   "execution_count": null,
   "id": "f961863a-534a-4795-984b-3170cf7112bb",
   "metadata": {},
   "outputs": [],
   "source": []
  },
  {
   "cell_type": "markdown",
   "id": "cd6cd3d8-05c7-4b54-b695-19dbce3f98fa",
   "metadata": {},
   "source": [
    "\n",
    "## Ejercicio 5: Comparación de Modelos de Clasificación en el Dataset \"Wine\"\n",
    "\n",
    "1. **Objetivo**: Comparar diferentes modelos de clasificación visualmente.\n",
    "2. **Enunciado**:\n",
    "   - Carga el dataset de vino desde `https://archive.ics.uci.edu/ml/machine-learning-databases/wine/wine.data`.\n",
    "   - Usa `pandas` para explorar los datos y preparar las columnas de características y etiquetas.\n",
    "   - Usa `numpy` para dividir el dataset en conjuntos de entrenamiento y prueba.\n",
    "   - Representa la precisión de diferentes modelos de clasificación (Regresión Logística, K-Vecinos) usando gráficos de barras con `matplotlib`.\n"
   ]
  },
  {
   "cell_type": "code",
   "execution_count": null,
   "id": "c211d36f-9ad4-471f-940e-8ceb504b8998",
   "metadata": {},
   "outputs": [],
   "source": []
  },
  {
   "cell_type": "markdown",
   "id": "cfdd2754-c837-44dd-887c-52e37e1ac39a",
   "metadata": {},
   "source": [
    "\n",
    "## Ejercicio 6: Visualización de la Distribución de Propiedades de Viviendas (Dataset \"Boston\")\n",
    "\n",
    "1. **Objetivo**: Analizar la distribución de precios y características de viviendas.\n",
    "2. **Enunciado**:\n",
    "   - Carga el dataset de precios de vivienda de Boston desde `https://archive.ics.uci.edu/ml/machine-learning-databases/housing/housing.data`.\n",
    "   - Asigna nombres a las columnas según la descripción del dataset.\n",
    "   - Usa `pandas` para explorar la distribución de los precios de las viviendas.\n",
    "   - Visualiza la correlación entre el número de habitaciones y el precio con un gráfico de dispersión usando `matplotlib`.\n"
   ]
  },
  {
   "cell_type": "code",
   "execution_count": null,
   "id": "84ad9e49-d064-44c7-aaa0-85fbeb3451bf",
   "metadata": {},
   "outputs": [],
   "source": []
  },
  {
   "cell_type": "markdown",
   "id": "69645f18-3b2f-480d-9212-cb392577341f",
   "metadata": {},
   "source": [
    "\n",
    "## Ejercicio 7: Distribución Geográfica de Datos de Uber\n",
    "\n",
    "1. **Objetivo**: Visualizar datos geográficos con coordenadas.\n",
    "2. **Enunciado**:\n",
    "   - Carga los datos de Uber desde `https://raw.githubusercontent.com/fivethirtyeight/uber-tlc-foil-response/master/uber-trip-data/uber-raw-data-apr14.csv`.\n",
    "   - Usa `pandas` para explorar el dataset, enfocándote en las columnas de latitud y longitud.\n",
    "   - Usa `seaborn` para visualizar la densidad de puntos geográficos en un gráfico de calor sobre un mapa de Nueva York.\n"
   ]
  },
  {
   "cell_type": "code",
   "execution_count": null,
   "id": "39c050bc-e865-42cf-9e4c-00795c0c08a8",
   "metadata": {},
   "outputs": [],
   "source": []
  },
  {
   "cell_type": "markdown",
   "id": "5c9f8703",
   "metadata": {},
   "source": [
    "\n",
    "## Ejercicio 8: Análisis de Datos Meteorológicos\n",
    "\n",
    "1. **Objetivo**: Analizar un dataset de datos meteorológicos históricos.\n",
    "2. **Enunciado**:\n",
    "   - Carga los datos meteorológicos históricos desde `https://raw.githubusercontent.com/jbrownlee/Datasets/master/daily-min-temperatures.csv`.\n",
    "   - Usa `pandas` para calcular estadísticas mensuales (media, máximo, mínimo) de las temperaturas.\n",
    "   - Visualiza la serie temporal de temperaturas mínimas usando `matplotlib` y resalta los valores máximos y mínimos anuales.\n"
   ]
  },
  {
   "cell_type": "code",
   "execution_count": null,
   "id": "f06e1650",
   "metadata": {},
   "outputs": [],
   "source": []
  }
 ],
 "metadata": {
  "kernelspec": {
   "display_name": "Python 3 (ipykernel)",
   "language": "python",
   "name": "python3"
  },
  "language_info": {
   "codemirror_mode": {
    "name": "ipython",
    "version": 3
   },
   "file_extension": ".py",
   "mimetype": "text/x-python",
   "name": "python",
   "nbconvert_exporter": "python",
   "pygments_lexer": "ipython3",
   "version": "3.7.11"
  }
 },
 "nbformat": 4,
 "nbformat_minor": 5
}
