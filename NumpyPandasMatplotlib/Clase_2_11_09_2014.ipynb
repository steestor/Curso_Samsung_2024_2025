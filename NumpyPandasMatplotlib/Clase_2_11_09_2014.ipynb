{
 "cells": [
  {
   "cell_type": "code",
   "execution_count": 2,
   "id": "6062f559-4c3d-486d-9c33-c02f92921301",
   "metadata": {},
   "outputs": [],
   "source": [
    "# Pandas: Inspirado en los dataframes \n",
    "import pandas as pd\n",
    "import numpy as np"
   ]
  },
  {
   "cell_type": "code",
   "execution_count": 3,
   "id": "aa3ae493-f5a7-4b81-b332-7c9114be532c",
   "metadata": {},
   "outputs": [
    {
     "name": "stdout",
     "output_type": "stream",
     "text": [
      "0      Male\n",
      "1    Female\n",
      "2      Male\n",
      "3      Male\n",
      "4    Female\n",
      "5    Female\n",
      "dtype: object\n"
     ]
    }
   ],
   "source": [
    "# Creación de una serie\n",
    "serie1 = pd.Series([\"Male\",\"Female\",\"Male\",\"Male\",\"Female\",\"Female\"])\n",
    "print(serie1)"
   ]
  },
  {
   "cell_type": "code",
   "execution_count": 22,
   "id": "2d39cae3-fe7f-4d09-b8f5-de04022b97e6",
   "metadata": {},
   "outputs": [
    {
     "name": "stdout",
     "output_type": "stream",
     "text": [
      "0      Male\n",
      "1    Female\n",
      "2      Male\n",
      "3      Male\n",
      "4    Female\n",
      "5    Female\n",
      "dtype: object\n",
      "\n",
      "RangeIndex(start=0, stop=6, step=1)\n"
     ]
    }
   ],
   "source": [
    "# Creación de una serie a partir de un array de NumPy\n",
    "arrayNp = np.array([\"Male\",\"Female\",\"Male\",\"Male\",\"Female\",\"Female\"])\n",
    "serie2 = pd.Series(arrayNp)\n",
    "print(serie2, end=\"\\n\\n\")\n",
    "print(serie2.index)"
   ]
  },
  {
   "cell_type": "code",
   "execution_count": 64,
   "id": "d6db30de-acb8-4489-bc0b-f457f3a383e8",
   "metadata": {},
   "outputs": [
    {
     "name": "stdout",
     "output_type": "stream",
     "text": [
      "a     0\n",
      "b    10\n",
      "c    20\n",
      "d    30\n",
      "e    40\n",
      "dtype: int64\n"
     ]
    }
   ],
   "source": [
    "# Creación de una Serie con los índices que queramos\n",
    "serie = pd.Series([0,10,20,30,40], index=['a','b','c','d', 'e'])\n",
    "print(serie)"
   ]
  },
  {
   "cell_type": "code",
   "execution_count": 65,
   "id": "0274e299-987c-4c4e-9390-5f96a36eb740",
   "metadata": {},
   "outputs": [
    {
     "name": "stdout",
     "output_type": "stream",
     "text": [
      "b    10\n",
      "c    20\n",
      "dtype: int64\n"
     ]
    }
   ],
   "source": [
    "# Podemos hacer slicing de esa serie\n",
    "print(serie[1:3])"
   ]
  },
  {
   "cell_type": "code",
   "execution_count": null,
   "id": "ed50d6ac-c572-4d3c-9cfa-5032e5474908",
   "metadata": {},
   "outputs": [],
   "source": [
    "# Si sumamos, multiplicamos o dividimos 2 series distintas de pandas se crea una nueva serie resultante (solo con integers)\n",
    "# Se pueden sumar dos series de pandas con integers, la serie de panda resultante será la concatenación de ambas\n",
    "# Si sumamos dos series de pandas de bool, el True se interpretará como 1 y el False como 0 y se hará la operación matematica"
   ]
  },
  {
   "cell_type": "code",
   "execution_count": 70,
   "id": "f8b97385-cb78-4694-8152-bca28bc6dfdb",
   "metadata": {},
   "outputs": [
    {
     "name": "stdout",
     "output_type": "stream",
     "text": [
      "5\n",
      "1.25\n",
      "1.0\n",
      "2\n",
      "1\n",
      "0.5\n",
      "\n",
      "0    1\n",
      "1    1\n",
      "3    1\n",
      "2    2\n",
      "dtype: int64\n"
     ]
    }
   ],
   "source": [
    "serieP= pd.Series([1,1,2,1])\n",
    "\n",
    "# Podemos calcular la suma todos los valores de una serie:\n",
    "print(serieP.sum())\n",
    "\n",
    "# Podemos calcular el promedio\n",
    "print(serieP.mean())\n",
    "\n",
    "# Podemos calcular la mediana\n",
    "print(serieP.median())\n",
    "\n",
    "# Podemos calcular el máximo\n",
    "print(serieP.max())\n",
    "\n",
    "# Podemos calcular el mínimo\n",
    "print(serieP.min())\n",
    "\n",
    "# Podemos calcular la desviación estandar\n",
    "print(serieP.std(), end=\"\\n\\n\")\n",
    "\n",
    "# Podemos ordenar los valores\n",
    "print(serieP.sort_values())"
   ]
  },
  {
   "cell_type": "code",
   "execution_count": 77,
   "id": "0b1ea432-e92f-470c-8b50-fa30f98c8c45",
   "metadata": {},
   "outputs": [
    {
     "name": "stdout",
     "output_type": "stream",
     "text": [
      "0    15\n",
      "1    25\n",
      "2    35\n",
      "dtype: int64\n",
      "\n",
      "También funcionaría así:\n",
      "\n",
      "0    20\n",
      "1    30\n",
      "2    40\n",
      "dtype: int64\n"
     ]
    }
   ],
   "source": [
    "# Podemos aplicarle funciones a las series\n",
    "serieP = pd.Series([10,20,30])\n",
    "funcionSuma5 = lambda x: x+5\n",
    "\n",
    "serieP = serieP.apply(funcionSuma5)\n",
    "print(serieP, end=\"\\n\\n\")\n",
    "\n",
    "print(\"También funcionaría así:\", end=\"\\n\\n\")\n",
    "\n",
    "serieP = serieP.apply(lambda x: x+5)\n",
    "print(serieP)\n"
   ]
  },
  {
   "cell_type": "code",
   "execution_count": 18,
   "id": "f5801c2d-2aa4-4a77-af6e-2acfa9c56570",
   "metadata": {},
   "outputs": [
    {
     "name": "stdout",
     "output_type": "stream",
     "text": [
      "serie a partir del diccionario \n",
      "Female    3\n",
      "Male      5\n",
      "dtype: int64\n",
      "\n",
      "índices de la serie: \n",
      "Index(['Female', 'Male'], dtype='object')\n",
      "\n",
      "valores de la serie: \n",
      "[3 5]\n"
     ]
    }
   ],
   "source": [
    "# Creación de una serie a partir de un diccionario. Peculiaridad los indices no serán por defecto los numericos sino que seran la \"key\" del diccionario\n",
    "diccionario = { \"Female\": 3, \"Male\": 5}\n",
    "serie3 = pd.Series(diccionario)\n",
    "print(f\"serie a partir del diccionario \\n{serie3}\", end=\"\\n\\n\")\n",
    "print(f\"índices de la serie: \\n{serie3.index}\", end=\"\\n\\n\")\n",
    "print(f\"valores de la serie: \\n{serie3.values}\")\n"
   ]
  },
  {
   "cell_type": "code",
   "execution_count": 41,
   "id": "295cb9f5-e823-45be-a4ef-bb8c7eb06bc3",
   "metadata": {},
   "outputs": [
    {
     "name": "stdout",
     "output_type": "stream",
     "text": [
      "nombres    [Braund, Allen, Bonnel]\n",
      "edad                  [22, 35, 58]\n",
      "genero        [Male, Male, Female]\n",
      "dtype: object\n",
      "----------\n",
      "  nombres  edad  genero\n",
      "0  Braund    22    Male\n",
      "1   Allen    35    Male\n",
      "2  Bonnel    58  Female\n",
      "\n"
     ]
    },
    {
     "data": {
      "text/html": [
       "<div>\n",
       "<style scoped>\n",
       "    .dataframe tbody tr th:only-of-type {\n",
       "        vertical-align: middle;\n",
       "    }\n",
       "\n",
       "    .dataframe tbody tr th {\n",
       "        vertical-align: top;\n",
       "    }\n",
       "\n",
       "    .dataframe thead th {\n",
       "        text-align: right;\n",
       "    }\n",
       "</style>\n",
       "<table border=\"1\" class=\"dataframe\">\n",
       "  <thead>\n",
       "    <tr style=\"text-align: right;\">\n",
       "      <th></th>\n",
       "      <th>nombres</th>\n",
       "      <th>edad</th>\n",
       "      <th>genero</th>\n",
       "    </tr>\n",
       "  </thead>\n",
       "  <tbody>\n",
       "    <tr>\n",
       "      <th>0</th>\n",
       "      <td>Braund</td>\n",
       "      <td>22</td>\n",
       "      <td>Male</td>\n",
       "    </tr>\n",
       "    <tr>\n",
       "      <th>1</th>\n",
       "      <td>Allen</td>\n",
       "      <td>35</td>\n",
       "      <td>Male</td>\n",
       "    </tr>\n",
       "    <tr>\n",
       "      <th>2</th>\n",
       "      <td>Bonnel</td>\n",
       "      <td>58</td>\n",
       "      <td>Female</td>\n",
       "    </tr>\n",
       "  </tbody>\n",
       "</table>\n",
       "</div>"
      ],
      "text/plain": [
       "  nombres  edad  genero\n",
       "0  Braund    22    Male\n",
       "1   Allen    35    Male\n",
       "2  Bonnel    58  Female"
      ]
     },
     "execution_count": 41,
     "metadata": {},
     "output_type": "execute_result"
    }
   ],
   "source": [
    "# Cuando recibes una tabla con información para pasarla a panda primero debes de convertirla en un diccionario\n",
    "info = {\n",
    "    \"nombres\": [\"Braund\", \"Allen\", \"Bonnel\"],\n",
    "    \"edad\": [22,35,58],\n",
    "    \"genero\": [\"Male\", \"Male\", \"Female\"]\n",
    "}\n",
    "\n",
    "pandaInfo = pd.Series(info)\n",
    "print(pandaInfo)\n",
    "\n",
    "print(\"----------\")\n",
    "\n",
    "# Si queremos visualizarlo en modo de tabla deberemos de llamar al DataFrame\n",
    "# Cada una de las columnas del DataFrame será un \"Series\"\n",
    "pandaInfo = pd.DataFrame(info)\n",
    "print(pandaInfo)\n",
    "pandaInfo.name = \"info_personas\"\n",
    "print()\n",
    "pandaInfo"
   ]
  },
  {
   "cell_type": "code",
   "execution_count": 40,
   "id": "bbbed0a9-2a72-4829-ac0f-2693de63ce89",
   "metadata": {},
   "outputs": [
    {
     "name": "stdout",
     "output_type": "stream",
     "text": [
      "0    Braund\n",
      "1     Allen\n",
      "2    Bonnel\n",
      "Name: nombres, dtype: object\n"
     ]
    }
   ],
   "source": [
    "# Podemos acceder a las series del DataFrame a través de su \"key/columnName\"\n",
    "print(pandaInfo[\"nombres\"])"
   ]
  },
  {
   "cell_type": "code",
   "execution_count": 34,
   "id": "55952919-4ac3-4b29-8185-7512b9fa2b27",
   "metadata": {},
   "outputs": [
    {
     "name": "stdout",
     "output_type": "stream",
     "text": [
      "Braund\n"
     ]
    }
   ],
   "source": [
    "# Podemos acceder la primer nombre del DataFrame de la siguiente manera:\n",
    "print(pandaInfo[\"nombres\"][0])"
   ]
  },
  {
   "cell_type": "code",
   "execution_count": 38,
   "id": "be46f931-6e56-4516-a053-65b45ffe85b1",
   "metadata": {},
   "outputs": [
    {
     "name": "stdout",
     "output_type": "stream",
     "text": [
      "Index(['nombres', 'edad', 'genero'], dtype='object')\n",
      "\n",
      "RangeIndex(start=0, stop=3, step=1)\n"
     ]
    }
   ],
   "source": [
    "# En un Dataframes podemos acceder a columns que es similar a \"index\" en las \"Series\"\n",
    "print(pandaInfo.columns)\n",
    "print()\n",
    "print(pd.DataFrame([[1,2,3],[4,5,6],[7,8,9]]).columns)"
   ]
  },
  {
   "cell_type": "code",
   "execution_count": 56,
   "id": "bbfae19d-e0ef-4f41-b1fe-b6b1e006672b",
   "metadata": {},
   "outputs": [
    {
     "name": "stdout",
     "output_type": "stream",
     "text": [
      "Por valores:\n",
      "  nombres  edad  genero\n",
      "0  Braund    22    Male\n",
      "2  Bonnel    58  Female\n",
      "1   Allen    35    Male\n",
      "\n",
      "Por índice:\n",
      "  nombres  edad  genero\n",
      "2  Bonnel    58  Female\n",
      "1   Allen    35    Male\n",
      "0  Braund    22    Male\n"
     ]
    }
   ],
   "source": [
    "# Podemos ordenar la información del DataFrame por índice o por valores\n",
    "print(f\"Por valores:\\n{pandaInfo.sort_values(by='nombres', ascending=False)}\", end=\"\\n\\n\")\n",
    "\n",
    "print(f\"Por índice:\\n{pandaInfo.sort_index(ascending=False)}\")\n",
    "\n"
   ]
  },
  {
   "cell_type": "code",
   "execution_count": 62,
   "id": "3e74e4dc-a36c-4cb8-8dca-6308c8a9d365",
   "metadata": {},
   "outputs": [
    {
     "name": "stdout",
     "output_type": "stream",
     "text": [
      "['Braund' 'Allen' 'Bonnel']\n",
      "\n",
      "3\n",
      "\n",
      "nombres\n",
      "Braund    1\n",
      "Allen     1\n",
      "Bonnel    1\n",
      "Name: count, dtype: int64\n",
      "\n"
     ]
    }
   ],
   "source": [
    "# Podemos hacer que de una serie de DataFrame nos saque los valores únicos\n",
    "print(pandaInfo[\"nombres\"].unique(), end=\"\\n\\n\")\n",
    "# Podemos hacer que nos saque el número de valores únicos\n",
    "print(pandaInfo[\"nombres\"].nunique(), end=\"\\n\\n\")\n",
    "# Podemos hacer que nos cuente la cantidad de valores de una serie\n",
    "print(pandaInfo[\"nombres\"].value_counts(), end=\"\\n\\n\")"
   ]
  },
  {
   "cell_type": "code",
   "execution_count": null,
   "id": "13facd6b-f001-4613-88f5-290811d27ecd",
   "metadata": {},
   "outputs": [],
   "source": [
    "# Lectura de ficheros: pd.read_csv('data_iris.csv')"
   ]
  },
  {
   "cell_type": "code",
   "execution_count": 80,
   "id": "c2df13dd-a58b-440a-b00b-43e6d7e3183c",
   "metadata": {},
   "outputs": [
    {
     "data": {
      "text/html": [
       "<div>\n",
       "<style scoped>\n",
       "    .dataframe tbody tr th:only-of-type {\n",
       "        vertical-align: middle;\n",
       "    }\n",
       "\n",
       "    .dataframe tbody tr th {\n",
       "        vertical-align: top;\n",
       "    }\n",
       "\n",
       "    .dataframe thead th {\n",
       "        text-align: right;\n",
       "    }\n",
       "</style>\n",
       "<table border=\"1\" class=\"dataframe\">\n",
       "  <thead>\n",
       "    <tr style=\"text-align: right;\">\n",
       "      <th></th>\n",
       "      <th>nombres</th>\n",
       "      <th>edad</th>\n",
       "      <th>genero</th>\n",
       "    </tr>\n",
       "  </thead>\n",
       "  <tbody>\n",
       "    <tr>\n",
       "      <th>0</th>\n",
       "      <td>Jake</td>\n",
       "      <td>24</td>\n",
       "      <td>M</td>\n",
       "    </tr>\n",
       "    <tr>\n",
       "      <th>1</th>\n",
       "      <td>Jennifer</td>\n",
       "      <td>21</td>\n",
       "      <td>F</td>\n",
       "    </tr>\n",
       "    <tr>\n",
       "      <th>2</th>\n",
       "      <td>Paul</td>\n",
       "      <td>25</td>\n",
       "      <td>M</td>\n",
       "    </tr>\n",
       "    <tr>\n",
       "      <th>3</th>\n",
       "      <td>Andrew</td>\n",
       "      <td>29</td>\n",
       "      <td>M</td>\n",
       "    </tr>\n",
       "  </tbody>\n",
       "</table>\n",
       "</div>"
      ],
      "text/plain": [
       "    nombres  edad genero\n",
       "0      Jake    24      M\n",
       "1  Jennifer    21      F\n",
       "2      Paul    25      M\n",
       "3    Andrew    29      M"
      ]
     },
     "execution_count": 80,
     "metadata": {},
     "output_type": "execute_result"
    }
   ],
   "source": [
    "datos = {\n",
    "    \"nombres\": [\"Jake\", \"Jennifer\", \"Paul\", \"Andrew\"],\n",
    "    \"edad\": [24,21,25,29],\n",
    "    \"genero\": [\"M\",\"F\",\"M\",\"M\"],\n",
    "}\n",
    "\n",
    "datosDataFrame = pd.DataFrame(datos)\n",
    "datosDataFrame"
   ]
  },
  {
   "cell_type": "code",
   "execution_count": 81,
   "id": "6ff8fcb2-419d-4256-90a5-7b04bf6d1909",
   "metadata": {},
   "outputs": [
    {
     "data": {
      "text/html": [
       "<div>\n",
       "<style scoped>\n",
       "    .dataframe tbody tr th:only-of-type {\n",
       "        vertical-align: middle;\n",
       "    }\n",
       "\n",
       "    .dataframe tbody tr th {\n",
       "        vertical-align: top;\n",
       "    }\n",
       "\n",
       "    .dataframe thead th {\n",
       "        text-align: right;\n",
       "    }\n",
       "</style>\n",
       "<table border=\"1\" class=\"dataframe\">\n",
       "  <thead>\n",
       "    <tr style=\"text-align: right;\">\n",
       "      <th></th>\n",
       "      <th>nombres</th>\n",
       "      <th>edad</th>\n",
       "      <th>genero</th>\n",
       "    </tr>\n",
       "  </thead>\n",
       "  <tbody>\n",
       "    <tr>\n",
       "      <th>0</th>\n",
       "      <td>Jake</td>\n",
       "      <td>24</td>\n",
       "      <td>M</td>\n",
       "    </tr>\n",
       "    <tr>\n",
       "      <th>1</th>\n",
       "      <td>Jennifer</td>\n",
       "      <td>21</td>\n",
       "      <td>F</td>\n",
       "    </tr>\n",
       "    <tr>\n",
       "      <th>2</th>\n",
       "      <td>Paul</td>\n",
       "      <td>25</td>\n",
       "      <td>M</td>\n",
       "    </tr>\n",
       "    <tr>\n",
       "      <th>3</th>\n",
       "      <td>Andrew</td>\n",
       "      <td>29</td>\n",
       "      <td>M</td>\n",
       "    </tr>\n",
       "  </tbody>\n",
       "</table>\n",
       "</div>"
      ],
      "text/plain": [
       "    nombres  edad genero\n",
       "0      Jake    24      M\n",
       "1  Jennifer    21      F\n",
       "2      Paul    25      M\n",
       "3    Andrew    29      M"
      ]
     },
     "execution_count": 81,
     "metadata": {},
     "output_type": "execute_result"
    }
   ],
   "source": [
    "# Devuelve las primeras filas del dataframe\n",
    "datosDataFrame.head()"
   ]
  },
  {
   "cell_type": "code",
   "execution_count": 82,
   "id": "916c5424-2e2b-4b07-9a8c-27fdade5e3d0",
   "metadata": {},
   "outputs": [
    {
     "name": "stdout",
     "output_type": "stream",
     "text": [
      "<class 'pandas.core.frame.DataFrame'>\n",
      "RangeIndex: 4 entries, 0 to 3\n",
      "Data columns (total 3 columns):\n",
      " #   Column   Non-Null Count  Dtype \n",
      "---  ------   --------------  ----- \n",
      " 0   nombres  4 non-null      object\n",
      " 1   edad     4 non-null      int64 \n",
      " 2   genero   4 non-null      object\n",
      "dtypes: int64(1), object(2)\n",
      "memory usage: 228.0+ bytes\n"
     ]
    }
   ],
   "source": [
    "datosDataFrame.info()"
   ]
  },
  {
   "cell_type": "code",
   "execution_count": 83,
   "id": "2e330f45-35f3-4dac-86c2-5eca2b83d3e7",
   "metadata": {},
   "outputs": [
    {
     "data": {
      "text/html": [
       "<div>\n",
       "<style scoped>\n",
       "    .dataframe tbody tr th:only-of-type {\n",
       "        vertical-align: middle;\n",
       "    }\n",
       "\n",
       "    .dataframe tbody tr th {\n",
       "        vertical-align: top;\n",
       "    }\n",
       "\n",
       "    .dataframe thead th {\n",
       "        text-align: right;\n",
       "    }\n",
       "</style>\n",
       "<table border=\"1\" class=\"dataframe\">\n",
       "  <thead>\n",
       "    <tr style=\"text-align: right;\">\n",
       "      <th></th>\n",
       "      <th>nombres</th>\n",
       "      <th>edad</th>\n",
       "      <th>genero</th>\n",
       "    </tr>\n",
       "  </thead>\n",
       "  <tbody>\n",
       "    <tr>\n",
       "      <th>0</th>\n",
       "      <td>Jake</td>\n",
       "      <td>24</td>\n",
       "      <td>M</td>\n",
       "    </tr>\n",
       "    <tr>\n",
       "      <th>1</th>\n",
       "      <td>Jennifer</td>\n",
       "      <td>21</td>\n",
       "      <td>F</td>\n",
       "    </tr>\n",
       "    <tr>\n",
       "      <th>2</th>\n",
       "      <td>Paul</td>\n",
       "      <td>25</td>\n",
       "      <td>M</td>\n",
       "    </tr>\n",
       "    <tr>\n",
       "      <th>3</th>\n",
       "      <td>Andrew</td>\n",
       "      <td>29</td>\n",
       "      <td>M</td>\n",
       "    </tr>\n",
       "  </tbody>\n",
       "</table>\n",
       "</div>"
      ],
      "text/plain": [
       "    nombres  edad genero\n",
       "0      Jake    24      M\n",
       "1  Jennifer    21      F\n",
       "2      Paul    25      M\n",
       "3    Andrew    29      M"
      ]
     },
     "execution_count": 83,
     "metadata": {},
     "output_type": "execute_result"
    }
   ],
   "source": [
    "# Últimas filas del dataframe\n",
    "datosDataFrame.tail()"
   ]
  },
  {
   "cell_type": "code",
   "execution_count": 85,
   "id": "bbe5811e-bd0b-42a4-a156-627b1ca33f6e",
   "metadata": {},
   "outputs": [
    {
     "data": {
      "text/html": [
       "<div>\n",
       "<style scoped>\n",
       "    .dataframe tbody tr th:only-of-type {\n",
       "        vertical-align: middle;\n",
       "    }\n",
       "\n",
       "    .dataframe tbody tr th {\n",
       "        vertical-align: top;\n",
       "    }\n",
       "\n",
       "    .dataframe thead th {\n",
       "        text-align: right;\n",
       "    }\n",
       "</style>\n",
       "<table border=\"1\" class=\"dataframe\">\n",
       "  <thead>\n",
       "    <tr style=\"text-align: right;\">\n",
       "      <th></th>\n",
       "      <th>nombresMeh</th>\n",
       "      <th>La edad es un num</th>\n",
       "      <th>generoOk</th>\n",
       "    </tr>\n",
       "  </thead>\n",
       "  <tbody>\n",
       "    <tr>\n",
       "      <th>0</th>\n",
       "      <td>Jake</td>\n",
       "      <td>24</td>\n",
       "      <td>M</td>\n",
       "    </tr>\n",
       "    <tr>\n",
       "      <th>1</th>\n",
       "      <td>Jennifer</td>\n",
       "      <td>21</td>\n",
       "      <td>F</td>\n",
       "    </tr>\n",
       "    <tr>\n",
       "      <th>2</th>\n",
       "      <td>Paul</td>\n",
       "      <td>25</td>\n",
       "      <td>M</td>\n",
       "    </tr>\n",
       "    <tr>\n",
       "      <th>3</th>\n",
       "      <td>Andrew</td>\n",
       "      <td>29</td>\n",
       "      <td>M</td>\n",
       "    </tr>\n",
       "  </tbody>\n",
       "</table>\n",
       "</div>"
      ],
      "text/plain": [
       "  nombresMeh  La edad es un num generoOk\n",
       "0       Jake                 24        M\n",
       "1   Jennifer                 21        F\n",
       "2       Paul                 25        M\n",
       "3     Andrew                 29        M"
      ]
     },
     "execution_count": 85,
     "metadata": {},
     "output_type": "execute_result"
    }
   ],
   "source": [
    "# Vamos a intentar hacer un renombre de las columnas\n",
    "datosDataFrame.columns=[\"nombresMeh\", \"La edad es un num\", \"generoOk\"]\n",
    "datosDataFrame\n"
   ]
  },
  {
   "cell_type": "code",
   "execution_count": 86,
   "id": "27b55b54-2cc2-4c54-af9b-3d0feba3305b",
   "metadata": {},
   "outputs": [
    {
     "name": "stdout",
     "output_type": "stream",
     "text": [
      "  generoOk nombresMeh\n",
      "0        M       Jake\n",
      "1        F   Jennifer\n",
      "2        M       Paul\n",
      "3        M     Andrew\n"
     ]
    }
   ],
   "source": [
    "# Podemos coger un subconjunto del dataframe\n",
    "print(datosDataFrame[[\"generoOk\", \"nombresMeh\"]])"
   ]
  },
  {
   "cell_type": "code",
   "execution_count": 88,
   "id": "85c6b75d-7ed5-4516-9c68-6e54a392e139",
   "metadata": {},
   "outputs": [
    {
     "data": {
      "text/html": [
       "<div>\n",
       "<style scoped>\n",
       "    .dataframe tbody tr th:only-of-type {\n",
       "        vertical-align: middle;\n",
       "    }\n",
       "\n",
       "    .dataframe tbody tr th {\n",
       "        vertical-align: top;\n",
       "    }\n",
       "\n",
       "    .dataframe thead th {\n",
       "        text-align: right;\n",
       "    }\n",
       "</style>\n",
       "<table border=\"1\" class=\"dataframe\">\n",
       "  <thead>\n",
       "    <tr style=\"text-align: right;\">\n",
       "      <th></th>\n",
       "      <th>nombresMeh</th>\n",
       "      <th>La edad es un num</th>\n",
       "      <th>generoOk</th>\n",
       "    </tr>\n",
       "  </thead>\n",
       "  <tbody>\n",
       "    <tr>\n",
       "      <th>10</th>\n",
       "      <td>Jake</td>\n",
       "      <td>24</td>\n",
       "      <td>M</td>\n",
       "    </tr>\n",
       "    <tr>\n",
       "      <th>1</th>\n",
       "      <td>Jennifer</td>\n",
       "      <td>21</td>\n",
       "      <td>F</td>\n",
       "    </tr>\n",
       "    <tr>\n",
       "      <th>2</th>\n",
       "      <td>Paul</td>\n",
       "      <td>25</td>\n",
       "      <td>M</td>\n",
       "    </tr>\n",
       "    <tr>\n",
       "      <th>3</th>\n",
       "      <td>Andrew</td>\n",
       "      <td>29</td>\n",
       "      <td>M</td>\n",
       "    </tr>\n",
       "  </tbody>\n",
       "</table>\n",
       "</div>"
      ],
      "text/plain": [
       "   nombresMeh  La edad es un num generoOk\n",
       "10       Jake                 24        M\n",
       "1    Jennifer                 21        F\n",
       "2        Paul                 25        M\n",
       "3      Andrew                 29        M"
      ]
     },
     "execution_count": 88,
     "metadata": {},
     "output_type": "execute_result"
    }
   ],
   "source": [
    "# Podemos renombrar los indices de la siguiente manera:\n",
    "datosDataFrame.rename(index={0:10})\n"
   ]
  },
  {
   "cell_type": "code",
   "execution_count": 90,
   "id": "817560a0-011a-4753-b838-845bc89bca4f",
   "metadata": {},
   "outputs": [
    {
     "data": {
      "text/html": [
       "<div>\n",
       "<style scoped>\n",
       "    .dataframe tbody tr th:only-of-type {\n",
       "        vertical-align: middle;\n",
       "    }\n",
       "\n",
       "    .dataframe tbody tr th {\n",
       "        vertical-align: top;\n",
       "    }\n",
       "\n",
       "    .dataframe thead th {\n",
       "        text-align: right;\n",
       "    }\n",
       "</style>\n",
       "<table border=\"1\" class=\"dataframe\">\n",
       "  <thead>\n",
       "    <tr style=\"text-align: right;\">\n",
       "      <th></th>\n",
       "      <th>nombresMeh</th>\n",
       "      <th>La edad es un num</th>\n",
       "      <th>generoOk</th>\n",
       "    </tr>\n",
       "  </thead>\n",
       "  <tbody>\n",
       "    <tr>\n",
       "      <th>0</th>\n",
       "      <td>Jake</td>\n",
       "      <td>24</td>\n",
       "      <td>M</td>\n",
       "    </tr>\n",
       "    <tr>\n",
       "      <th>1</th>\n",
       "      <td>Jennifer</td>\n",
       "      <td>21</td>\n",
       "      <td>F</td>\n",
       "    </tr>\n",
       "    <tr>\n",
       "      <th>2</th>\n",
       "      <td>Paul</td>\n",
       "      <td>25</td>\n",
       "      <td>M</td>\n",
       "    </tr>\n",
       "    <tr>\n",
       "      <th>3</th>\n",
       "      <td>Andrew</td>\n",
       "      <td>29</td>\n",
       "      <td>M</td>\n",
       "    </tr>\n",
       "  </tbody>\n",
       "</table>\n",
       "</div>"
      ],
      "text/plain": [
       "  nombresMeh  La edad es un num generoOk\n",
       "0       Jake                 24        M\n",
       "1   Jennifer                 21        F\n",
       "2       Paul                 25        M\n",
       "3     Andrew                 29        M"
      ]
     },
     "execution_count": 90,
     "metadata": {},
     "output_type": "execute_result"
    }
   ],
   "source": [
    "# Cuando se usa inplace=True, la operación modifica el objeto original directamente en lugar de devolver una nueva copia con los cambios.\n",
    "# Si la operación de antes hubiese sido: datosDataFrame.rename(index={0:10}, inplace=True) se hubiese modificado\n",
    "# Si no hubiesemos querido utilizar inplace hubiesemos podido reasignar la variable: datosDataFrame = datosDataFrame.rename(index={0:10}) \n",
    "datosDataFrame"
   ]
  },
  {
   "cell_type": "code",
   "execution_count": 93,
   "id": "50ad8444-a2c9-4387-89ff-ead4f327516a",
   "metadata": {},
   "outputs": [
    {
     "data": {
      "text/html": [
       "<div>\n",
       "<style scoped>\n",
       "    .dataframe tbody tr th:only-of-type {\n",
       "        vertical-align: middle;\n",
       "    }\n",
       "\n",
       "    .dataframe tbody tr th {\n",
       "        vertical-align: top;\n",
       "    }\n",
       "\n",
       "    .dataframe thead th {\n",
       "        text-align: right;\n",
       "    }\n",
       "</style>\n",
       "<table border=\"1\" class=\"dataframe\">\n",
       "  <thead>\n",
       "    <tr style=\"text-align: right;\">\n",
       "      <th></th>\n",
       "      <th>CasiMiroNoSeJaJa</th>\n",
       "      <th>La edad es un num</th>\n",
       "      <th>generoOk</th>\n",
       "    </tr>\n",
       "  </thead>\n",
       "  <tbody>\n",
       "    <tr>\n",
       "      <th>0</th>\n",
       "      <td>Jake</td>\n",
       "      <td>24</td>\n",
       "      <td>M</td>\n",
       "    </tr>\n",
       "    <tr>\n",
       "      <th>1</th>\n",
       "      <td>Jennifer</td>\n",
       "      <td>21</td>\n",
       "      <td>F</td>\n",
       "    </tr>\n",
       "    <tr>\n",
       "      <th>2</th>\n",
       "      <td>Paul</td>\n",
       "      <td>25</td>\n",
       "      <td>M</td>\n",
       "    </tr>\n",
       "    <tr>\n",
       "      <th>3</th>\n",
       "      <td>Andrew</td>\n",
       "      <td>29</td>\n",
       "      <td>M</td>\n",
       "    </tr>\n",
       "  </tbody>\n",
       "</table>\n",
       "</div>"
      ],
      "text/plain": [
       "  CasiMiroNoSeJaJa  La edad es un num generoOk\n",
       "0             Jake                 24        M\n",
       "1         Jennifer                 21        F\n",
       "2             Paul                 25        M\n",
       "3           Andrew                 29        M"
      ]
     },
     "execution_count": 93,
     "metadata": {},
     "output_type": "execute_result"
    }
   ],
   "source": [
    "# igual que con index, podemos hacer columns\n",
    "datosDataFrame.rename(columns={\"nombresMeh\":\"CasiMiroNoSeJaJa\"})"
   ]
  }
 ],
 "metadata": {
  "kernelspec": {
   "display_name": "Python 3 (ipykernel)",
   "language": "python",
   "name": "python3"
  },
  "language_info": {
   "codemirror_mode": {
    "name": "ipython",
    "version": 3
   },
   "file_extension": ".py",
   "mimetype": "text/x-python",
   "name": "python",
   "nbconvert_exporter": "python",
   "pygments_lexer": "ipython3",
   "version": "3.11.7"
  }
 },
 "nbformat": 4,
 "nbformat_minor": 5
}
