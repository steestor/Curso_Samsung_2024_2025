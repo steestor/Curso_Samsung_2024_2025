{
 "cells": [
  {
   "cell_type": "code",
   "execution_count": 2,
   "id": "6062f559-4c3d-486d-9c33-c02f92921301",
   "metadata": {},
   "outputs": [],
   "source": [
    "# Pandas: Inspirado en los dataframes \n",
    "import pandas as pd\n",
    "import numpy as np"
   ]
  },
  {
   "cell_type": "code",
   "execution_count": 3,
   "id": "aa3ae493-f5a7-4b81-b332-7c9114be532c",
   "metadata": {},
   "outputs": [
    {
     "name": "stdout",
     "output_type": "stream",
     "text": [
      "0      Male\n",
      "1    Female\n",
      "2      Male\n",
      "3      Male\n",
      "4    Female\n",
      "5    Female\n",
      "dtype: object\n"
     ]
    }
   ],
   "source": [
    "# Creación de una serie\n",
    "serie1 = pd.Series([\"Male\",\"Female\",\"Male\",\"Male\",\"Female\",\"Female\"])\n",
    "print(serie1)"
   ]
  },
  {
   "cell_type": "code",
   "execution_count": 22,
   "id": "2d39cae3-fe7f-4d09-b8f5-de04022b97e6",
   "metadata": {},
   "outputs": [
    {
     "name": "stdout",
     "output_type": "stream",
     "text": [
      "0      Male\n",
      "1    Female\n",
      "2      Male\n",
      "3      Male\n",
      "4    Female\n",
      "5    Female\n",
      "dtype: object\n",
      "\n",
      "RangeIndex(start=0, stop=6, step=1)\n"
     ]
    }
   ],
   "source": [
    "# Creación de una serie a partir de un array de NumPy\n",
    "arrayNp = np.array([\"Male\",\"Female\",\"Male\",\"Male\",\"Female\",\"Female\"])\n",
    "serie2 = pd.Series(arrayNp)\n",
    "print(serie2, end=\"\\n\\n\")\n",
    "print(serie2.index)"
   ]
  },
  {
   "cell_type": "code",
   "execution_count": 18,
   "id": "f5801c2d-2aa4-4a77-af6e-2acfa9c56570",
   "metadata": {},
   "outputs": [
    {
     "name": "stdout",
     "output_type": "stream",
     "text": [
      "serie a partir del diccionario \n",
      "Female    3\n",
      "Male      5\n",
      "dtype: int64\n",
      "\n",
      "índices de la serie: \n",
      "Index(['Female', 'Male'], dtype='object')\n",
      "\n",
      "valores de la serie: \n",
      "[3 5]\n"
     ]
    }
   ],
   "source": [
    "# Creación de una serie a partir de un diccionario. Peculiaridad los indices no serán por defecto los numericos sino que seran la \"key\" del diccionario\n",
    "diccionario = { \"Female\": 3, \"Male\": 5}\n",
    "serie3 = pd.Series(diccionario)\n",
    "print(f\"serie a partir del diccionario \\n{serie3}\", end=\"\\n\\n\")\n",
    "print(f\"índices de la serie: \\n{serie3.index}\", end=\"\\n\\n\")\n",
    "print(f\"valores de la serie: \\n{serie3.values}\")\n"
   ]
  },
  {
   "cell_type": "code",
   "execution_count": 41,
   "id": "295cb9f5-e823-45be-a4ef-bb8c7eb06bc3",
   "metadata": {},
   "outputs": [
    {
     "name": "stdout",
     "output_type": "stream",
     "text": [
      "nombres    [Braund, Allen, Bonnel]\n",
      "edad                  [22, 35, 58]\n",
      "genero        [Male, Male, Female]\n",
      "dtype: object\n",
      "----------\n",
      "  nombres  edad  genero\n",
      "0  Braund    22    Male\n",
      "1   Allen    35    Male\n",
      "2  Bonnel    58  Female\n",
      "\n"
     ]
    },
    {
     "data": {
      "text/html": [
       "<div>\n",
       "<style scoped>\n",
       "    .dataframe tbody tr th:only-of-type {\n",
       "        vertical-align: middle;\n",
       "    }\n",
       "\n",
       "    .dataframe tbody tr th {\n",
       "        vertical-align: top;\n",
       "    }\n",
       "\n",
       "    .dataframe thead th {\n",
       "        text-align: right;\n",
       "    }\n",
       "</style>\n",
       "<table border=\"1\" class=\"dataframe\">\n",
       "  <thead>\n",
       "    <tr style=\"text-align: right;\">\n",
       "      <th></th>\n",
       "      <th>nombres</th>\n",
       "      <th>edad</th>\n",
       "      <th>genero</th>\n",
       "    </tr>\n",
       "  </thead>\n",
       "  <tbody>\n",
       "    <tr>\n",
       "      <th>0</th>\n",
       "      <td>Braund</td>\n",
       "      <td>22</td>\n",
       "      <td>Male</td>\n",
       "    </tr>\n",
       "    <tr>\n",
       "      <th>1</th>\n",
       "      <td>Allen</td>\n",
       "      <td>35</td>\n",
       "      <td>Male</td>\n",
       "    </tr>\n",
       "    <tr>\n",
       "      <th>2</th>\n",
       "      <td>Bonnel</td>\n",
       "      <td>58</td>\n",
       "      <td>Female</td>\n",
       "    </tr>\n",
       "  </tbody>\n",
       "</table>\n",
       "</div>"
      ],
      "text/plain": [
       "  nombres  edad  genero\n",
       "0  Braund    22    Male\n",
       "1   Allen    35    Male\n",
       "2  Bonnel    58  Female"
      ]
     },
     "execution_count": 41,
     "metadata": {},
     "output_type": "execute_result"
    }
   ],
   "source": [
    "# Cuando recibes una tabla con información para pasarla a panda primero debes de convertirla en un diccionario\n",
    "info = {\n",
    "    \"nombres\": [\"Braund\", \"Allen\", \"Bonnel\"],\n",
    "    \"edad\": [22,35,58],\n",
    "    \"genero\": [\"Male\", \"Male\", \"Female\"]\n",
    "}\n",
    "\n",
    "pandaInfo = pd.Series(info)\n",
    "print(pandaInfo)\n",
    "\n",
    "print(\"----------\")\n",
    "\n",
    "# Si queremos visualizarlo en modo de tabla deberemos de llamar al DataFrame\n",
    "# Cada una de las columnas del DataFrame será un \"Series\"\n",
    "pandaInfo = pd.DataFrame(info)\n",
    "print(pandaInfo)\n",
    "pandaInfo.name = \"info_personas\"\n",
    "print()\n",
    "pandaInfo"
   ]
  },
  {
   "cell_type": "code",
   "execution_count": 40,
   "id": "bbbed0a9-2a72-4829-ac0f-2693de63ce89",
   "metadata": {},
   "outputs": [
    {
     "name": "stdout",
     "output_type": "stream",
     "text": [
      "0    Braund\n",
      "1     Allen\n",
      "2    Bonnel\n",
      "Name: nombres, dtype: object\n"
     ]
    }
   ],
   "source": [
    "# Podemos acceder a las series del DataFrame a través de su \"key/columnName\"\n",
    "print(pandaInfo[\"nombres\"])"
   ]
  },
  {
   "cell_type": "code",
   "execution_count": 34,
   "id": "55952919-4ac3-4b29-8185-7512b9fa2b27",
   "metadata": {},
   "outputs": [
    {
     "name": "stdout",
     "output_type": "stream",
     "text": [
      "Braund\n"
     ]
    }
   ],
   "source": [
    "# Podemos acceder la primer nombre del DataFrame de la siguiente manera:\n",
    "print(pandaInfo[\"nombres\"][0])"
   ]
  },
  {
   "cell_type": "code",
   "execution_count": 38,
   "id": "be46f931-6e56-4516-a053-65b45ffe85b1",
   "metadata": {},
   "outputs": [
    {
     "name": "stdout",
     "output_type": "stream",
     "text": [
      "Index(['nombres', 'edad', 'genero'], dtype='object')\n",
      "\n",
      "RangeIndex(start=0, stop=3, step=1)\n"
     ]
    }
   ],
   "source": [
    "# En un Dataframes podemos acceder a columns que es similar a \"index\" en las \"Series\"\n",
    "print(pandaInfo.columns)\n",
    "print()\n",
    "print(pd.DataFrame([[1,2,3],[4,5,6],[7,8,9]]).columns)"
   ]
  },
  {
   "cell_type": "code",
   "execution_count": 56,
   "id": "bbfae19d-e0ef-4f41-b1fe-b6b1e006672b",
   "metadata": {},
   "outputs": [
    {
     "name": "stdout",
     "output_type": "stream",
     "text": [
      "Por valores:\n",
      "  nombres  edad  genero\n",
      "0  Braund    22    Male\n",
      "2  Bonnel    58  Female\n",
      "1   Allen    35    Male\n",
      "\n",
      "Por índice:\n",
      "  nombres  edad  genero\n",
      "2  Bonnel    58  Female\n",
      "1   Allen    35    Male\n",
      "0  Braund    22    Male\n"
     ]
    }
   ],
   "source": [
    "# Podemos ordenar la información del DataFrame por índice o por valores\n",
    "print(f\"Por valores:\\n{pandaInfo.sort_values(by='nombres', ascending=False)}\", end=\"\\n\\n\")\n",
    "\n",
    "print(f\"Por índice:\\n{pandaInfo.sort_index(ascending=False)}\")\n",
    "\n"
   ]
  },
  {
   "cell_type": "code",
   "execution_count": 62,
   "id": "3e74e4dc-a36c-4cb8-8dca-6308c8a9d365",
   "metadata": {},
   "outputs": [
    {
     "name": "stdout",
     "output_type": "stream",
     "text": [
      "['Braund' 'Allen' 'Bonnel']\n",
      "\n",
      "3\n",
      "\n",
      "nombres\n",
      "Braund    1\n",
      "Allen     1\n",
      "Bonnel    1\n",
      "Name: count, dtype: int64\n",
      "\n"
     ]
    }
   ],
   "source": [
    "# Podemos hacer que de una serie de DataFrame nos saque los valores únicos\n",
    "print(pandaInfo[\"nombres\"].unique(), end=\"\\n\\n\")\n",
    "# Podemos hacer que nos saque el número de valores únicos\n",
    "print(pandaInfo[\"nombres\"].nunique(), end=\"\\n\\n\")\n",
    "# Podemos hacer que nos cuente la cantidad de valores de una serie\n",
    "print(pandaInfo[\"nombres\"].value_counts(), end=\"\\n\\n\")"
   ]
  }
 ],
 "metadata": {
  "kernelspec": {
   "display_name": "Python 3 (ipykernel)",
   "language": "python",
   "name": "python3"
  },
  "language_info": {
   "codemirror_mode": {
    "name": "ipython",
    "version": 3
   },
   "file_extension": ".py",
   "mimetype": "text/x-python",
   "name": "python",
   "nbconvert_exporter": "python",
   "pygments_lexer": "ipython3",
   "version": "3.11.7"
  }
 },
 "nbformat": 4,
 "nbformat_minor": 5
}
