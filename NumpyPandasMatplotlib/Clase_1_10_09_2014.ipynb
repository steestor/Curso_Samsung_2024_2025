{
 "cells": [
  {
   "cell_type": "code",
   "execution_count": 69,
   "id": "e07b1236-27c8-4512-8f56-cceb0f5f285c",
   "metadata": {},
   "outputs": [],
   "source": [
    "# ¿Qué es NumPy?\n",
    "# Numpy se utiliza para trabajar con múltiples dimensiones. (array de objetos multidimensionales)"
   ]
  },
  {
   "cell_type": "code",
   "execution_count": 3,
   "id": "976090b0-5e94-4290-b5c8-5fca87ac0052",
   "metadata": {},
   "outputs": [],
   "source": [
    "# PRIMER PASO: importar la librería de Numpy\n",
    "import numpy as np"
   ]
  },
  {
   "cell_type": "code",
   "execution_count": 8,
   "id": "f1934fd0-9fcc-413e-8e00-73c63e60c4bb",
   "metadata": {},
   "outputs": [
    {
     "data": {
      "text/plain": [
       "'1.26.4'"
      ]
     },
     "execution_count": 8,
     "metadata": {},
     "output_type": "execute_result"
    }
   ],
   "source": [
    "# Podemos calcular su versión\n",
    "np.__version__ # El profe tiene 1.21.5"
   ]
  },
  {
   "cell_type": "code",
   "execution_count": 7,
   "id": "924220be-e5a6-4332-9cf0-3948bbf56cfe",
   "metadata": {},
   "outputs": [
    {
     "name": "stdout",
     "output_type": "stream",
     "text": [
      "[1 2 3 4]\n"
     ]
    }
   ],
   "source": [
    "# Vamos a crear un array con NumPy\n",
    "lista = np.array([1,2,3,4])\n",
    "print(lista)"
   ]
  },
  {
   "cell_type": "code",
   "execution_count": 17,
   "id": "435e6770-d863-4c7b-b05a-0cea4538f10e",
   "metadata": {},
   "outputs": [
    {
     "name": "stdout",
     "output_type": "stream",
     "text": [
      "lista1: 1852348185840\n"
     ]
    }
   ],
   "source": [
    "# Cómo podemos saber el id interno de una variable?\n",
    "print(f\"lista1: {id(lista)}\")\n",
    "# Si tengo dos variables que tienen el mismo identificador es porque son la misma, tienen la misma referencia en memoria"
   ]
  },
  {
   "cell_type": "code",
   "execution_count": 19,
   "id": "c9946039-059c-4410-bcaf-31a93fbb297d",
   "metadata": {},
   "outputs": [
    {
     "name": "stdout",
     "output_type": "stream",
     "text": [
      "lista1: 1852348185840\n",
      "lista2: 1852348405424\n"
     ]
    }
   ],
   "source": [
    "# Podemos hacer copias de las listas\n",
    "print(f\"lista1: {id(lista)}\")\n",
    "lista2 = np.copy(lista)\n",
    "print(\"lista2:\", id(lista2))"
   ]
  },
  {
   "cell_type": "code",
   "execution_count": 21,
   "id": "954851c1-6ba8-43f4-9a50-5975e016644f",
   "metadata": {},
   "outputs": [
    {
     "name": "stdout",
     "output_type": "stream",
     "text": [
      "{'pizza': 10, 'manzana': 3, 'galletas': 2} <class 'numpy.ndarray'>\n"
     ]
    }
   ],
   "source": [
    "# Podemos hacer objetos\n",
    "objeto = np.array({\"pizza\": 10, \"manzana\": 3, \"galletas\": 2})\n",
    "\n",
    "print(objeto, type(objeto))"
   ]
  },
  {
   "cell_type": "code",
   "execution_count": 22,
   "id": "349d755c-fce0-4165-bb53-8d1cc27fb0bf",
   "metadata": {},
   "outputs": [
    {
     "name": "stdout",
     "output_type": "stream",
     "text": [
      "{1, 2, 3}\n"
     ]
    }
   ],
   "source": [
    "# Podemos crear un array de un set\n",
    "arraySinRepetidos = np.array({1,1,2,3,2,3,1,2})\n",
    "print(arraySinRepetidos)"
   ]
  },
  {
   "cell_type": "code",
   "execution_count": 41,
   "id": "e71be60b-2a95-4deb-b382-07b4c919f671",
   "metadata": {},
   "outputs": [
    {
     "name": "stdout",
     "output_type": "stream",
     "text": [
      "[0, 1, 2, 3, 4, 5, 6, 7, 8, 9] tamaño: 10\n",
      "[0 1 2 3 4 5 6 7 8 9] tamaño: 10\n"
     ]
    }
   ],
   "source": [
    "# Tenemos la función arange que me crea un array de datos en vez de una lista de datos que es lo que hacía el range.\n",
    "# Pero ¡ojo! mira lo siguiente:\n",
    "\n",
    "array = [i for i in np.arange(10)]\n",
    "array2 = np.arange(10)\n",
    "\n",
    "print(array, f\"tamaño: {len(array)}\") # -> LISTA\n",
    "print(array2, f\"tamaño: {array2.size}\") # -> ARRAY\n",
    "\n",
    "# ¡Recuerda! Todas las operaciones que se hagan con los arrays de NumPy serán mucho más eficientes que las listas de Python"
   ]
  },
  {
   "cell_type": "code",
   "execution_count": 40,
   "id": "89e8a991-38f3-4d56-9cd4-40fbd43d0296",
   "metadata": {},
   "outputs": [
    {
     "name": "stdout",
     "output_type": "stream",
     "text": [
      "Array 3: ['111' '2.3' 'True' 'False' 'test']\n",
      "\n",
      "Tipo elem 0: <class 'numpy.str_'>\n",
      "Tipo elem 1: <class 'numpy.str_'>\n",
      "Tipo elem 2: <class 'numpy.str_'>\n",
      "Tipo elem 2: <class 'numpy.str_'>\n",
      "Tipo elem 2: <class 'numpy.str_'> \n",
      "\n",
      "Array 4: [111.    2.3   1.    0. ]\n",
      "\n",
      "Tipo elem 0: <class 'numpy.float64'>\n",
      "Tipo elem 1: <class 'numpy.float64'>\n",
      "Tipo elem 2: <class 'numpy.float64'>\n",
      "Tipo elem 2: <class 'numpy.float64'>\n"
     ]
    }
   ],
   "source": [
    "array3 = np.array([111, 2.3, True, False, \"test\"])\n",
    "array4 = np.array([111, 2.3, True, False])\n",
    "\n",
    "# NumPy convierte todos los elementos a string porque es el tipo que puede contener todos los demás tipos sin pérdida de información.\n",
    "# Esto se conoce como \"upcasting\". Entonces, todos los elementos en array3 se convierten en cadenas de texto.\n",
    "print(f\"Array 3: {array3}\", end=\"\\n\\n\")\n",
    "print(f\"Tipo elem 0: {type(array3[0])}\")\n",
    "print(f\"Tipo elem 1: {type(array3[1])}\")\n",
    "print(f\"Tipo elem 2: {type(array3[2])}\")\n",
    "print(f\"Tipo elem 2: {type(array3[3])}\")\n",
    "print(f\"Tipo elem 2: {type(array3[4])} \",end=\"\\n\\n\")\n",
    "\n",
    "# En este caso por ejemplo los convierte en float\n",
    "\n",
    "print(f\"Array 4: {array4}\", end=\"\\n\\n\")\n",
    "print(f\"Tipo elem 0: {type(array4[0])}\")\n",
    "print(f\"Tipo elem 1: {type(array4[1])}\")\n",
    "print(f\"Tipo elem 2: {type(array4[2])}\")\n",
    "print(f\"Tipo elem 2: {type(array4[3])}\")\n",
    "\n"
   ]
  },
  {
   "cell_type": "code",
   "execution_count": 43,
   "id": "36c0c821-c026-4d79-968f-9fbed5a5582b",
   "metadata": {},
   "outputs": [
    {
     "name": "stdout",
     "output_type": "stream",
     "text": [
      "[ 1.    3.25  5.5   7.75 10.  ]\n"
     ]
    }
   ],
   "source": [
    "# Creación de un espacio lineal: np.linspace(inicio, fin, num)\n",
    "\n",
    "# Esto crea una secuencia de 5 números, distribuidos de manera equidistante entre 1 y 10 (incluyendo ambos extremos) \n",
    "print(np.linspace(1,10,5))\n"
   ]
  },
  {
   "cell_type": "code",
   "execution_count": 68,
   "id": "a8c9d5d3-eacd-4de1-bbb1-c2102f68bfee",
   "metadata": {},
   "outputs": [
    {
     "name": "stdout",
     "output_type": "stream",
     "text": [
      "[1. 1. 1. 1. 1. 1. 1. 1. 1. 1.]\n",
      "\n",
      "[[1. 1. 1.]\n",
      " [1. 1. 1.]]\n",
      "\n",
      "[0. 0. 0. 0. 0. 0. 0. 0. 0. 0.]\n",
      "\n",
      "[[0 0 0]\n",
      " [0 0 0]]\n",
      "\n"
     ]
    }
   ],
   "source": [
    "# Creación de array de 1: np.ones(tamaños)\n",
    "print(np.ones(10), end=\"\\n\\n\")\n",
    "\n",
    "# Creación de una dimensión de 1s de 2x3\n",
    "print(np.ones((2,3)), end=\"\\n\\n\")\n",
    "\n",
    "# Creación de array de 0: np.zeros(tamaño)\n",
    "print(np.zeros(10), end=\"\\n\\n\")\n",
    "\n",
    "# Creación de una dimensión de 0s de 2x3\n",
    "print(np.zeros((2,3), dtype=\"int32\"), end=\"\\n\\n\") #-> le podemos especificar el dtype "
   ]
  },
  {
   "cell_type": "code",
   "execution_count": 125,
   "id": "f88e2161-9c97-4ee0-bbda-368841fbbbf1",
   "metadata": {},
   "outputs": [
    {
     "name": "stdout",
     "output_type": "stream",
     "text": [
      "3\n",
      "[1. 2. 3.]\n"
     ]
    }
   ],
   "source": [
    "# Saber más sobre los dtype\n",
    "\n",
    "# uint8: valores entre 0 y 255\n",
    "# floa32: representa valores con decimales\n",
    "# float64: número con coma flotante de 64 bits\n",
    "\n",
    "z = np.array(3, dtype=\"uint8\")\n",
    "print(z)\n",
    "\n",
    "z1 = np.array([1,2,3], dtype='d')\n",
    "print(z1)"
   ]
  },
  {
   "cell_type": "code",
   "execution_count": 72,
   "id": "02524131-3608-4c26-a70f-624b88a69c03",
   "metadata": {},
   "outputs": [
    {
     "name": "stdout",
     "output_type": "stream",
     "text": [
      "[[1 2 3]\n",
      " [4 5 6]]\n",
      "Las dimensiones de la matriz son: 2\n",
      "El tamaño de la matriz es de (2, 3), es decir, 2 filas 3 columnas\n",
      "El data type de la matriz es: int32\n",
      "\n",
      "Las dimensiones de la matriz son: 1\n",
      "El tamaño de la matriz es de (3,), es decir, 3 elementos\n",
      "El data type de la matriz es: int32\n"
     ]
    }
   ],
   "source": [
    "# Creación de matrices en Numpy\n",
    "matriz = [[1,2,3], [4,5,6]]\n",
    "matriz_unidimensional = [1,2,3]\n",
    "\n",
    "matrizNumpy= np.array(matriz)\n",
    "matrizNumpyUnidimensional = np.array(matriz_unidimensional)\n",
    "print(matrizNumpy)\n",
    "\n",
    "# Información sobre la matriz:\n",
    "print(f\"Las dimensiones de la matriz son: {matrizNumpy.ndim}\")\n",
    "print(f\"El tamaño de la matriz es de {matrizNumpy.shape}, es decir, 2 filas 3 columnas\")\n",
    "print(f\"El data type de la matriz es: {matrizNumpy.dtype}\")\n",
    "\n",
    "print()\n",
    "# Información sobre la matriz unidimensional:\n",
    "print(f\"Las dimensiones de la matriz son: {matrizNumpyUnidimensional.ndim}\")\n",
    "print(f\"El tamaño de la matriz es de {matrizNumpyUnidimensional.shape}, es decir, 3 elementos\")\n",
    "print(f\"El data type de la matriz es: {matrizNumpyUnidimensional.dtype}\")\n"
   ]
  },
  {
   "cell_type": "code",
   "execution_count": 124,
   "id": "987b43a9-c2e6-4aa9-9c42-3410181bad46",
   "metadata": {},
   "outputs": [
    {
     "name": "stdout",
     "output_type": "stream",
     "text": [
      "[ 0  1  2  3  4  5  6  7  8  9 10 11 12 13 14]\n",
      "\n",
      "Redimensionamos en 3 filas 5 columnas:\n",
      "[[ 0  1  2  3  4]\n",
      " [ 5  6  7  8  9]\n",
      " [10 11 12 13 14]]\n"
     ]
    }
   ],
   "source": [
    "# Las matrices de NumPy se pueden redimensionar:\n",
    "array5 = np.arange(15)\n",
    "print(array5)\n",
    "print()\n",
    "\n",
    "print(\"Redimensionamos en 3 filas 5 columnas:\")\n",
    "array5 = array5.reshape((3,5))\n",
    "print(array5)"
   ]
  },
  {
   "cell_type": "code",
   "execution_count": null,
   "id": "3e81036f-aef1-424d-aa3d-495f58cb335b",
   "metadata": {},
   "outputs": [],
   "source": [
    "# Si quiero obtener una matriz de 2x3 con valores random\n",
    "matriz_random = np.random.random((2,3))\n",
    "print(matriz_random)"
   ]
  },
  {
   "cell_type": "code",
   "execution_count": 86,
   "id": "c7810a49-15cd-49cb-8008-ec2460dedbfd",
   "metadata": {},
   "outputs": [
    {
     "name": "stdout",
     "output_type": "stream",
     "text": [
      "La media del array: [ 0  1  2  3  4  5  6  7  8  9 10 11 12 13 14] es: 7.0\n"
     ]
    }
   ],
   "source": [
    "# Calcular la media de un array\n",
    "array6 = np.arange(15)\n",
    "print(f\"La media del array: {array6} es: {np.mean(array6)}\")"
   ]
  },
  {
   "cell_type": "code",
   "execution_count": 88,
   "id": "be09c320-06e6-42ff-ad17-af1a207fdc0a",
   "metadata": {},
   "outputs": [
    {
     "name": "stdout",
     "output_type": "stream",
     "text": [
      "CPU times: total: 266 ms\n",
      "Wall time: 342 ms\n"
     ]
    }
   ],
   "source": [
    "%%time\n",
    "# Calcular el tiempo que tarda una función\n",
    "suma = 0\n",
    "for i in range(1000000):\n",
    "    suma += i"
   ]
  },
  {
   "cell_type": "code",
   "execution_count": 98,
   "id": "e0c3a44c-c662-43c8-80ef-4b13b11729e7",
   "metadata": {},
   "outputs": [
    {
     "name": "stdout",
     "output_type": "stream",
     "text": [
      "[[1 2]\n",
      " [3 4]]\n",
      "\n",
      "[[1 2]\n",
      " [3 4]\n",
      " [9 9]]\n",
      "\n"
     ]
    }
   ],
   "source": [
    "# Append de arrays\n",
    "a2d = np.array([[1,2],[3,4]])\n",
    "print(a2d, end=\"\\n\\n\")\n",
    "\n",
    "b2d = np.append(a2d,[[9,9]], axis = 0)\n",
    "#c2d = np.append(a2d,[[9,9]], axis = 1)\n",
    "\n",
    "print(b2d, end=\"\\n\\n\")\n",
    "#print(c2d, end=\"\\n\\n\")"
   ]
  },
  {
   "cell_type": "code",
   "execution_count": 101,
   "id": "2ceff639-be93-4bdf-b3ec-e0f4ad689c0b",
   "metadata": {},
   "outputs": [
    {
     "name": "stdout",
     "output_type": "stream",
     "text": [
      "[[1 2 3]\n",
      " [4 5 6]\n",
      " [7 8 9]]\n",
      "\n",
      "[[1 2 3 7]\n",
      " [4 5 6 8]]\n"
     ]
    }
   ],
   "source": [
    "# ¿Que es el axis?\n",
    "# Cuando se especifica el valor de axis, defines en qué dimensión se agregarán los valores.\n",
    "\n",
    "a = np.array([[1, 2, 3], [4, 5, 6]])\n",
    "result = np.append(a, [[7, 8, 9]], axis=0)\n",
    "print(result)\n",
    "\n",
    "print()\n",
    "\n",
    "a = np.array([[1, 2, 3], [4, 5, 6]])\n",
    "result = np.append(a, [[7], [8]], axis=1)\n",
    "print(result)\n",
    "\n",
    "# Resumen:\n",
    "# axis=None: Aplana el array y añade los valores al final.\n",
    "# axis=0: Agrega filas (los valores que agregues deben tener el mismo número de columnas).\n",
    "# axis=1: Agrega columnas (los valores que agregues deben tener el mismo número de filas).\n"
   ]
  },
  {
   "cell_type": "code",
   "execution_count": 104,
   "id": "ca15079f-11e3-4710-93cb-36b2230e0047",
   "metadata": {},
   "outputs": [
    {
     "name": "stdout",
     "output_type": "stream",
     "text": [
      "Suma de arrays: [5 7 9]\n",
      "Resta de arrays: [-3 -3 -3]\n",
      "División de arrays: [0.25 0.4  0.5 ]\n",
      "Multiplicación de arrays: [ 4 10 18]\n",
      "Multiplicación por un escalar: [10 20 30]\n",
      "Concatenación: [1 2 3 4 5 6]\n"
     ]
    }
   ],
   "source": [
    "import numpy as np\n",
    "\n",
    "# Crear arrays de ejemplo\n",
    "a = np.array([1, 2, 3])\n",
    "b = np.array([4, 5, 6])\n",
    "\n",
    "# En NumPy, el operador suma realiza la suma elemento a elemento\n",
    "suma = a + b\n",
    "print(f\"Suma de arrays: {suma}\")  # Resultado: [5 7 9]\n",
    "\n",
    "# El operador de resta\n",
    "resta = a - b\n",
    "print(f\"Resta de arrays: {resta}\")  # Resultado: [-3 -3 -3]\n",
    "\n",
    "# El operador de división\n",
    "division = a / b\n",
    "print(f\"División de arrays: {division}\")  # Resultado: [0.25 0.4  0.5]\n",
    "\n",
    "# El operador de multiplicación\n",
    "multiplicacion = a * b\n",
    "print(f\"Multiplicación de arrays: {multiplicacion}\")  # Resultado: [4 10 18]\n",
    "\n",
    "# Multiplicar una lista de NumPy por un escalar\n",
    "escalar = 10\n",
    "multiplicacion_escalar = a * escalar\n",
    "print(f\"Multiplicación por un escalar: {multiplicacion_escalar}\")  # Resultado: [10 20 30]\n",
    "\n",
    "# Concatenar arrays\n",
    "concatenado = np.concatenate((a, b))\n",
    "print(f\"Concatenación: {concatenado}\")\n"
   ]
  },
  {
   "cell_type": "code",
   "execution_count": 108,
   "id": "d8eb356a-58da-4b23-a9f6-6311339e1561",
   "metadata": {},
   "outputs": [
    {
     "name": "stdout",
     "output_type": "stream",
     "text": [
      "[1 2 3 1 2 3]\n",
      "\n",
      "[[1 2 1 2 1 2]\n",
      " [3 4 3 4 3 4]\n",
      " [1 2 1 2 1 2]\n",
      " [3 4 3 4 3 4]]\n"
     ]
    }
   ],
   "source": [
    "# Función tile: \n",
    "\n",
    "# Repetir un array unidimensional\n",
    "a = np.array([1, 2, 3])\n",
    "resultado = np.tile(a, 2)\n",
    "print(resultado)\n",
    "# En este ejemplo, el array [1, 2, 3] se repite 2 veces de manera horizontal, formando un nuevo array unidimensional.\n",
    "\n",
    "print(\"\")\n",
    "\n",
    "# Repetir un array en múltiples dimensiones:\n",
    "a = np.array([[1, 2], [3, 4]])\n",
    "resultado = np.tile(a, (2, 3))\n",
    "print(resultado)\n",
    "\n",
    "# Aquí, el array original a se repite 2 veces a lo largo del eje 0 (filas) y 3 veces a lo largo del eje 1 (columnas). \n",
    "# El parámetro (2, 3) indica cuántas veces se repite en cada dimensión.\n"
   ]
  },
  {
   "cell_type": "code",
   "execution_count": 109,
   "id": "784cb3c6-ab3e-4e1d-9759-1a00314793bb",
   "metadata": {},
   "outputs": [
    {
     "name": "stdout",
     "output_type": "stream",
     "text": [
      "Igualdad: [False False False False]\n",
      "Desigualdad: [ True  True  True  True]\n",
      "Mayor que: [False False  True  True]\n",
      "Menor que: [ True  True False False]\n",
      "Mayor o igual: [False False  True  True]\n",
      "Menor o igual: [ True  True False False]\n",
      "Mayor que 2: [False False  True  True]\n",
      "Todos mayores que 0: True\n",
      "Alguno mayor que 3: True\n"
     ]
    }
   ],
   "source": [
    "# Operaciones de comparación\n",
    "\n",
    "# Arrays de ejemplo\n",
    "a = np.array([1, 2, 3, 4])\n",
    "b = np.array([4, 3, 2, 1])\n",
    "\n",
    "# Comparaciones entre arrays\n",
    "igualdad = a == b          # [False, False, False, False]\n",
    "desigualdad = a != b       # [True, True, True, True]\n",
    "mayor_que = a > b          # [False, False, True, True]\n",
    "menor_que = a < b          # [True, True, False, False]\n",
    "mayor_o_igual = a >= b     # [False, False, True, True]\n",
    "menor_o_igual = a <= b     # [True, True, False, False]\n",
    "\n",
    "# Comparación con un escalar\n",
    "mayor_que_2 = a > 2        # [False, False, True, True]\n",
    "\n",
    "# Verificar si todas o alguna de las comparaciones son verdaderas\n",
    "todos_mayores_que_0 = np.all(a > 0)  # True\n",
    "alguno_mayor_que_3 = np.any(a > 3)   # True\n",
    "\n",
    "# Imprimir resultados\n",
    "print(\"Igualdad:\", igualdad)\n",
    "print(\"Desigualdad:\", desigualdad)\n",
    "print(\"Mayor que:\", mayor_que)\n",
    "print(\"Menor que:\", menor_que)\n",
    "print(\"Mayor o igual:\", mayor_o_igual)\n",
    "print(\"Menor o igual:\", menor_o_igual)\n",
    "print(\"Mayor que 2:\", mayor_que_2)\n",
    "print(\"Todos mayores que 0:\", todos_mayores_que_0)\n",
    "print(\"Alguno mayor que 3:\", alguno_mayor_que_3)\n"
   ]
  },
  {
   "cell_type": "code",
   "execution_count": 110,
   "id": "a510987f-527f-4214-ba89-82c779fb01fe",
   "metadata": {},
   "outputs": [
    {
     "name": "stdout",
     "output_type": "stream",
     "text": [
      "Suma acumulativa: [ 1  3  6 10]\n",
      "Producto acumulativo: [ 1  2  6 24]\n",
      "Varianza: 1.25\n",
      "Desviación estándar: 1.118033988749895\n",
      "Suma total: 10\n",
      "Producto total: 24\n",
      "Mínimo: 1\n",
      "Máximo: 4\n",
      "Media: 2.5\n",
      "Mediana: 2.5\n",
      "Percentil 50: 2.5\n"
     ]
    }
   ],
   "source": [
    "# Más operaciones\n",
    "\n",
    "import numpy as np\n",
    "\n",
    "# Array de ejemplo\n",
    "a = np.array([1, 2, 3, 4])\n",
    "\n",
    "# Operaciones\n",
    "suma_acumulativa = np.cumsum(a)        # Suma acumulativa\n",
    "producto_acumulativo = np.cumprod(a)   # Producto acumulativo\n",
    "varianza = np.var(a)                   # Varianza\n",
    "desviacion_estandar = np.std(a)        # Desviación estándar\n",
    "suma_total = np.sum(a)                 # Suma total\n",
    "producto_total = np.prod(a)            # Producto total\n",
    "minimo = np.min(a)                     # Mínimo\n",
    "maximo = np.max(a)                     # Máximo\n",
    "media = np.mean(a)                     # Media (promedio)\n",
    "mediana = np.median(a)                 # Mediana\n",
    "percentil_50 = np.percentile(a, 50)    # Percentil 50 (Mediana)\n",
    "\n",
    "# Imprimir resultados\n",
    "print(f\"Suma acumulativa: {suma_acumulativa}\")\n",
    "print(f\"Producto acumulativo: {producto_acumulativo}\")\n",
    "print(f\"Varianza: {varianza}\")\n",
    "print(f\"Desviación estándar: {desviacion_estandar}\")\n",
    "print(f\"Suma total: {suma_total}\")\n",
    "print(f\"Producto total: {producto_total}\")\n",
    "print(f\"Mínimo: {minimo}\")\n",
    "print(f\"Máximo: {maximo}\")\n",
    "print(f\"Media: {media}\")\n",
    "print(f\"Mediana: {mediana}\")\n",
    "print(f\"Percentil 50: {percentil_50}\")\n"
   ]
  },
  {
   "cell_type": "code",
   "execution_count": 111,
   "id": "13303242-7fdb-412c-9ff5-9d610589afa5",
   "metadata": {},
   "outputs": [
    {
     "name": "stdout",
     "output_type": "stream",
     "text": [
      "Media total: 5.0\n",
      "Media por columnas: [4. 5. 6.]\n",
      "Media por filas: [2. 5. 8.]\n"
     ]
    }
   ],
   "source": [
    "a = np.array([[1, 2, 3],\n",
    "              [4, 5, 6],\n",
    "              [7, 8, 9]])\n",
    "\n",
    "# Media de todos los elementos\n",
    "media_total = np.mean(a)\n",
    "print(\"Media total:\", media_total)\n",
    "\n",
    "# Media por columnas (axis=0)\n",
    "media_columnas = np.mean(a, axis=0)\n",
    "print(\"Media por columnas:\", media_columnas)\n",
    "\n",
    "# Media por filas (axis=1)\n",
    "media_filas = np.mean(a, axis=1)\n",
    "print(\"Media por filas:\", media_filas)\n"
   ]
  },
  {
   "cell_type": "code",
   "execution_count": 114,
   "id": "fd68280b-a7d4-4b73-902d-143e53c0ddc8",
   "metadata": {},
   "outputs": [
    {
     "name": "stdout",
     "output_type": "stream",
     "text": [
      "Con semilla 123: [0.69646919 0.28613933 0.22685145]\n",
      "Sin semilla 1: [0.55131477 0.71946897 0.42310646]\n",
      "Sin semilla 2: [0.9807642  0.68482974 0.4809319 ]\n",
      "Con semilla 123 (repetido): [0.69646919 0.28613933 0.22685145]\n"
     ]
    }
   ],
   "source": [
    "# Generación de números aleatorios con/sin semilla\n",
    "\n",
    "# Establece una \"semilla\" para el generador, lo que asegura que los números aleatorios generados sean reproducibles. \n",
    "# En otras palabras, usando la misma semilla, obtendrás la misma secuencia de números aleatorios cada vez que ejecutes el código.\n",
    "\n",
    "# Con semilla\n",
    "np.random.seed(123)\n",
    "print(\"Con semilla 123:\", np.random.rand(3))\n",
    "\n",
    "# Sin semilla\n",
    "print(\"Sin semilla 1:\", np.random.rand(3))\n",
    "print(\"Sin semilla 2:\", np.random.rand(3))\n",
    "\n",
    "# Volver a establecer la misma semilla\n",
    "np.random.seed(123)\n",
    "print(\"Con semilla 123 (repetido):\", np.random.rand(3))"
   ]
  },
  {
   "cell_type": "code",
   "execution_count": 115,
   "id": "01759f91-4155-4793-8269-b48354efe60f",
   "metadata": {},
   "outputs": [
    {
     "name": "stdout",
     "output_type": "stream",
     "text": [
      "7\n"
     ]
    }
   ],
   "source": [
    "# Generar un número entero aleatorio entre 1 y 10 (inclusive de 1, exclusivo de 10)\n",
    "numero = np.random.randint(1, 10)\n",
    "print(numero)  # Resultado puede ser: 3"
   ]
  },
  {
   "cell_type": "code",
   "execution_count": 116,
   "id": "757e3f09-3045-4c34-b2e6-729e267919b7",
   "metadata": {},
   "outputs": [
    {
     "name": "stdout",
     "output_type": "stream",
     "text": [
      "Producto matricial usando @:\n",
      "[[19 22]\n",
      " [43 50]]\n",
      "\n",
      "Producto matricial usando .dot():\n",
      "[[19 22]\n",
      " [43 50]]\n"
     ]
    }
   ],
   "source": [
    "# Producto matricial:\n",
    "\n",
    "# Definir dos matrices\n",
    "A = np.array([[1, 2],\n",
    "              [3, 4]])\n",
    "\n",
    "B = np.array([[5, 6],\n",
    "              [7, 8]])\n",
    "\n",
    "# Producto matricial usando @\n",
    "producto_matricial = A @ B\n",
    "print(\"Producto matricial usando @:\")\n",
    "print(producto_matricial)\n",
    "print()\n",
    "\n",
    "# Producto matricial usando .dot()\n",
    "producto_matricial_dot = A.dot(B)\n",
    "print(\"Producto matricial usando .dot():\")\n",
    "print(producto_matricial_dot)"
   ]
  },
  {
   "cell_type": "code",
   "execution_count": 120,
   "id": "3edbf34b-ea3f-4ed1-b543-7de3fbb7fa80",
   "metadata": {},
   "outputs": [
    {
     "name": "stdout",
     "output_type": "stream",
     "text": [
      "Matriz traspuesta usando .T:\n",
      "[[1 4]\n",
      " [2 5]\n",
      " [3 6]]\n",
      "\n",
      "Matriz traspuesta usando np.transpose():\n",
      "[[1 4]\n",
      " [2 5]\n",
      " [3 6]]\n"
     ]
    }
   ],
   "source": [
    "# Matriz traspuesta\n",
    "A = np.array([[1, 2, 3],\n",
    "              [4, 5, 6]])\n",
    "\n",
    "# Matriz traspuesta usando .T\n",
    "A_traspuesta = A.T\n",
    "print(\"Matriz traspuesta usando .T:\")\n",
    "print(A_traspuesta)\n",
    "print()\n",
    "\n",
    "# Matriz traspuesta usando np.transpose() --> La transpuesta intercambia sus filas por columnas\n",
    "A_traspuesta_np = np.transpose(A)\n",
    "print(\"Matriz traspuesta usando np.transpose():\")\n",
    "print(A_traspuesta_np)"
   ]
  },
  {
   "cell_type": "code",
   "execution_count": 135,
   "id": "4b576deb-d252-468a-a4ee-b10520ac36ca",
   "metadata": {},
   "outputs": [
    {
     "name": "stdout",
     "output_type": "stream",
     "text": [
      "Inversa de la matriz B:\n",
      "[[-2.   1. ]\n",
      " [ 1.5 -0.5]]\n",
      "\n",
      "Producto de B por su inversa (debería ser la identidad):\n",
      "[[1.00000000e+00 1.11022302e-16]\n",
      " [0.00000000e+00 1.00000000e+00]]\n"
     ]
    }
   ],
   "source": [
    "B = np.array([[1, 2],\n",
    "              [3, 4]])\n",
    "\n",
    "# Calcular el determinante de una matriz (multiplicar todas las diagonales de arriba a abajo e ir sumandolas y\n",
    "# restar las diagonales de abajo a arriba)\n",
    "# determinante = np.linalg.det(A)\n",
    "# print(f\"Determinante de B: {determinante}\")\n",
    "\n",
    "\n",
    "# Calcular la inversa de la matriz usando np.linalg.inv()\n",
    "B_inversa = np.linalg.inv(B)\n",
    "print(\"Inversa de la matriz B:\")\n",
    "print(B_inversa)\n",
    "print()\n",
    "\n",
    "# Verificar el resultado\n",
    "# Multiplicación de la matriz original por su inversa debe dar la matriz identidad\n",
    "producto_identidad = B @ B_inversa\n",
    "print(\"Producto de B por su inversa (debería ser la identidad):\")\n",
    "print(producto_identidad)"
   ]
  },
  {
   "cell_type": "code",
   "execution_count": 127,
   "id": "687565bb-9f0b-4b37-bdb5-7eac33d3669f",
   "metadata": {},
   "outputs": [
    {
     "name": "stdout",
     "output_type": "stream",
     "text": [
      "Máscara booleana: [False False False False False  True  True  True  True  True]\n",
      "Array filtrado: [ 6  7  8  9 10]\n"
     ]
    }
   ],
   "source": [
    "# Máscaras booleanas\n",
    "arr = np.array([1, 2, 3, 4, 5, 6, 7, 8, 9, 10])\n",
    "\n",
    "# Crear una máscara booleana para seleccionar elementos mayores que 5\n",
    "mask = arr > 5\n",
    "\n",
    "# Aplicar la máscara al array\n",
    "filtered_arr = arr[mask]\n",
    "\n",
    "print(\"Máscara booleana:\", mask)\n",
    "print(\"Array filtrado:\", filtered_arr)\n",
    "\n"
   ]
  },
  {
   "cell_type": "code",
   "execution_count": 128,
   "id": "7d645f2f-a784-4d9b-a3e9-6773e8cb0862",
   "metadata": {},
   "outputs": [
    {
     "name": "stdout",
     "output_type": "stream",
     "text": [
      "Máscara booleana: [False False  True False  True  True False False  True]\n",
      "Array filtrado: [3 5 3 5]\n"
     ]
    }
   ],
   "source": [
    "# Máscara con valores específicos\n",
    "arr = np.array([1, 2, 3, 4, 5, 3, 6, 7, 5])\n",
    "\n",
    "# Crear una máscara para seleccionar elementos que sean 3 o 5\n",
    "mask = (arr == 3) | (arr == 5)\n",
    "\n",
    "# Aplicar la máscara al array\n",
    "filtered_arr = arr[mask]\n",
    "\n",
    "print(\"Máscara booleana:\", mask)\n",
    "print(\"Array filtrado:\", filtered_arr)"
   ]
  },
  {
   "cell_type": "code",
   "execution_count": 129,
   "id": "56b7a963-8133-4cef-94ff-3c1df617e42d",
   "metadata": {},
   "outputs": [
    {
     "name": "stdout",
     "output_type": "stream",
     "text": [
      "Índices de los elementos filtrados: (array([6, 7], dtype=int64),)\n",
      "Array filtrado: [6 7]\n"
     ]
    }
   ],
   "source": [
    "# Máscara con where:\n",
    "\n",
    "r = np.array([1, 2, 3, 4, 5, 6, 7, 8, 9, 10])\n",
    "\n",
    "# Obtener índices de elementos mayores que 5\n",
    "indices = np.where(arr > 5)\n",
    "\n",
    "# Filtrar el array usando los índices\n",
    "filtered_arr = arr[indices]\n",
    "\n",
    "print(\"Índices de los elementos filtrados:\", indices)\n",
    "print(\"Array filtrado:\", filtered_arr)"
   ]
  },
  {
   "cell_type": "code",
   "execution_count": 132,
   "id": "113fdb0f-4882-40e2-b325-db7c4e30d21c",
   "metadata": {},
   "outputs": [
    {
     "name": "stdout",
     "output_type": "stream",
     "text": [
      "Array unidimensional original: [10 20 30 40 50 60 70]\n",
      "Slicing simple: [30 40 50]\n",
      "Slicing con paso: [10 40 70]\n",
      "Slicing con índices negativos: [30 40 50]\n",
      "\n",
      "Array bidimensional original:\n",
      " [[ 1  2  3  4]\n",
      " [ 5  6  7  8]\n",
      " [ 9 10 11 12]]\n",
      "\n",
      "Slicing en 2D (desde fila 1 y columna 1):\n",
      " [[ 6  7  8]\n",
      " [10 11 12]]\n",
      "\n",
      "Slicing con paso en 2D:\n",
      " [[ 1  3]\n",
      " [ 9 11]]\n",
      "\n"
     ]
    }
   ],
   "source": [
    "# Slice\n",
    "import numpy as np\n",
    "\n",
    "# Crear un array unidimensional\n",
    "arr1d = np.array([10, 20, 30, 40, 50, 60, 70])\n",
    "\n",
    "# Slicing simple\n",
    "slice1 = arr1d[2:5]  # Selecciona elementos del índice 2 al 4\n",
    "# Slicing con paso\n",
    "slice2 = arr1d[::3]  # Selecciona cada tercer elemento\n",
    "# Slicing con índices negativos\n",
    "slice3 = arr1d[-5:-2]  # Selecciona los elementos desde el índice -5 hasta -3\n",
    "\n",
    "print(\"Array unidimensional original:\", arr1d)\n",
    "print(\"Slicing simple:\", slice1)\n",
    "print(\"Slicing con paso:\", slice2)\n",
    "print(\"Slicing con índices negativos:\", slice3)\n",
    "\n",
    "# Crear un array bidimensional\n",
    "arr2d = np.array([[1, 2, 3, 4], [5, 6, 7, 8], [9, 10, 11, 12]])\n",
    "\n",
    "# Slicing en arrays bidimensionales\n",
    "slice2d_1 = arr2d[1:, 1:]  # Selecciona un subarray desde la fila 1 y columna 1 en adelante\n",
    "# Slicing con paso en arrays bidimensionales\n",
    "slice2d_2 = arr2d[::2, ::2]  # Selecciona cada segunda fila y cada segunda columna\n",
    "\n",
    "print(\"\\nArray bidimensional original:\\n\", arr2d, end=\"\\n\\n\")\n",
    "print(\"Slicing en 2D (desde fila 1 y columna 1):\\n\", slice2d_1, end=\"\\n\\n\")\n",
    "print(\"Slicing con paso en 2D:\\n\", slice2d_2, end=\"\\n\\n\")\n"
   ]
  },
  {
   "cell_type": "code",
   "execution_count": 143,
   "id": "d787f955-1dab-46cd-8a97-0a69a2557bb9",
   "metadata": {},
   "outputs": [
    {
     "name": "stdout",
     "output_type": "stream",
     "text": [
      "[30 40 50]\n",
      "--------\n",
      "[[ True  True  True  True]\n",
      " [ True  True  True  True]\n",
      " [ True  True  True  True]]\n",
      "--------\n",
      "False\n",
      "--------\n",
      "[[ 1  5  9]\n",
      " [ 2  6 10]\n",
      " [ 3  7 11]\n",
      " [ 4  8 12]]\n"
     ]
    }
   ],
   "source": [
    "# Cosas curiosas\n",
    "\n",
    "#1\n",
    "array= np.array([10,20,30,40,50,60,70])\n",
    "indexs = [2,3,4]\n",
    "\n",
    "print(array[indexs])\n",
    "print(\"--------\")\n",
    "\n",
    "#2\n",
    "arr1d = np.array([[1, 2, 3, 4], [5, 6, 7, 8], [9, 10, 11, 12]])\n",
    "arr2d = np.array([[1, 2, 3, 4], [5, 6, 7, 8], [9, 10, 11, 12]])\n",
    "\n",
    "print(arr1d == arr2d)\n",
    "print(\"--------\")\n",
    "print(arr1d is arr2d)\n",
    "print(\"--------\")\n",
    "\n",
    "#3\n",
    "print(arr1d.T)"
   ]
  }
 ],
 "metadata": {
  "kernelspec": {
   "display_name": "Python 3 (ipykernel)",
   "language": "python",
   "name": "python3"
  },
  "language_info": {
   "codemirror_mode": {
    "name": "ipython",
    "version": 3
   },
   "file_extension": ".py",
   "mimetype": "text/x-python",
   "name": "python",
   "nbconvert_exporter": "python",
   "pygments_lexer": "ipython3",
   "version": "3.11.7"
  }
 },
 "nbformat": 4,
 "nbformat_minor": 5
}
