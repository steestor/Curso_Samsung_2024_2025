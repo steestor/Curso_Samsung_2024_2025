{
 "cells": [
  {
   "cell_type": "markdown",
   "id": "fb5c2e23-c214-4882-9442-240c5f541d87",
   "metadata": {},
   "source": [
    "# Apuntes\n",
    "\n",
    "## Sacar las filas pares de un DataFrame:\n",
    "\n",
    "#### Primera manera:\n",
    "titanic.iloc[::2]\n",
    "\n",
    "#### Segunda manera:\n",
    "titanic[titanic.index % 2 == 0]\n",
    "\n",
    "#### Tercera manera\n",
    "titanic[titanic.index.to_series().apply(lambda x: x % 2 == 0)]\n",
    "\n",
    "\n",
    "## Nombres de las personas que iban en primera clase ordenadas alfabéticamente.\n",
    "Desglose:\n",
    "- Personas que iban en primer clase titanic['Pclass']\n",
    "- Nombres de las personas titanic['Name']\n",
    "- Ordenados alfabeticamente\n",
    "\n",
    "titanic[titanic['Pclass'] == 1]['Name'].sort_values()\n",
    "\n",
    "## Porcentaje de personas que murieron y sobrevivieron\n",
    "Desglose:\n",
    "- titanic['Survived'] selecciona la columna que indica si una persona sobrevivió (1) o murió (0).\n",
    "- value_counts(normalize=True) cuenta la frecuencia de cada valor (0 o 1) y la normaliza para obtener proporciones.\n",
    "- Multiplicamos por 100 para convertir las proporciones en porcentajes.\n",
    "- \n",
    "titanic['Survived'].value_counts(normalize=True) * 100"
   ]
  }
 ],
 "metadata": {
  "kernelspec": {
   "display_name": "Python 3 (ipykernel)",
   "language": "python",
   "name": "python3"
  },
  "language_info": {
   "codemirror_mode": {
    "name": "ipython",
    "version": 3
   },
   "file_extension": ".py",
   "mimetype": "text/x-python",
   "name": "python",
   "nbconvert_exporter": "python",
   "pygments_lexer": "ipython3",
   "version": "3.11.7"
  }
 },
 "nbformat": 4,
 "nbformat_minor": 5
}
