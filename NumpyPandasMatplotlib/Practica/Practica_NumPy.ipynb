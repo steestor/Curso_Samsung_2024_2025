{
 "cells": [
  {
   "cell_type": "code",
   "execution_count": null,
   "id": "cb5e88f8-aa2a-4732-9df3-e149ec64bae1",
   "metadata": {},
   "outputs": [],
   "source": [
    "### Practica"
   ]
  },
  {
   "cell_type": "code",
   "execution_count": 10,
   "id": "c789c51c-83b7-4e04-ab42-1dfe776549ae",
   "metadata": {},
   "outputs": [
    {
     "name": "stdout",
     "output_type": "stream",
     "text": [
      "Precios con descuento: [ 90 180 270]\n"
     ]
    }
   ],
   "source": [
    "import numpy as np\n",
    "\n",
    "prices = np.array([100,200,300])\n",
    "discounts = np.array([0.9])\n",
    "\n",
    "# Quiero aplicar este descuento a cada uno de los elementos\n",
    "print(f\"Precios con descuento: {np.array(prices*discounts, dtype=int)}\")"
   ]
  },
  {
   "cell_type": "code",
   "execution_count": 15,
   "id": "a980cb73-316c-4027-b120-9d3330239fef",
   "metadata": {},
   "outputs": [
    {
     "name": "stdout",
     "output_type": "stream",
     "text": [
      "Precios con descuento:\n",
      " [[467.1 389.1 171.1]\n",
      " [404.1 463.1 172.1]\n",
      " [382.1 309.1 318.1]]\n"
     ]
    }
   ],
   "source": [
    "# Crea un array de numpy de elementos de 100 a 500 que sea de 3x3\n",
    "prices= np.array(np.random.randint(100,500, size=(3,3)))\n",
    "discounst = np.array([10,20,30])\n",
    "\n",
    "print(f\"Precios con descuento:\\n {prices-discounts}\")"
   ]
  },
  {
   "cell_type": "code",
   "execution_count": 19,
   "id": "36c35bc9-4bac-4ad3-bac6-f342d6adb6fc",
   "metadata": {},
   "outputs": [
    {
     "name": "stdout",
     "output_type": "stream",
     "text": [
      "False\n",
      "True\n"
     ]
    }
   ],
   "source": [
    "array = np.array([1,2,3,4,5])\n",
    "print(np.all(array > 3))\n",
    "print(np.any(array > 3))"
   ]
  },
  {
   "cell_type": "code",
   "execution_count": 31,
   "id": "f640b68d-0fa4-489f-9f89-6962abe48365",
   "metadata": {},
   "outputs": [
    {
     "name": "stdout",
     "output_type": "stream",
     "text": [
      "[1 2 3 4 5 6]\n",
      "[[1 2 3]\n",
      " [4 5 6]]\n",
      "[1 2 3 4 5 6]\n"
     ]
    }
   ],
   "source": [
    "a = np.array([1,2,3])\n",
    "b = np.array([4,5,6])\n",
    "\n",
    "concatenado = np.concatenate([a,b])\n",
    "\n",
    "print(concatenado)\n",
    "print(np.vstack([a,b]))\n",
    "print(np.hstack([a,b]))\n",
    "\n"
   ]
  },
  {
   "cell_type": "code",
   "execution_count": 35,
   "id": "3cf4f301-23c6-42ae-970c-bcb66370e253",
   "metadata": {},
   "outputs": [
    {
     "data": {
      "text/plain": [
       "[array([1, 2, 3]), array([4, 5, 6]), array([7, 8, 9])]"
      ]
     },
     "execution_count": 35,
     "metadata": {},
     "output_type": "execute_result"
    }
   ],
   "source": [
    "c = np.arange(1,10)\n",
    "split_c = np.split(c,3)\n",
    "split_c\n"
   ]
  },
  {
   "cell_type": "code",
   "execution_count": 47,
   "id": "0f10afde-f17e-4ac2-8d4e-ee72b6f90ef5",
   "metadata": {},
   "outputs": [
    {
     "name": "stdout",
     "output_type": "stream",
     "text": [
      "{'malo', 'bueno', 'excelente'}\n",
      "['bueno' 'excelente' 'malo']\n",
      "['bueno' 'excelente' 'malo'] [4 3 3]\n",
      "{'bueno': 4, 'excelente': 3, 'malo': 3}\n"
     ]
    }
   ],
   "source": [
    "enc = [\"bueno\", \"excelente\", \"malo\", \"bueno\", \"malo\", \"excelente\", \"bueno\", \"bueno\", \"malo\", \"excelente\"]\n",
    "\n",
    "# Valores únicos del array\n",
    "print(np.array(set(enc)))\n",
    "print(np.unique(enc))\n",
    "\n",
    "# ¿Cuantas veces aparecen en el conjunto?\n",
    "unique_elem, count = np.unique(enc, return_counts=True, )\n",
    "print(unique_elem, count)\n",
    "print(dict(zip(unique_elem, count)))\n",
    "\n",
    "# Las copias se pueden hacer array[[1,2]]"
   ]
  },
  {
   "cell_type": "code",
   "execution_count": 66,
   "id": "42c55c37-c4a6-4cd7-9baa-b4ad76e25503",
   "metadata": {},
   "outputs": [
    {
     "name": "stdout",
     "output_type": "stream",
     "text": [
      "[[1 2 3]\n",
      " [4 5 6]\n",
      " [7 8 9]]\n",
      "\n",
      "[[1 4 7]\n",
      " [2 5 8]\n",
      " [3 6 9]]\n"
     ]
    }
   ],
   "source": [
    "a = np.array([[1,2,3],[4,5,6],[7,8,9]])\n",
    "print(a)\n",
    "print()\n",
    "print(a.T)"
   ]
  },
  {
   "cell_type": "code",
   "execution_count": 69,
   "id": "14b268d8-c4ac-426e-b055-57bf67995bff",
   "metadata": {},
   "outputs": [
    {
     "data": {
      "text/plain": [
       "array([[1, 2, 3],\n",
       "       [4, 5, 6],\n",
       "       [7, 8, 9]])"
      ]
     },
     "execution_count": 69,
     "metadata": {},
     "output_type": "execute_result"
    }
   ],
   "source": [
    "np.arange(1,10).reshape(3,3)"
   ]
  },
  {
   "cell_type": "code",
   "execution_count": 73,
   "id": "6ca75b9a-7a7b-45b2-a5aa-a42f9d299500",
   "metadata": {},
   "outputs": [
    {
     "data": {
      "text/plain": [
       "array([9, 8, 7, 6, 5, 4, 3, 2, 1])"
      ]
     },
     "execution_count": 73,
     "metadata": {},
     "output_type": "execute_result"
    }
   ],
   "source": [
    "# Hacer el reverse\n",
    "np.arange(1,10)[::-1]"
   ]
  },
  {
   "cell_type": "code",
   "execution_count": 75,
   "id": "863c193e-01e8-42ca-815b-587c312c9887",
   "metadata": {},
   "outputs": [
    {
     "data": {
      "text/plain": [
       "array([1, 2, 3, 4, 5, 6, 7, 8, 9])"
      ]
     },
     "execution_count": 75,
     "metadata": {},
     "output_type": "execute_result"
    }
   ],
   "source": [
    "np.arange(1,10).reshape(3,3).flatten()"
   ]
  }
 ],
 "metadata": {
  "kernelspec": {
   "display_name": "Python 3 (ipykernel)",
   "language": "python",
   "name": "python3"
  },
  "language_info": {
   "codemirror_mode": {
    "name": "ipython",
    "version": 3
   },
   "file_extension": ".py",
   "mimetype": "text/x-python",
   "name": "python",
   "nbconvert_exporter": "python",
   "pygments_lexer": "ipython3",
   "version": "3.11.7"
  }
 },
 "nbformat": 4,
 "nbformat_minor": 5
}
