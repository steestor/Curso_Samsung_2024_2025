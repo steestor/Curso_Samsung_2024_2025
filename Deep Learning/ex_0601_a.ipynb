{
 "cells": [
  {
   "cell_type": "code",
   "execution_count": 3,
   "metadata": {},
   "outputs": [
    {
     "name": "stdout",
     "output_type": "stream",
     "text": [
      "Collecting tensorflow\n",
      "  Downloading tensorflow-2.18.0-cp311-cp311-win_amd64.whl.metadata (3.3 kB)\n",
      "Collecting tensorflow-intel==2.18.0 (from tensorflow)\n",
      "  Downloading tensorflow_intel-2.18.0-cp311-cp311-win_amd64.whl.metadata (4.9 kB)\n",
      "Collecting absl-py>=1.0.0 (from tensorflow-intel==2.18.0->tensorflow)\n",
      "  Downloading absl_py-2.1.0-py3-none-any.whl.metadata (2.3 kB)\n",
      "Collecting astunparse>=1.6.0 (from tensorflow-intel==2.18.0->tensorflow)\n",
      "  Downloading astunparse-1.6.3-py2.py3-none-any.whl.metadata (4.4 kB)\n",
      "Collecting flatbuffers>=24.3.25 (from tensorflow-intel==2.18.0->tensorflow)\n",
      "  Downloading flatbuffers-24.3.25-py2.py3-none-any.whl.metadata (850 bytes)\n",
      "Collecting gast!=0.5.0,!=0.5.1,!=0.5.2,>=0.2.1 (from tensorflow-intel==2.18.0->tensorflow)\n",
      "  Downloading gast-0.6.0-py3-none-any.whl.metadata (1.3 kB)\n",
      "Collecting google-pasta>=0.1.1 (from tensorflow-intel==2.18.0->tensorflow)\n",
      "  Downloading google_pasta-0.2.0-py3-none-any.whl.metadata (814 bytes)\n",
      "Collecting libclang>=13.0.0 (from tensorflow-intel==2.18.0->tensorflow)\n",
      "  Downloading libclang-18.1.1-py2.py3-none-win_amd64.whl.metadata (5.3 kB)\n",
      "Collecting opt-einsum>=2.3.2 (from tensorflow-intel==2.18.0->tensorflow)\n",
      "  Downloading opt_einsum-3.4.0-py3-none-any.whl.metadata (6.3 kB)\n",
      "Requirement already satisfied: packaging in c:\\users\\34665\\anaconda3\\lib\\site-packages (from tensorflow-intel==2.18.0->tensorflow) (23.1)\n",
      "Requirement already satisfied: protobuf!=4.21.0,!=4.21.1,!=4.21.2,!=4.21.3,!=4.21.4,!=4.21.5,<6.0.0dev,>=3.20.3 in c:\\users\\34665\\anaconda3\\lib\\site-packages (from tensorflow-intel==2.18.0->tensorflow) (3.20.3)\n",
      "Requirement already satisfied: requests<3,>=2.21.0 in c:\\users\\34665\\anaconda3\\lib\\site-packages (from tensorflow-intel==2.18.0->tensorflow) (2.31.0)\n",
      "Requirement already satisfied: setuptools in c:\\users\\34665\\anaconda3\\lib\\site-packages (from tensorflow-intel==2.18.0->tensorflow) (68.2.2)\n",
      "Requirement already satisfied: six>=1.12.0 in c:\\users\\34665\\anaconda3\\lib\\site-packages (from tensorflow-intel==2.18.0->tensorflow) (1.16.0)\n",
      "Collecting termcolor>=1.1.0 (from tensorflow-intel==2.18.0->tensorflow)\n",
      "  Downloading termcolor-2.5.0-py3-none-any.whl.metadata (6.1 kB)\n",
      "Requirement already satisfied: typing-extensions>=3.6.6 in c:\\users\\34665\\anaconda3\\lib\\site-packages (from tensorflow-intel==2.18.0->tensorflow) (4.9.0)\n",
      "Requirement already satisfied: wrapt>=1.11.0 in c:\\users\\34665\\anaconda3\\lib\\site-packages (from tensorflow-intel==2.18.0->tensorflow) (1.14.1)\n",
      "Collecting grpcio<2.0,>=1.24.3 (from tensorflow-intel==2.18.0->tensorflow)\n",
      "  Downloading grpcio-1.68.0-cp311-cp311-win_amd64.whl.metadata (4.0 kB)\n",
      "Collecting tensorboard<2.19,>=2.18 (from tensorflow-intel==2.18.0->tensorflow)\n",
      "  Downloading tensorboard-2.18.0-py3-none-any.whl.metadata (1.6 kB)\n",
      "Collecting keras>=3.5.0 (from tensorflow-intel==2.18.0->tensorflow)\n",
      "  Downloading keras-3.6.0-py3-none-any.whl.metadata (5.8 kB)\n",
      "Requirement already satisfied: numpy<2.1.0,>=1.26.0 in c:\\users\\34665\\anaconda3\\lib\\site-packages (from tensorflow-intel==2.18.0->tensorflow) (1.26.4)\n",
      "Collecting h5py>=3.11.0 (from tensorflow-intel==2.18.0->tensorflow)\n",
      "  Downloading h5py-3.12.1-cp311-cp311-win_amd64.whl.metadata (2.5 kB)\n",
      "Collecting ml-dtypes<0.5.0,>=0.4.0 (from tensorflow-intel==2.18.0->tensorflow)\n",
      "  Downloading ml_dtypes-0.4.1-cp311-cp311-win_amd64.whl.metadata (20 kB)\n",
      "Collecting tensorflow-io-gcs-filesystem>=0.23.1 (from tensorflow-intel==2.18.0->tensorflow)\n",
      "  Downloading tensorflow_io_gcs_filesystem-0.31.0-cp311-cp311-win_amd64.whl.metadata (14 kB)\n",
      "Requirement already satisfied: wheel<1.0,>=0.23.0 in c:\\users\\34665\\anaconda3\\lib\\site-packages (from astunparse>=1.6.0->tensorflow-intel==2.18.0->tensorflow) (0.41.2)\n",
      "Requirement already satisfied: rich in c:\\users\\34665\\anaconda3\\lib\\site-packages (from keras>=3.5.0->tensorflow-intel==2.18.0->tensorflow) (13.3.5)\n",
      "Collecting namex (from keras>=3.5.0->tensorflow-intel==2.18.0->tensorflow)\n",
      "  Downloading namex-0.0.8-py3-none-any.whl.metadata (246 bytes)\n",
      "Collecting optree (from keras>=3.5.0->tensorflow-intel==2.18.0->tensorflow)\n",
      "  Downloading optree-0.13.1-cp311-cp311-win_amd64.whl.metadata (48 kB)\n",
      "     ---------------------------------------- 0.0/48.7 kB ? eta -:--:--\n",
      "     ---------------------------------------- 48.7/48.7 kB ? eta 0:00:00\n",
      "Requirement already satisfied: charset-normalizer<4,>=2 in c:\\users\\34665\\anaconda3\\lib\\site-packages (from requests<3,>=2.21.0->tensorflow-intel==2.18.0->tensorflow) (2.0.4)\n",
      "Requirement already satisfied: idna<4,>=2.5 in c:\\users\\34665\\anaconda3\\lib\\site-packages (from requests<3,>=2.21.0->tensorflow-intel==2.18.0->tensorflow) (3.4)\n",
      "Requirement already satisfied: urllib3<3,>=1.21.1 in c:\\users\\34665\\anaconda3\\lib\\site-packages (from requests<3,>=2.21.0->tensorflow-intel==2.18.0->tensorflow) (2.0.7)\n",
      "Requirement already satisfied: certifi>=2017.4.17 in c:\\users\\34665\\anaconda3\\lib\\site-packages (from requests<3,>=2.21.0->tensorflow-intel==2.18.0->tensorflow) (2024.8.30)\n",
      "Requirement already satisfied: markdown>=2.6.8 in c:\\users\\34665\\anaconda3\\lib\\site-packages (from tensorboard<2.19,>=2.18->tensorflow-intel==2.18.0->tensorflow) (3.4.1)\n",
      "Collecting tensorboard-data-server<0.8.0,>=0.7.0 (from tensorboard<2.19,>=2.18->tensorflow-intel==2.18.0->tensorflow)\n",
      "  Downloading tensorboard_data_server-0.7.2-py3-none-any.whl.metadata (1.1 kB)\n",
      "Requirement already satisfied: werkzeug>=1.0.1 in c:\\users\\34665\\anaconda3\\lib\\site-packages (from tensorboard<2.19,>=2.18->tensorflow-intel==2.18.0->tensorflow) (2.2.3)\n",
      "Requirement already satisfied: MarkupSafe>=2.1.1 in c:\\users\\34665\\anaconda3\\lib\\site-packages (from werkzeug>=1.0.1->tensorboard<2.19,>=2.18->tensorflow-intel==2.18.0->tensorflow) (2.1.3)\n",
      "Requirement already satisfied: markdown-it-py<3.0.0,>=2.2.0 in c:\\users\\34665\\anaconda3\\lib\\site-packages (from rich->keras>=3.5.0->tensorflow-intel==2.18.0->tensorflow) (2.2.0)\n",
      "Requirement already satisfied: pygments<3.0.0,>=2.13.0 in c:\\users\\34665\\anaconda3\\lib\\site-packages (from rich->keras>=3.5.0->tensorflow-intel==2.18.0->tensorflow) (2.15.1)\n",
      "Requirement already satisfied: mdurl~=0.1 in c:\\users\\34665\\anaconda3\\lib\\site-packages (from markdown-it-py<3.0.0,>=2.2.0->rich->keras>=3.5.0->tensorflow-intel==2.18.0->tensorflow) (0.1.0)\n",
      "Downloading tensorflow-2.18.0-cp311-cp311-win_amd64.whl (7.5 kB)\n",
      "Downloading tensorflow_intel-2.18.0-cp311-cp311-win_amd64.whl (390.2 MB)\n",
      "   ---------------------------------------- 0.0/390.2 MB ? eta -:--:--\n",
      "   ---------------------------------------- 1.6/390.2 MB 50.6 MB/s eta 0:00:08\n",
      "   ---------------------------------------- 4.5/390.2 MB 58.0 MB/s eta 0:00:07\n",
      "    --------------------------------------- 7.1/390.2 MB 56.5 MB/s eta 0:00:07\n",
      "    --------------------------------------- 9.4/390.2 MB 54.6 MB/s eta 0:00:07\n",
      "   - -------------------------------------- 11.5/390.2 MB 54.7 MB/s eta 0:00:07\n",
      "   - -------------------------------------- 14.0/390.2 MB 50.4 MB/s eta 0:00:08\n",
      "   - -------------------------------------- 16.4/390.2 MB 50.4 MB/s eta 0:00:08\n",
      "   - -------------------------------------- 19.0/390.2 MB 50.4 MB/s eta 0:00:08\n",
      "   -- ------------------------------------- 21.6/390.2 MB 54.4 MB/s eta 0:00:07\n",
      "   -- ------------------------------------- 23.7/390.2 MB 50.4 MB/s eta 0:00:08\n",
      "   -- ------------------------------------- 26.4/390.2 MB 50.4 MB/s eta 0:00:08\n",
      "   -- ------------------------------------- 28.7/390.2 MB 50.4 MB/s eta 0:00:08\n",
      "   --- ------------------------------------ 31.2/390.2 MB 50.4 MB/s eta 0:00:08\n",
      "   --- ------------------------------------ 33.2/390.2 MB 50.4 MB/s eta 0:00:08\n",
      "   --- ------------------------------------ 35.6/390.2 MB 50.4 MB/s eta 0:00:08\n",
      "   --- ------------------------------------ 37.9/390.2 MB 46.7 MB/s eta 0:00:08\n",
      "   ---- ----------------------------------- 40.6/390.2 MB 50.1 MB/s eta 0:00:07\n",
      "   ---- ----------------------------------- 43.0/390.2 MB 59.5 MB/s eta 0:00:06\n",
      "   ---- ----------------------------------- 45.6/390.2 MB 54.4 MB/s eta 0:00:07\n",
      "   ---- ----------------------------------- 48.4/390.2 MB 59.5 MB/s eta 0:00:06\n",
      "   ----- ---------------------------------- 50.7/390.2 MB 59.8 MB/s eta 0:00:06\n",
      "   ----- ---------------------------------- 53.5/390.2 MB 59.5 MB/s eta 0:00:06\n",
      "   ----- ---------------------------------- 56.3/390.2 MB 59.5 MB/s eta 0:00:06\n",
      "   ------ --------------------------------- 58.8/390.2 MB 59.5 MB/s eta 0:00:06\n",
      "   ------ --------------------------------- 61.8/390.2 MB 65.6 MB/s eta 0:00:06\n",
      "   ------ --------------------------------- 64.8/390.2 MB 59.5 MB/s eta 0:00:06\n",
      "   ------ --------------------------------- 67.0/390.2 MB 59.5 MB/s eta 0:00:06\n",
      "   ------- -------------------------------- 69.9/390.2 MB 59.5 MB/s eta 0:00:06\n",
      "   ------- -------------------------------- 72.7/390.2 MB 59.8 MB/s eta 0:00:06\n",
      "   ------- -------------------------------- 75.5/390.2 MB 59.5 MB/s eta 0:00:06\n",
      "   ------- -------------------------------- 77.0/390.2 MB 54.7 MB/s eta 0:00:06\n",
      "   -------- ------------------------------- 80.0/390.2 MB 54.7 MB/s eta 0:00:06\n",
      "   -------- ------------------------------- 82.6/390.2 MB 54.4 MB/s eta 0:00:06\n",
      "   -------- ------------------------------- 85.7/390.2 MB 54.4 MB/s eta 0:00:06\n",
      "   -------- ------------------------------- 87.7/390.2 MB 59.5 MB/s eta 0:00:06\n",
      "   --------- ------------------------------ 90.6/390.2 MB 59.5 MB/s eta 0:00:06\n",
      "   --------- ------------------------------ 92.8/390.2 MB 54.7 MB/s eta 0:00:06\n",
      "   --------- ------------------------------ 95.6/390.2 MB 54.7 MB/s eta 0:00:06\n",
      "   ---------- ----------------------------- 98.0/390.2 MB 54.7 MB/s eta 0:00:06\n",
      "   ---------- ---------------------------- 100.6/390.2 MB 54.7 MB/s eta 0:00:06\n",
      "   ---------- ---------------------------- 102.4/390.2 MB 50.4 MB/s eta 0:00:06\n",
      "   ---------- ---------------------------- 105.2/390.2 MB 50.4 MB/s eta 0:00:06\n",
      "   ---------- ---------------------------- 107.4/390.2 MB 46.7 MB/s eta 0:00:07\n",
      "   ---------- ---------------------------- 109.6/390.2 MB 46.7 MB/s eta 0:00:07\n",
      "   ----------- --------------------------- 112.4/390.2 MB 50.4 MB/s eta 0:00:06\n",
      "   ----------- --------------------------- 114.0/390.2 MB 46.9 MB/s eta 0:00:06\n",
      "   ----------- --------------------------- 116.7/390.2 MB 46.7 MB/s eta 0:00:06\n",
      "   ----------- --------------------------- 119.4/390.2 MB 46.7 MB/s eta 0:00:06\n",
      "   ------------ -------------------------- 121.9/390.2 MB 50.4 MB/s eta 0:00:06\n",
      "   ------------ -------------------------- 125.0/390.2 MB 59.5 MB/s eta 0:00:05\n",
      "   ------------ -------------------------- 127.4/390.2 MB 59.5 MB/s eta 0:00:05\n",
      "   ------------- ------------------------- 130.3/390.2 MB 59.5 MB/s eta 0:00:05\n",
      "   ------------- ------------------------- 132.7/390.2 MB 59.5 MB/s eta 0:00:05\n",
      "   ------------- ------------------------- 135.4/390.2 MB 59.5 MB/s eta 0:00:05\n",
      "   ------------- ------------------------- 138.0/390.2 MB 59.5 MB/s eta 0:00:05\n",
      "   -------------- ------------------------ 140.7/390.2 MB 54.7 MB/s eta 0:00:05\n",
      "   -------------- ------------------------ 143.1/390.2 MB 54.4 MB/s eta 0:00:05\n",
      "   -------------- ------------------------ 145.8/390.2 MB 59.5 MB/s eta 0:00:05\n",
      "   -------------- ------------------------ 148.3/390.2 MB 54.4 MB/s eta 0:00:05\n",
      "   --------------- ----------------------- 151.9/390.2 MB 43.7 MB/s eta 0:00:06\n",
      "   --------------- ----------------------- 153.9/390.2 MB 40.9 MB/s eta 0:00:06\n",
      "   --------------- ----------------------- 156.4/390.2 MB 40.9 MB/s eta 0:00:06\n",
      "   --------------- ----------------------- 159.1/390.2 MB 46.7 MB/s eta 0:00:05\n",
      "   ---------------- ---------------------- 161.9/390.2 MB 54.4 MB/s eta 0:00:05\n",
      "   ---------------- ---------------------- 164.5/390.2 MB 59.5 MB/s eta 0:00:04\n",
      "   ---------------- ---------------------- 167.2/390.2 MB 65.2 MB/s eta 0:00:04\n",
      "   ---------------- ---------------------- 169.5/390.2 MB 59.5 MB/s eta 0:00:04\n",
      "   ----------------- --------------------- 171.6/390.2 MB 54.7 MB/s eta 0:00:04\n",
      "   ----------------- --------------------- 174.3/390.2 MB 54.7 MB/s eta 0:00:04\n",
      "   ----------------- --------------------- 175.8/390.2 MB 50.4 MB/s eta 0:00:05\n",
      "   ----------------- --------------------- 177.1/390.2 MB 43.7 MB/s eta 0:00:05\n",
      "   ----------------- --------------------- 178.8/390.2 MB 40.9 MB/s eta 0:00:06\n",
      "   ------------------ -------------------- 180.6/390.2 MB 40.9 MB/s eta 0:00:06\n",
      "   ------------------ -------------------- 181.9/390.2 MB 38.5 MB/s eta 0:00:06\n",
      "   ------------------ -------------------- 183.0/390.2 MB 34.4 MB/s eta 0:00:07\n",
      "   ------------------ -------------------- 184.7/390.2 MB 32.8 MB/s eta 0:00:07\n",
      "   ------------------ -------------------- 186.1/390.2 MB 32.8 MB/s eta 0:00:07\n",
      "   ------------------ -------------------- 187.6/390.2 MB 32.8 MB/s eta 0:00:07\n",
      "   ------------------ -------------------- 189.1/390.2 MB 29.7 MB/s eta 0:00:07\n",
      "   ------------------- ------------------- 190.2/390.2 MB 28.4 MB/s eta 0:00:08\n",
      "   ------------------- ------------------- 190.9/390.2 MB 26.2 MB/s eta 0:00:08\n",
      "   ------------------- ------------------- 192.1/390.2 MB 27.3 MB/s eta 0:00:08\n",
      "   ------------------- ------------------- 193.7/390.2 MB 27.3 MB/s eta 0:00:08\n",
      "   ------------------- ------------------- 195.3/390.2 MB 28.5 MB/s eta 0:00:07\n",
      "   ------------------- ------------------- 196.8/390.2 MB 28.5 MB/s eta 0:00:07\n",
      "   ------------------- ------------------- 198.6/390.2 MB 29.7 MB/s eta 0:00:07\n",
      "   -------------------- ------------------ 200.4/390.2 MB 34.4 MB/s eta 0:00:06\n",
      "   -------------------- ------------------ 202.1/390.2 MB 36.4 MB/s eta 0:00:06\n",
      "   -------------------- ------------------ 203.5/390.2 MB 36.4 MB/s eta 0:00:06\n",
      "   -------------------- ------------------ 205.6/390.2 MB 36.4 MB/s eta 0:00:06\n",
      "   -------------------- ------------------ 207.2/390.2 MB 36.4 MB/s eta 0:00:06\n",
      "   -------------------- ------------------ 208.8/390.2 MB 34.4 MB/s eta 0:00:06\n",
      "   --------------------- ----------------- 210.3/390.2 MB 34.4 MB/s eta 0:00:06\n",
      "   --------------------- ----------------- 211.9/390.2 MB 34.4 MB/s eta 0:00:06\n",
      "   --------------------- ----------------- 213.9/390.2 MB 36.3 MB/s eta 0:00:05\n",
      "   --------------------- ----------------- 215.3/390.2 MB 34.4 MB/s eta 0:00:06\n",
      "   --------------------- ----------------- 216.9/390.2 MB 34.6 MB/s eta 0:00:06\n",
      "   --------------------- ----------------- 218.6/390.2 MB 36.4 MB/s eta 0:00:05\n",
      "   ---------------------- ---------------- 220.4/390.2 MB 36.4 MB/s eta 0:00:05\n",
      "   ---------------------- ---------------- 221.7/390.2 MB 36.4 MB/s eta 0:00:05\n",
      "   ---------------------- ---------------- 223.6/390.2 MB 34.4 MB/s eta 0:00:05\n",
      "   ---------------------- ---------------- 225.4/390.2 MB 36.4 MB/s eta 0:00:05\n",
      "   ---------------------- ---------------- 226.6/390.2 MB 34.4 MB/s eta 0:00:05\n",
      "   ---------------------- ---------------- 227.3/390.2 MB 31.1 MB/s eta 0:00:06\n",
      "   ---------------------- ---------------- 228.0/390.2 MB 28.5 MB/s eta 0:00:06\n",
      "   ---------------------- ---------------- 229.4/390.2 MB 28.5 MB/s eta 0:00:06\n",
      "   ----------------------- --------------- 230.7/390.2 MB 28.5 MB/s eta 0:00:06\n",
      "   ----------------------- --------------- 231.7/390.2 MB 26.2 MB/s eta 0:00:07\n",
      "   ----------------------- --------------- 233.3/390.2 MB 26.2 MB/s eta 0:00:06\n",
      "   ----------------------- --------------- 235.9/390.2 MB 28.4 MB/s eta 0:00:06\n",
      "   ----------------------- --------------- 238.2/390.2 MB 34.4 MB/s eta 0:00:05\n",
      "   ------------------------ -------------- 240.3/390.2 MB 38.5 MB/s eta 0:00:04\n",
      "   ------------------------ -------------- 242.1/390.2 MB 43.7 MB/s eta 0:00:04\n",
      "   ------------------------ -------------- 243.8/390.2 MB 46.9 MB/s eta 0:00:04\n",
      "   ------------------------ -------------- 245.8/390.2 MB 40.9 MB/s eta 0:00:04\n",
      "   ------------------------ -------------- 247.5/390.2 MB 38.5 MB/s eta 0:00:04\n",
      "   ------------------------ -------------- 249.3/390.2 MB 38.5 MB/s eta 0:00:04\n",
      "   ------------------------- ------------- 250.5/390.2 MB 36.4 MB/s eta 0:00:04\n",
      "   ------------------------- ------------- 251.3/390.2 MB 32.8 MB/s eta 0:00:05\n",
      "   ------------------------- ------------- 252.8/390.2 MB 31.1 MB/s eta 0:00:05\n",
      "   ------------------------- ------------- 254.6/390.2 MB 29.7 MB/s eta 0:00:05\n",
      "   ------------------------- ------------- 256.3/390.2 MB 31.2 MB/s eta 0:00:05\n",
      "   ------------------------- ------------- 258.3/390.2 MB 32.8 MB/s eta 0:00:05\n",
      "   ------------------------- ------------- 259.8/390.2 MB 31.2 MB/s eta 0:00:05\n",
      "   -------------------------- ------------ 261.6/390.2 MB 36.4 MB/s eta 0:00:04\n",
      "   -------------------------- ------------ 263.4/390.2 MB 38.5 MB/s eta 0:00:04\n",
      "   -------------------------- ------------ 265.4/390.2 MB 40.9 MB/s eta 0:00:04\n",
      "   -------------------------- ------------ 267.1/390.2 MB 38.5 MB/s eta 0:00:04\n",
      "   -------------------------- ------------ 269.2/390.2 MB 38.6 MB/s eta 0:00:04\n",
      "   --------------------------- ----------- 271.4/390.2 MB 43.7 MB/s eta 0:00:03\n",
      "   --------------------------- ----------- 273.3/390.2 MB 43.7 MB/s eta 0:00:03\n",
      "   --------------------------- ----------- 275.2/390.2 MB 43.7 MB/s eta 0:00:03\n",
      "   --------------------------- ----------- 276.8/390.2 MB 40.9 MB/s eta 0:00:03\n",
      "   --------------------------- ----------- 278.7/390.2 MB 40.9 MB/s eta 0:00:03\n",
      "   ---------------------------- ---------- 280.8/390.2 MB 40.9 MB/s eta 0:00:03\n",
      "   ---------------------------- ---------- 283.0/390.2 MB 40.9 MB/s eta 0:00:03\n",
      "   ---------------------------- ---------- 286.0/390.2 MB 43.7 MB/s eta 0:00:03\n",
      "   ---------------------------- ---------- 288.2/390.2 MB 46.7 MB/s eta 0:00:03\n",
      "   ---------------------------- ---------- 289.6/390.2 MB 43.5 MB/s eta 0:00:03\n",
      "   ----------------------------- --------- 292.3/390.2 MB 43.7 MB/s eta 0:00:03\n",
      "   ----------------------------- --------- 294.3/390.2 MB 43.7 MB/s eta 0:00:03\n",
      "   ----------------------------- --------- 296.3/390.2 MB 40.9 MB/s eta 0:00:03\n",
      "   ----------------------------- --------- 297.9/390.2 MB 38.5 MB/s eta 0:00:03\n",
      "   ----------------------------- --------- 300.0/390.2 MB 40.9 MB/s eta 0:00:03\n",
      "   ------------------------------ -------- 302.7/390.2 MB 40.9 MB/s eta 0:00:03\n",
      "   ------------------------------ -------- 304.8/390.2 MB 40.9 MB/s eta 0:00:03\n",
      "   ------------------------------ -------- 306.9/390.2 MB 43.7 MB/s eta 0:00:02\n",
      "   ------------------------------ -------- 308.9/390.2 MB 46.9 MB/s eta 0:00:02\n",
      "   ------------------------------- ------- 310.8/390.2 MB 46.7 MB/s eta 0:00:02\n",
      "   ------------------------------- ------- 312.6/390.2 MB 43.7 MB/s eta 0:00:02\n",
      "   ------------------------------- ------- 314.7/390.2 MB 40.9 MB/s eta 0:00:02\n",
      "   ------------------------------- ------- 316.5/390.2 MB 40.9 MB/s eta 0:00:02\n",
      "   ------------------------------- ------- 318.4/390.2 MB 43.5 MB/s eta 0:00:02\n",
      "   -------------------------------- ------ 320.8/390.2 MB 43.5 MB/s eta 0:00:02\n",
      "   -------------------------------- ------ 323.5/390.2 MB 46.9 MB/s eta 0:00:02\n",
      "   -------------------------------- ------ 325.5/390.2 MB 50.4 MB/s eta 0:00:02\n",
      "   -------------------------------- ------ 327.6/390.2 MB 50.4 MB/s eta 0:00:02\n",
      "   -------------------------------- ------ 329.7/390.2 MB 50.4 MB/s eta 0:00:02\n",
      "   --------------------------------- ----- 332.2/390.2 MB 50.4 MB/s eta 0:00:02\n",
      "   --------------------------------- ----- 334.3/390.2 MB 46.7 MB/s eta 0:00:02\n",
      "   --------------------------------- ----- 336.4/390.2 MB 46.7 MB/s eta 0:00:02\n",
      "   --------------------------------- ----- 338.7/390.2 MB 46.7 MB/s eta 0:00:02\n",
      "   ---------------------------------- ---- 340.8/390.2 MB 46.9 MB/s eta 0:00:02\n",
      "   ---------------------------------- ---- 342.9/390.2 MB 46.9 MB/s eta 0:00:02\n",
      "   ---------------------------------- ---- 345.7/390.2 MB 46.7 MB/s eta 0:00:01\n",
      "   ---------------------------------- ---- 347.8/390.2 MB 46.7 MB/s eta 0:00:01\n",
      "   ---------------------------------- ---- 350.1/390.2 MB 46.7 MB/s eta 0:00:01\n",
      "   ----------------------------------- --- 353.2/390.2 MB 50.4 MB/s eta 0:00:01\n",
      "   ----------------------------------- --- 355.4/390.2 MB 43.5 MB/s eta 0:00:01\n",
      "   ----------------------------------- --- 359.6/390.2 MB 46.7 MB/s eta 0:00:01\n",
      "   ------------------------------------ -- 362.0/390.2 MB 46.7 MB/s eta 0:00:01\n",
      "   ------------------------------------ -- 362.0/390.2 MB 38.6 MB/s eta 0:00:01\n",
      "   ------------------------------------ -- 363.7/390.2 MB 36.4 MB/s eta 0:00:01\n",
      "   ------------------------------------ -- 367.5/390.2 MB 38.6 MB/s eta 0:00:01\n",
      "   ------------------------------------ -- 369.8/390.2 MB 36.4 MB/s eta 0:00:01\n",
      "   ------------------------------------- - 372.4/390.2 MB 46.7 MB/s eta 0:00:01\n",
      "   ------------------------------------- - 374.6/390.2 MB 54.7 MB/s eta 0:00:01\n",
      "   ------------------------------------- - 377.3/390.2 MB 50.1 MB/s eta 0:00:01\n",
      "   ------------------------------------- - 379.6/390.2 MB 54.4 MB/s eta 0:00:01\n",
      "   --------------------------------------  381.9/390.2 MB 54.4 MB/s eta 0:00:01\n",
      "   --------------------------------------  384.4/390.2 MB 50.4 MB/s eta 0:00:01\n",
      "   --------------------------------------  386.5/390.2 MB 50.4 MB/s eta 0:00:01\n",
      "   --------------------------------------  388.5/390.2 MB 50.4 MB/s eta 0:00:01\n",
      "   --------------------------------------  390.2/390.2 MB 46.7 MB/s eta 0:00:01\n",
      "   --------------------------------------  390.2/390.2 MB 46.7 MB/s eta 0:00:01\n",
      "   --------------------------------------  390.2/390.2 MB 46.7 MB/s eta 0:00:01\n",
      "   --------------------------------------  390.2/390.2 MB 46.7 MB/s eta 0:00:01\n",
      "   --------------------------------------  390.2/390.2 MB 46.7 MB/s eta 0:00:01\n",
      "   --------------------------------------  390.2/390.2 MB 46.7 MB/s eta 0:00:01\n",
      "   --------------------------------------  390.2/390.2 MB 46.7 MB/s eta 0:00:01\n",
      "   --------------------------------------  390.2/390.2 MB 46.7 MB/s eta 0:00:01\n",
      "   --------------------------------------  390.2/390.2 MB 46.7 MB/s eta 0:00:01\n",
      "   --------------------------------------  390.2/390.2 MB 46.7 MB/s eta 0:00:01\n",
      "   --------------------------------------  390.2/390.2 MB 46.7 MB/s eta 0:00:01\n",
      "   --------------------------------------  390.2/390.2 MB 46.7 MB/s eta 0:00:01\n",
      "   --------------------------------------  390.2/390.2 MB 46.7 MB/s eta 0:00:01\n",
      "   --------------------------------------  390.2/390.2 MB 46.7 MB/s eta 0:00:01\n",
      "   --------------------------------------  390.2/390.2 MB 46.7 MB/s eta 0:00:01\n",
      "   --------------------------------------  390.2/390.2 MB 46.7 MB/s eta 0:00:01\n",
      "   --------------------------------------  390.2/390.2 MB 46.7 MB/s eta 0:00:01\n",
      "   --------------------------------------  390.2/390.2 MB 46.7 MB/s eta 0:00:01\n",
      "   --------------------------------------  390.2/390.2 MB 46.7 MB/s eta 0:00:01\n",
      "   --------------------------------------  390.2/390.2 MB 46.7 MB/s eta 0:00:01\n",
      "   --------------------------------------  390.2/390.2 MB 46.7 MB/s eta 0:00:01\n",
      "   --------------------------------------  390.2/390.2 MB 46.7 MB/s eta 0:00:01\n",
      "   --------------------------------------  390.2/390.2 MB 46.7 MB/s eta 0:00:01\n",
      "   --------------------------------------  390.2/390.2 MB 46.7 MB/s eta 0:00:01\n",
      "   --------------------------------------  390.2/390.2 MB 46.7 MB/s eta 0:00:01\n",
      "   --------------------------------------  390.2/390.2 MB 46.7 MB/s eta 0:00:01\n",
      "   --------------------------------------  390.2/390.2 MB 46.7 MB/s eta 0:00:01\n",
      "   --------------------------------------  390.2/390.2 MB 46.7 MB/s eta 0:00:01\n",
      "   --------------------------------------  390.2/390.2 MB 46.7 MB/s eta 0:00:01\n",
      "   --------------------------------------  390.2/390.2 MB 46.7 MB/s eta 0:00:01\n",
      "   --------------------------------------  390.2/390.2 MB 46.7 MB/s eta 0:00:01\n",
      "   --------------------------------------  390.2/390.2 MB 46.7 MB/s eta 0:00:01\n",
      "   --------------------------------------  390.2/390.2 MB 46.7 MB/s eta 0:00:01\n",
      "   --------------------------------------  390.2/390.2 MB 46.7 MB/s eta 0:00:01\n",
      "   ---------------------------------------- 390.2/390.2 MB 5.6 MB/s eta 0:00:00\n",
      "Downloading absl_py-2.1.0-py3-none-any.whl (133 kB)\n",
      "   ---------------------------------------- 0.0/133.7 kB ? eta -:--:--\n",
      "   ---------------------------------------- 133.7/133.7 kB 7.7 MB/s eta 0:00:00\n",
      "Downloading astunparse-1.6.3-py2.py3-none-any.whl (12 kB)\n",
      "Downloading flatbuffers-24.3.25-py2.py3-none-any.whl (26 kB)\n",
      "Downloading gast-0.6.0-py3-none-any.whl (21 kB)\n",
      "Downloading google_pasta-0.2.0-py3-none-any.whl (57 kB)\n",
      "   ---------------------------------------- 0.0/57.5 kB ? eta -:--:--\n",
      "   ---------------------------------------- 57.5/57.5 kB 3.1 MB/s eta 0:00:00\n",
      "Downloading grpcio-1.68.0-cp311-cp311-win_amd64.whl (4.4 MB)\n",
      "   ---------------------------------------- 0.0/4.4 MB ? eta -:--:--\n",
      "   --------------------- ------------------ 2.4/4.4 MB 51.2 MB/s eta 0:00:01\n",
      "   ---------------------------------------  4.4/4.4 MB 56.2 MB/s eta 0:00:01\n",
      "   ---------------------------------------- 4.4/4.4 MB 35.1 MB/s eta 0:00:00\n",
      "Downloading h5py-3.12.1-cp311-cp311-win_amd64.whl (3.0 MB)\n",
      "   ---------------------------------------- 0.0/3.0 MB ? eta -:--:--\n",
      "   -------------------------- ------------- 2.0/3.0 MB 42.5 MB/s eta 0:00:01\n",
      "   ---------------------------------------- 3.0/3.0 MB 31.9 MB/s eta 0:00:00\n",
      "Downloading keras-3.6.0-py3-none-any.whl (1.2 MB)\n",
      "   ---------------------------------------- 0.0/1.2 MB ? eta -:--:--\n",
      "   ---------------------------------------- 1.2/1.2 MB 25.1 MB/s eta 0:00:00\n",
      "Downloading libclang-18.1.1-py2.py3-none-win_amd64.whl (26.4 MB)\n",
      "   ---------------------------------------- 0.0/26.4 MB ? eta -:--:--\n",
      "   --- ------------------------------------ 2.6/26.4 MB 55.4 MB/s eta 0:00:01\n",
      "   ------- -------------------------------- 4.8/26.4 MB 51.0 MB/s eta 0:00:01\n",
      "   ------------ --------------------------- 8.0/26.4 MB 51.2 MB/s eta 0:00:01\n",
      "   --------------- ------------------------ 10.5/26.4 MB 50.4 MB/s eta 0:00:01\n",
      "   ------------------- -------------------- 12.6/26.4 MB 50.1 MB/s eta 0:00:01\n",
      "   ---------------------- ----------------- 14.8/26.4 MB 50.4 MB/s eta 0:00:01\n",
      "   ------------------------- -------------- 16.9/26.4 MB 46.9 MB/s eta 0:00:01\n",
      "   ----------------------------- ---------- 19.3/26.4 MB 46.7 MB/s eta 0:00:01\n",
      "   -------------------------------- ------- 21.4/26.4 MB 50.4 MB/s eta 0:00:01\n",
      "   ------------------------------------ --- 23.9/26.4 MB 46.7 MB/s eta 0:00:01\n",
      "   ---------------------------------------  26.4/26.4 MB 50.4 MB/s eta 0:00:01\n",
      "   ---------------------------------------  26.4/26.4 MB 50.4 MB/s eta 0:00:01\n",
      "   ---------------------------------------  26.4/26.4 MB 50.4 MB/s eta 0:00:01\n",
      "   ---------------------------------------- 26.4/26.4 MB 32.8 MB/s eta 0:00:00\n",
      "Downloading ml_dtypes-0.4.1-cp311-cp311-win_amd64.whl (126 kB)\n",
      "   ---------------------------------------- 0.0/126.7 kB ? eta -:--:--\n",
      "   ---------------------------------------- 126.7/126.7 kB 7.3 MB/s eta 0:00:00\n",
      "Downloading opt_einsum-3.4.0-py3-none-any.whl (71 kB)\n",
      "   ---------------------------------------- 0.0/71.9 kB ? eta -:--:--\n",
      "   ---------------------------------------- 71.9/71.9 kB 4.1 MB/s eta 0:00:00\n",
      "Downloading tensorboard-2.18.0-py3-none-any.whl (5.5 MB)\n",
      "   ---------------------------------------- 0.0/5.5 MB ? eta -:--:--\n",
      "   ------------- -------------------------- 1.9/5.5 MB 60.1 MB/s eta 0:00:01\n",
      "   ----------------------------------- ---- 4.9/5.5 MB 52.7 MB/s eta 0:00:01\n",
      "   ---------------------------------------- 5.5/5.5 MB 39.2 MB/s eta 0:00:00\n",
      "Downloading tensorflow_io_gcs_filesystem-0.31.0-cp311-cp311-win_amd64.whl (1.5 MB)\n",
      "   ---------------------------------------- 0.0/1.5 MB ? eta -:--:--\n",
      "   ---------------------------------------- 1.5/1.5 MB 31.4 MB/s eta 0:00:00\n",
      "Downloading termcolor-2.5.0-py3-none-any.whl (7.8 kB)\n",
      "Downloading tensorboard_data_server-0.7.2-py3-none-any.whl (2.4 kB)\n",
      "Downloading namex-0.0.8-py3-none-any.whl (5.8 kB)\n",
      "Downloading optree-0.13.1-cp311-cp311-win_amd64.whl (292 kB)\n",
      "   ---------------------------------------- 0.0/292.2 kB ? eta -:--:--\n",
      "   --------------------------------------- 292.2/292.2 kB 17.6 MB/s eta 0:00:00\n",
      "Installing collected packages: namex, libclang, flatbuffers, termcolor, tensorflow-io-gcs-filesystem, tensorboard-data-server, optree, opt-einsum, ml-dtypes, h5py, grpcio, google-pasta, gast, astunparse, absl-py, tensorboard, keras, tensorflow-intel, tensorflow\n",
      "  Attempting uninstall: h5py\n",
      "    Found existing installation: h5py 3.9.0\n",
      "    Uninstalling h5py-3.9.0:\n",
      "      Successfully uninstalled h5py-3.9.0\n",
      "Successfully installed absl-py-2.1.0 astunparse-1.6.3 flatbuffers-24.3.25 gast-0.6.0 google-pasta-0.2.0 grpcio-1.68.0 h5py-3.12.1 keras-3.6.0 libclang-18.1.1 ml-dtypes-0.4.1 namex-0.0.8 opt-einsum-3.4.0 optree-0.13.1 tensorboard-2.18.0 tensorboard-data-server-0.7.2 tensorflow-2.18.0 tensorflow-intel-2.18.0 tensorflow-io-gcs-filesystem-0.31.0 termcolor-2.5.0\n"
     ]
    }
   ],
   "source": [
    "!pip install tensorflow"
   ]
  },
  {
   "attachments": {},
   "cell_type": "markdown",
   "metadata": {
    "id": "3LXZvXn0xcyI"
   },
   "source": [
    "## Coding Exercise #0601"
   ]
  },
  {
   "attachments": {},
   "cell_type": "markdown",
   "metadata": {
    "id": "__bgonykxcyL"
   },
   "source": [
    "### 1. TensorFlow basics:"
   ]
  },
  {
   "cell_type": "code",
   "execution_count": 7,
   "metadata": {
    "id": "KYs8ZMeWxcyN"
   },
   "outputs": [],
   "source": [
    "import tensorflow as tf\n",
    "import numpy as np\n",
    "import random"
   ]
  },
  {
   "attachments": {},
   "cell_type": "markdown",
   "metadata": {
    "id": "hC7IK8HzxcyN"
   },
   "source": [
    "#### 1.1. Hello World!"
   ]
  },
  {
   "cell_type": "code",
   "execution_count": 9,
   "metadata": {
    "colab": {
     "base_uri": "https://localhost:8080/"
    },
    "id": "KQ84reU5xcyO",
    "outputId": "eda91abd-fa03-4731-b2e6-1cddb15fa808"
   },
   "outputs": [
    {
     "name": "stdout",
     "output_type": "stream",
     "text": [
      "Hello World!\n"
     ]
    }
   ],
   "source": [
    "hello = tf.constant(\"Hello World!\")\n",
    "tf.print(hello)"
   ]
  },
  {
   "attachments": {},
   "cell_type": "markdown",
   "metadata": {
    "id": "ERFMpe5-xcyO"
   },
   "source": [
    "#### 1.2. Creating tensors:"
   ]
  },
  {
   "cell_type": "code",
   "execution_count": 11,
   "metadata": {
    "id": "tj7oc9EVxcyP"
   },
   "outputs": [],
   "source": [
    "hello = tf.constant(\"Hello World!\")                         # String.\n",
    "const_scalar = tf.constant(7)                               # A scalar tensor.\n",
    "const_matrix = tf.constant([[1,2], [3,4]])                  # A matrix tensor.\n",
    "mat_fill = tf.fill((4,4),9)                                 # A 4x4 tensor filled with 9s.\n",
    "mat_zeros = tf.zeros((3,3))                                 # A 3x3 tensor filled with 0s.\n",
    "mat_ones = tf.ones((5,5))                                   # A 5x5 tensor filled with 1s.\n",
    "mat_randn = tf.random.normal((3,3), mean=0, stddev=1.0)     # 3x3 random normal tensor.\n",
    "mat_randu = tf.random.uniform((4,4), minval=0, maxval=1.0)  # 4x4 random uniform tensor."
   ]
  },
  {
   "cell_type": "code",
   "execution_count": 13,
   "metadata": {
    "colab": {
     "base_uri": "https://localhost:8080/"
    },
    "id": "0ZN6s8IDxcyQ",
    "outputId": "b1244b27-3149-444c-d7c3-3e66d420926a"
   },
   "outputs": [
    {
     "name": "stdout",
     "output_type": "stream",
     "text": [
      "<class 'tensorflow.python.framework.ops.EagerTensor'>\n",
      "\n",
      "\n",
      "Hello World!\n",
      "\n",
      "\n",
      "<class 'tensorflow.python.framework.ops.EagerTensor'>\n",
      "\n",
      "\n",
      "7\n",
      "\n",
      "\n",
      "<class 'tensorflow.python.framework.ops.EagerTensor'>\n",
      "\n",
      "\n",
      "[[1 2]\n",
      " [3 4]]\n",
      "\n",
      "\n",
      "<class 'tensorflow.python.framework.ops.EagerTensor'>\n",
      "\n",
      "\n",
      "[[9 9 9 9]\n",
      " [9 9 9 9]\n",
      " [9 9 9 9]\n",
      " [9 9 9 9]]\n",
      "\n",
      "\n",
      "<class 'tensorflow.python.framework.ops.EagerTensor'>\n",
      "\n",
      "\n",
      "[[0 0 0]\n",
      " [0 0 0]\n",
      " [0 0 0]]\n",
      "\n",
      "\n",
      "<class 'tensorflow.python.framework.ops.EagerTensor'>\n",
      "\n",
      "\n",
      "[[1 1 1 1 1]\n",
      " [1 1 1 1 1]\n",
      " [1 1 1 1 1]\n",
      " [1 1 1 1 1]\n",
      " [1 1 1 1 1]]\n",
      "\n",
      "\n",
      "<class 'tensorflow.python.framework.ops.EagerTensor'>\n",
      "\n",
      "\n",
      "[[-0.260936886 -0.413201362 0.770086646]\n",
      " [1.23721635 0.869195461 -1.01717019]\n",
      " [-0.0674135834 0.310766429 -0.048630055]]\n",
      "\n",
      "\n",
      "<class 'tensorflow.python.framework.ops.EagerTensor'>\n",
      "\n",
      "\n",
      "[[0.20362401 0.168828011 0.0176018476 0.314644814]\n",
      " [0.0510092974 0.417216182 0.138112068 0.271038055]\n",
      " [0.0897574425 0.534215 0.509768248 0.539209723]\n",
      " [0.309004784 0.707989335 0.426849961 0.609916925]]\n",
      "\n",
      "\n"
     ]
    }
   ],
   "source": [
    "my_ops=[hello, const_scalar, const_matrix, mat_fill, mat_zeros, mat_ones, mat_randn, mat_randu]\n",
    "\n",
    "for op in my_ops:\n",
    "    tf.print(type(op))\n",
    "    tf.print('\\n')\n",
    "    tf.print(op)\n",
    "    tf.print('\\n')"
   ]
  },
  {
   "attachments": {},
   "cell_type": "markdown",
   "metadata": {
    "id": "_DhExaBwxcyQ"
   },
   "source": [
    "#### 1.3. Math operations:"
   ]
  },
  {
   "cell_type": "code",
   "execution_count": 15,
   "metadata": {
    "id": "W5VbsQk3xcyR"
   },
   "outputs": [
    {
     "name": "stdout",
     "output_type": "stream",
     "text": [
      "2\n"
     ]
    }
   ],
   "source": [
    "n1 = tf.constant(1)\n",
    "n2 = tf.constant(2)\n",
    "n3 = n1* n2\n",
    "tf.print(n3)"
   ]
  },
  {
   "cell_type": "code",
   "execution_count": 17,
   "metadata": {
    "id": "A57eswkbxcyR"
   },
   "outputs": [
    {
     "name": "stdout",
     "output_type": "stream",
     "text": [
      "9\n"
     ]
    }
   ],
   "source": [
    "n1 = tf.constant(4)\n",
    "n2 = tf.constant(5)\n",
    "n3 = tf.add(n1,n2)\n",
    "tf.print(n3)"
   ]
  },
  {
   "cell_type": "code",
   "execution_count": 19,
   "metadata": {
    "id": "MVMF6pDHxcyS"
   },
   "outputs": [
    {
     "name": "stdout",
     "output_type": "stream",
     "text": [
      "6\n"
     ]
    }
   ],
   "source": [
    "n1 = tf.constant(2)\n",
    "n2 = tf.constant(3)\n",
    "n3 = tf.multiply(n1,n2)\n",
    "tf.print(n3)"
   ]
  },
  {
   "cell_type": "code",
   "execution_count": 21,
   "metadata": {
    "colab": {
     "base_uri": "https://localhost:8080/"
    },
    "id": "u-ePvcMjxcyS",
    "outputId": "684647f6-38d1-4066-dc21-6091e7895d23"
   },
   "outputs": [
    {
     "name": "stdout",
     "output_type": "stream",
     "text": [
      "8\n"
     ]
    }
   ],
   "source": [
    "n1 = tf.constant(2)\n",
    "n2 = tf.constant(3)\n",
    "n3 = tf.pow(n1,n2)\n",
    "tf.print(n3)"
   ]
  },
  {
   "attachments": {},
   "cell_type": "markdown",
   "metadata": {
    "id": "i5kruGvExcyS"
   },
   "source": [
    "#### 1.4. Matrix functions and operations: (describe briefly what makes each \"new\" function in each cell)"
   ]
  },
  {
   "cell_type": "code",
   "execution_count": 23,
   "metadata": {
    "colab": {
     "base_uri": "https://localhost:8080/"
    },
    "id": "gFZcbpvixcyT",
    "outputId": "1118e128-4e5a-404e-ac1b-4faf11c2eb27"
   },
   "outputs": [
    {
     "name": "stdout",
     "output_type": "stream",
     "text": [
      "tf.Tensor(\n",
      "[[ 5]\n",
      " [11]], shape=(2, 1), dtype=int32)\n"
     ]
    }
   ],
   "source": [
    "m1 = tf.constant([[1,2], [3,4]])\n",
    "m2 = tf.constant([[1], [2]])\n",
    "m3 = tf.matmul(m1, m2)                            # Matrix multiplication. Different from the element-wise multiplication with multiply().\n",
    "print(m3)"
   ]
  },
  {
   "cell_type": "code",
   "execution_count": 25,
   "metadata": {
    "id": "0uAvfUKzxcyT"
   },
   "outputs": [
    {
     "name": "stdout",
     "output_type": "stream",
     "text": [
      "tf.Tensor(\n",
      "[[19 22]\n",
      " [43 50]], shape=(2, 2), dtype=int32)\n"
     ]
    }
   ],
   "source": [
    "m1 = tf.constant([[1,2], [3,4]])\n",
    "m2 = tf.constant([[5, 6], [7, 8]])\n",
    "m3 = tf.matmul(m1, m2)\n",
    "print(m3)"
   ]
  },
  {
   "cell_type": "code",
   "execution_count": 27,
   "metadata": {
    "id": "Y7XHEArExcyT"
   },
   "outputs": [
    {
     "name": "stdout",
     "output_type": "stream",
     "text": [
      "tf.Tensor(\n",
      "[[ 5 12]\n",
      " [21 32]], shape=(2, 2), dtype=int32)\n"
     ]
    }
   ],
   "source": [
    "m3 = tf.multiply(m1, m2)\n",
    "print(m3)"
   ]
  },
  {
   "cell_type": "code",
   "execution_count": 29,
   "metadata": {
    "colab": {
     "base_uri": "https://localhost:8080/"
    },
    "id": "4rOqtj5dxcyU",
    "outputId": "30cc4a32-775e-4845-fdf8-8795625d5717"
   },
   "outputs": [
    {
     "name": "stdout",
     "output_type": "stream",
     "text": [
      "tf.Tensor(\n",
      "[[ 5 12]\n",
      " [21 32]], shape=(2, 2), dtype=int32)\n"
     ]
    }
   ],
   "source": [
    "m3 = m1*m2\n",
    "print(m3)"
   ]
  },
  {
   "cell_type": "code",
   "execution_count": 31,
   "metadata": {
    "id": "7NMnaQMzxcyU"
   },
   "outputs": [
    {
     "name": "stdout",
     "output_type": "stream",
     "text": [
      "tf.Tensor(\n",
      "[[ 6  8]\n",
      " [10 12]], shape=(2, 2), dtype=int32)\n"
     ]
    }
   ],
   "source": [
    "m3 = m1 + m2\n",
    "print(m3)"
   ]
  },
  {
   "cell_type": "code",
   "execution_count": 33,
   "metadata": {
    "id": "HKRAaVsWxcyU"
   },
   "outputs": [
    {
     "name": "stdout",
     "output_type": "stream",
     "text": [
      "tf.Tensor(\n",
      "[[-4 -4]\n",
      " [-4 -4]], shape=(2, 2), dtype=int32)\n"
     ]
    }
   ],
   "source": [
    "m3 = m1-m2\n",
    "print(m3)"
   ]
  },
  {
   "cell_type": "code",
   "execution_count": 35,
   "metadata": {
    "colab": {
     "base_uri": "https://localhost:8080/"
    },
    "id": "rus8AozHxcyV",
    "outputId": "b9dd04c5-7166-40e4-f53b-8ebecc8ab964"
   },
   "outputs": [
    {
     "name": "stdout",
     "output_type": "stream",
     "text": [
      "tf.Tensor(\n",
      "[[0.2        0.33333333]\n",
      " [0.42857143 0.5       ]], shape=(2, 2), dtype=float64)\n"
     ]
    }
   ],
   "source": [
    "m3 = m1 / m2\n",
    "print(m3)"
   ]
  },
  {
   "cell_type": "code",
   "execution_count": 37,
   "metadata": {
    "id": "gDwQjynhxcyV"
   },
   "outputs": [
    {
     "name": "stdout",
     "output_type": "stream",
     "text": [
      "[[1. 2.]\n",
      " [3. 4.]]\n",
      "\n",
      "\n",
      "[[1 0 0]\n",
      " [0 2 0]\n",
      " [0 0 3]]\n",
      "\n",
      "\n",
      "[[1. 3.]\n",
      " [2. 4.]]\n",
      "\n",
      "\n",
      "[[-2.   1. ]\n",
      " [ 1.5 -0.5]]\n",
      "\n",
      "\n",
      "[[ 1.  0.]\n",
      " [-0.  1.]]\n",
      "\n",
      "\n",
      "-2.0\n",
      "\n",
      "\n"
     ]
    }
   ],
   "source": [
    "# Matrix functions.\n",
    "m = tf.constant([[1.0,2.0],[3.0,4.0]])\n",
    "m_diagonal = tf.linalg.diag([1,2,3])\n",
    "m_transpose = tf.transpose(m)\n",
    "m_inverse = tf.linalg.inv(m)\n",
    "m_multiplied = tf.matmul(m, m_inverse)\n",
    "m_determinant = tf.linalg.det(m)\n",
    "my_matrices = [m, m_diagonal, m_transpose, m_inverse, m_multiplied, m_determinant]\n",
    "\n",
    "for mat in my_matrices:\n",
    "    res = mat\n",
    "    print(np.round(res,3))\n",
    "    print('\\n')"
   ]
  },
  {
   "attachments": {},
   "cell_type": "markdown",
   "metadata": {
    "id": "0uoi5T_OzVtF"
   },
   "source": [
    "In the next cell:\n",
    "\n",
    "\n",
    "1.   Create two rank 2 tensorflow variables initialised with random values. Booth matrices must have the same non-square shape (set the tensorflow ramdom seed to 100 to ensure reproducibility of the result).\n",
    "2.   Multiply both matrices (in a matrix way -not element wise-) and save the result in a new variable.\n",
    "3.   Concatenate and stack both matrices and save each result in a different new variable.\n",
    "4.   Create one rank 2 tensorflow variable initialised with random values making sure that it is a square matrix. Obtain the determinant, the inverse and extract the diagonal of the matrix. Save each result in a new variable.\n",
    "5.   Show the results using a print function. Transform all the results to numpy to avoid the \"over-information\" provided by the tensorflow variables. \n",
    "\n",
    "\n",
    "\n"
   ]
  },
  {
   "cell_type": "code",
   "execution_count": 75,
   "metadata": {},
   "outputs": [],
   "source": [
    "tf.random.set_seed(100)\n",
    "np.random.seed(100)"
   ]
  },
  {
   "cell_type": "code",
   "execution_count": 77,
   "metadata": {
    "colab": {
     "base_uri": "https://localhost:8080/"
    },
    "id": "rwuC7CCU1guc",
    "outputId": "06d11c20-2522-407e-cb3d-32eb7a74a333"
   },
   "outputs": [],
   "source": [
    "matriz1 = tf.Variable(tf.random.normal([3, 2]))\n",
    "matriz2 = tf.Variable(tf.random.normal([3, 2]))"
   ]
  },
  {
   "cell_type": "code",
   "execution_count": 79,
   "metadata": {},
   "outputs": [
    {
     "name": "stdout",
     "output_type": "stream",
     "text": [
      "<tf.Variable 'Variable:0' shape=(3, 2) dtype=float32, numpy=\n",
      "array([[ 0.16052227, -1.6597689 ],\n",
      "       [-1.232133  ,  0.5971658 ],\n",
      "       [ 1.0609883 , -1.3277572 ]], dtype=float32)>\n"
     ]
    }
   ],
   "source": [
    "print(matriz1)"
   ]
  },
  {
   "cell_type": "code",
   "execution_count": 81,
   "metadata": {},
   "outputs": [
    {
     "name": "stdout",
     "output_type": "stream",
     "text": [
      "<tf.Variable 'Variable:0' shape=(3, 2) dtype=float32, numpy=\n",
      "array([[ 0.64973587,  0.32791495],\n",
      "       [-0.7519815 , -0.21430096],\n",
      "       [ 0.52599317,  1.1992904 ]], dtype=float32)>\n"
     ]
    }
   ],
   "source": [
    "print(matriz2)"
   ]
  },
  {
   "cell_type": "code",
   "execution_count": 83,
   "metadata": {},
   "outputs": [
    {
     "name": "stdout",
     "output_type": "stream",
     "text": [
      "tf.Tensor(\n",
      "[[-0.439966    0.23498031 -1.9061112 ]\n",
      " [-0.6047414   0.79856807  0.06808168]\n",
      " [ 0.2539707  -0.51330394 -1.0342939 ]], shape=(3, 3), dtype=float32)\n"
     ]
    }
   ],
   "source": [
    "mult = tf.matmul(matriz1, tf.transpose(matriz2))\n",
    "print(mult)"
   ]
  },
  {
   "cell_type": "code",
   "execution_count": 85,
   "metadata": {},
   "outputs": [
    {
     "name": "stdout",
     "output_type": "stream",
     "text": [
      "tf.Tensor(\n",
      "[[ 0.16052227 -1.6597689 ]\n",
      " [-1.232133    0.5971658 ]\n",
      " [ 1.0609883  -1.3277572 ]\n",
      " [ 0.64973587  0.32791495]\n",
      " [-0.7519815  -0.21430096]\n",
      " [ 0.52599317  1.1992904 ]], shape=(6, 2), dtype=float32)\n"
     ]
    }
   ],
   "source": [
    "concatVertical = tf.concat([matriz1, matriz2], axis=0)\n",
    "print(concatVertical)"
   ]
  },
  {
   "cell_type": "code",
   "execution_count": 87,
   "metadata": {},
   "outputs": [
    {
     "name": "stdout",
     "output_type": "stream",
     "text": [
      "(2, 3, 2)\n",
      "tf.Tensor(\n",
      "[[[ 0.16052227 -1.6597689 ]\n",
      "  [-1.232133    0.5971658 ]\n",
      "  [ 1.0609883  -1.3277572 ]]\n",
      "\n",
      " [[ 0.64973587  0.32791495]\n",
      "  [-0.7519815  -0.21430096]\n",
      "  [ 0.52599317  1.1992904 ]]], shape=(2, 3, 2), dtype=float32)\n"
     ]
    }
   ],
   "source": [
    "apilado = tf.stack([matriz1, matriz2], axis=0)\n",
    "print(apilado.shape)\n",
    "print(apilado)"
   ]
  },
  {
   "cell_type": "code",
   "execution_count": 89,
   "metadata": {},
   "outputs": [
    {
     "name": "stdout",
     "output_type": "stream",
     "text": [
      "<tf.Variable 'Variable:0' shape=(3, 3) dtype=float32, numpy=\n",
      "array([[ 1.9533542 ,  0.7105855 , -1.4638338 ],\n",
      "       [-2.4170957 ,  0.9670907 , -1.7943975 ],\n",
      "       [-1.5562451 , -0.79322445,  1.7669842 ]], dtype=float32)>\n"
     ]
    }
   ],
   "source": [
    "matriz_cuadrada = tf.Variable(tf.random.normal([3, 3]))\n",
    "print(matriz_cuadrada)"
   ]
  },
  {
   "cell_type": "code",
   "execution_count": 91,
   "metadata": {},
   "outputs": [
    {
     "name": "stdout",
     "output_type": "stream",
     "text": [
      "tf.Tensor(0.5671259, shape=(), dtype=float32)\n"
     ]
    }
   ],
   "source": [
    "det = tf.linalg.det(matriz_cuadrada)\n",
    "print(det)"
   ]
  },
  {
   "cell_type": "code",
   "execution_count": 93,
   "metadata": {},
   "outputs": [
    {
     "name": "stdout",
     "output_type": "stream",
     "text": [
      "tf.Tensor(\n",
      "[[ 0.50336975 -0.16653214  0.24789421]\n",
      " [12.454893    2.0691383  12.419324  ]\n",
      " [ 6.034515    0.782195    6.359477  ]], shape=(3, 3), dtype=float32)\n"
     ]
    }
   ],
   "source": [
    "inver = tf.linalg.inv(matriz_cuadrada)\n",
    "print(inver)"
   ]
  },
  {
   "cell_type": "code",
   "execution_count": 95,
   "metadata": {},
   "outputs": [
    {
     "name": "stdout",
     "output_type": "stream",
     "text": [
      "tf.Tensor([1.9533542 0.9670907 1.7669842], shape=(3,), dtype=float32)\n"
     ]
    }
   ],
   "source": [
    "diag = tf.linalg.diag_part(matriz_cuadrada)\n",
    "print(diag)"
   ]
  },
  {
   "cell_type": "raw",
   "metadata": {},
   "source": [
    "[[ 0.161 -1.66  -1.232  0.597]\n",
    " [ 1.061 -1.328 -0.279 -0.021]\n",
    " [-1.502  0.307  0.536 -1.317]]\n",
    "\n",
    "\n",
    "[[ 0.65   0.328 -0.752 -0.214]\n",
    " [ 0.526  1.199 -1.292  0.115]\n",
    " [-0.427  0.656  0.061  0.782]]\n",
    "\n",
    "\n",
    "[[ 0.359 -0.245 -0.766]\n",
    " [ 0.468 -0.676 -1.358]\n",
    " [-0.996 -1.266 -0.154]]\n",
    "\n",
    "\n",
    "[[ 0.161 -1.66  -1.232  0.597]\n",
    " [ 1.061 -1.328 -0.279 -0.021]\n",
    " [-1.502  0.307  0.536 -1.317]\n",
    " [ 0.65   0.328 -0.752 -0.214]\n",
    " [ 0.526  1.199 -1.292  0.115]\n",
    " [-0.427  0.656  0.061  0.782]]\n",
    "\n",
    "\n",
    "[[[ 0.161  0.65 ]\n",
    "  [-1.66   0.328]\n",
    "...\n",
    "\n",
    "[ 1.953 -1.794  0.481 -0.233]\n"
   ]
  }
 ],
 "metadata": {
  "colab": {
   "collapsed_sections": [
    "EfMhd13wxcyV",
    "MIYltPXnxcyW"
   ],
   "provenance": []
  },
  "kernelspec": {
   "display_name": "Python 3 (ipykernel)",
   "language": "python",
   "name": "python3"
  },
  "language_info": {
   "codemirror_mode": {
    "name": "ipython",
    "version": 3
   },
   "file_extension": ".py",
   "mimetype": "text/x-python",
   "name": "python",
   "nbconvert_exporter": "python",
   "pygments_lexer": "ipython3",
   "version": "3.11.7"
  }
 },
 "nbformat": 4,
 "nbformat_minor": 4
}
