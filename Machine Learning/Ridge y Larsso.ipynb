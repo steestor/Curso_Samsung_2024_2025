{
 "cells": [
  {
   "cell_type": "code",
   "execution_count": 3,
   "id": "4d2d1f10-dff5-464f-b9be-d6dbc257a6f0",
   "metadata": {},
   "outputs": [],
   "source": [
    "# Importamos las bibliotecas\n",
    "import pandas as pd\n",
    "import sklearn\n",
    "\n",
    "# Importamos los modelos de sklearn \n",
    "from sklearn.linear_model import LinearRegression\n",
    "from sklearn.linear_model import Lasso\n",
    "from sklearn.linear_model import Ridge\n",
    "\n",
    "# Importamos las metricas de entrenamiento y el error medio cuadrado\n",
    "from sklearn.model_selection import train_test_split\n",
    "from sklearn.metrics import mean_squared_error"
   ]
  },
  {
   "cell_type": "code",
   "execution_count": 11,
   "id": "f7f1c8b7-28db-4389-bd31-e2979106f425",
   "metadata": {},
   "outputs": [
    {
     "data": {
      "text/html": [
       "<div>\n",
       "<style scoped>\n",
       "    .dataframe tbody tr th:only-of-type {\n",
       "        vertical-align: middle;\n",
       "    }\n",
       "\n",
       "    .dataframe tbody tr th {\n",
       "        vertical-align: top;\n",
       "    }\n",
       "\n",
       "    .dataframe thead th {\n",
       "        text-align: right;\n",
       "    }\n",
       "</style>\n",
       "<table border=\"1\" class=\"dataframe\">\n",
       "  <thead>\n",
       "    <tr style=\"text-align: right;\">\n",
       "      <th></th>\n",
       "      <th>country</th>\n",
       "      <th>rank</th>\n",
       "      <th>score</th>\n",
       "      <th>high</th>\n",
       "      <th>low</th>\n",
       "      <th>gdp</th>\n",
       "      <th>family</th>\n",
       "      <th>lifexp</th>\n",
       "      <th>freedom</th>\n",
       "      <th>generosity</th>\n",
       "      <th>corruption</th>\n",
       "      <th>dystopia</th>\n",
       "    </tr>\n",
       "  </thead>\n",
       "  <tbody>\n",
       "    <tr>\n",
       "      <th>0</th>\n",
       "      <td>Norway</td>\n",
       "      <td>1</td>\n",
       "      <td>7.537</td>\n",
       "      <td>7.594445</td>\n",
       "      <td>7.479556</td>\n",
       "      <td>1.616463</td>\n",
       "      <td>1.533524</td>\n",
       "      <td>0.796667</td>\n",
       "      <td>0.635423</td>\n",
       "      <td>0.362012</td>\n",
       "      <td>0.315964</td>\n",
       "      <td>2.277027</td>\n",
       "    </tr>\n",
       "    <tr>\n",
       "      <th>1</th>\n",
       "      <td>Denmark</td>\n",
       "      <td>2</td>\n",
       "      <td>7.522</td>\n",
       "      <td>7.581728</td>\n",
       "      <td>7.462272</td>\n",
       "      <td>1.482383</td>\n",
       "      <td>1.551122</td>\n",
       "      <td>0.792566</td>\n",
       "      <td>0.626007</td>\n",
       "      <td>0.355280</td>\n",
       "      <td>0.400770</td>\n",
       "      <td>2.313707</td>\n",
       "    </tr>\n",
       "    <tr>\n",
       "      <th>2</th>\n",
       "      <td>Iceland</td>\n",
       "      <td>3</td>\n",
       "      <td>7.504</td>\n",
       "      <td>7.622030</td>\n",
       "      <td>7.385970</td>\n",
       "      <td>1.480633</td>\n",
       "      <td>1.610574</td>\n",
       "      <td>0.833552</td>\n",
       "      <td>0.627163</td>\n",
       "      <td>0.475540</td>\n",
       "      <td>0.153527</td>\n",
       "      <td>2.322715</td>\n",
       "    </tr>\n",
       "    <tr>\n",
       "      <th>3</th>\n",
       "      <td>Switzerland</td>\n",
       "      <td>4</td>\n",
       "      <td>7.494</td>\n",
       "      <td>7.561772</td>\n",
       "      <td>7.426227</td>\n",
       "      <td>1.564980</td>\n",
       "      <td>1.516912</td>\n",
       "      <td>0.858131</td>\n",
       "      <td>0.620071</td>\n",
       "      <td>0.290549</td>\n",
       "      <td>0.367007</td>\n",
       "      <td>2.276716</td>\n",
       "    </tr>\n",
       "    <tr>\n",
       "      <th>4</th>\n",
       "      <td>Finland</td>\n",
       "      <td>5</td>\n",
       "      <td>7.469</td>\n",
       "      <td>7.527542</td>\n",
       "      <td>7.410458</td>\n",
       "      <td>1.443572</td>\n",
       "      <td>1.540247</td>\n",
       "      <td>0.809158</td>\n",
       "      <td>0.617951</td>\n",
       "      <td>0.245483</td>\n",
       "      <td>0.382612</td>\n",
       "      <td>2.430182</td>\n",
       "    </tr>\n",
       "  </tbody>\n",
       "</table>\n",
       "</div>"
      ],
      "text/plain": [
       "       country  rank  score      high       low       gdp    family    lifexp  \\\n",
       "0       Norway     1  7.537  7.594445  7.479556  1.616463  1.533524  0.796667   \n",
       "1      Denmark     2  7.522  7.581728  7.462272  1.482383  1.551122  0.792566   \n",
       "2      Iceland     3  7.504  7.622030  7.385970  1.480633  1.610574  0.833552   \n",
       "3  Switzerland     4  7.494  7.561772  7.426227  1.564980  1.516912  0.858131   \n",
       "4      Finland     5  7.469  7.527542  7.410458  1.443572  1.540247  0.809158   \n",
       "\n",
       "    freedom  generosity  corruption  dystopia  \n",
       "0  0.635423    0.362012    0.315964  2.277027  \n",
       "1  0.626007    0.355280    0.400770  2.313707  \n",
       "2  0.627163    0.475540    0.153527  2.322715  \n",
       "3  0.620071    0.290549    0.367007  2.276716  \n",
       "4  0.617951    0.245483    0.382612  2.430182  "
      ]
     },
     "execution_count": 11,
     "metadata": {},
     "output_type": "execute_result"
    }
   ],
   "source": [
    "dataset = pd.read_csv('./data/felicidad.csv')\n",
    "dataset.head()"
   ]
  },
  {
   "cell_type": "code",
   "execution_count": 13,
   "id": "cf6b1a7f-7764-48ad-b34e-4cd51dce7e57",
   "metadata": {},
   "outputs": [
    {
     "data": {
      "text/html": [
       "<div>\n",
       "<style scoped>\n",
       "    .dataframe tbody tr th:only-of-type {\n",
       "        vertical-align: middle;\n",
       "    }\n",
       "\n",
       "    .dataframe tbody tr th {\n",
       "        vertical-align: top;\n",
       "    }\n",
       "\n",
       "    .dataframe thead th {\n",
       "        text-align: right;\n",
       "    }\n",
       "</style>\n",
       "<table border=\"1\" class=\"dataframe\">\n",
       "  <thead>\n",
       "    <tr style=\"text-align: right;\">\n",
       "      <th></th>\n",
       "      <th>rank</th>\n",
       "      <th>score</th>\n",
       "      <th>high</th>\n",
       "      <th>low</th>\n",
       "      <th>gdp</th>\n",
       "      <th>family</th>\n",
       "      <th>lifexp</th>\n",
       "      <th>freedom</th>\n",
       "      <th>generosity</th>\n",
       "      <th>corruption</th>\n",
       "      <th>dystopia</th>\n",
       "    </tr>\n",
       "  </thead>\n",
       "  <tbody>\n",
       "    <tr>\n",
       "      <th>count</th>\n",
       "      <td>155.000000</td>\n",
       "      <td>155.000000</td>\n",
       "      <td>155.000000</td>\n",
       "      <td>155.000000</td>\n",
       "      <td>155.000000</td>\n",
       "      <td>155.000000</td>\n",
       "      <td>155.000000</td>\n",
       "      <td>155.000000</td>\n",
       "      <td>155.000000</td>\n",
       "      <td>155.000000</td>\n",
       "      <td>155.000000</td>\n",
       "    </tr>\n",
       "    <tr>\n",
       "      <th>mean</th>\n",
       "      <td>78.000000</td>\n",
       "      <td>5.354019</td>\n",
       "      <td>5.452326</td>\n",
       "      <td>5.255713</td>\n",
       "      <td>0.984718</td>\n",
       "      <td>1.188898</td>\n",
       "      <td>0.551341</td>\n",
       "      <td>0.408786</td>\n",
       "      <td>0.246883</td>\n",
       "      <td>0.123120</td>\n",
       "      <td>1.850238</td>\n",
       "    </tr>\n",
       "    <tr>\n",
       "      <th>std</th>\n",
       "      <td>44.888751</td>\n",
       "      <td>1.131230</td>\n",
       "      <td>1.118542</td>\n",
       "      <td>1.145030</td>\n",
       "      <td>0.420793</td>\n",
       "      <td>0.287263</td>\n",
       "      <td>0.237073</td>\n",
       "      <td>0.149997</td>\n",
       "      <td>0.134780</td>\n",
       "      <td>0.101661</td>\n",
       "      <td>0.500028</td>\n",
       "    </tr>\n",
       "    <tr>\n",
       "      <th>min</th>\n",
       "      <td>1.000000</td>\n",
       "      <td>2.693000</td>\n",
       "      <td>2.864884</td>\n",
       "      <td>2.521116</td>\n",
       "      <td>0.000000</td>\n",
       "      <td>0.000000</td>\n",
       "      <td>0.000000</td>\n",
       "      <td>0.000000</td>\n",
       "      <td>0.000000</td>\n",
       "      <td>0.000000</td>\n",
       "      <td>0.377914</td>\n",
       "    </tr>\n",
       "    <tr>\n",
       "      <th>25%</th>\n",
       "      <td>39.500000</td>\n",
       "      <td>4.505500</td>\n",
       "      <td>4.608172</td>\n",
       "      <td>4.374955</td>\n",
       "      <td>0.663371</td>\n",
       "      <td>1.042635</td>\n",
       "      <td>0.369866</td>\n",
       "      <td>0.303677</td>\n",
       "      <td>0.154106</td>\n",
       "      <td>0.057271</td>\n",
       "      <td>1.591291</td>\n",
       "    </tr>\n",
       "    <tr>\n",
       "      <th>50%</th>\n",
       "      <td>78.000000</td>\n",
       "      <td>5.279000</td>\n",
       "      <td>5.370032</td>\n",
       "      <td>5.193152</td>\n",
       "      <td>1.064578</td>\n",
       "      <td>1.253918</td>\n",
       "      <td>0.606042</td>\n",
       "      <td>0.437454</td>\n",
       "      <td>0.231538</td>\n",
       "      <td>0.089848</td>\n",
       "      <td>1.832910</td>\n",
       "    </tr>\n",
       "    <tr>\n",
       "      <th>75%</th>\n",
       "      <td>116.500000</td>\n",
       "      <td>6.101500</td>\n",
       "      <td>6.194600</td>\n",
       "      <td>6.006527</td>\n",
       "      <td>1.318027</td>\n",
       "      <td>1.414316</td>\n",
       "      <td>0.723008</td>\n",
       "      <td>0.516561</td>\n",
       "      <td>0.323762</td>\n",
       "      <td>0.153296</td>\n",
       "      <td>2.144654</td>\n",
       "    </tr>\n",
       "    <tr>\n",
       "      <th>max</th>\n",
       "      <td>155.000000</td>\n",
       "      <td>7.537000</td>\n",
       "      <td>7.622030</td>\n",
       "      <td>7.479556</td>\n",
       "      <td>1.870766</td>\n",
       "      <td>1.610574</td>\n",
       "      <td>0.949492</td>\n",
       "      <td>0.658249</td>\n",
       "      <td>0.838075</td>\n",
       "      <td>0.464308</td>\n",
       "      <td>3.117485</td>\n",
       "    </tr>\n",
       "  </tbody>\n",
       "</table>\n",
       "</div>"
      ],
      "text/plain": [
       "             rank       score        high         low         gdp      family  \\\n",
       "count  155.000000  155.000000  155.000000  155.000000  155.000000  155.000000   \n",
       "mean    78.000000    5.354019    5.452326    5.255713    0.984718    1.188898   \n",
       "std     44.888751    1.131230    1.118542    1.145030    0.420793    0.287263   \n",
       "min      1.000000    2.693000    2.864884    2.521116    0.000000    0.000000   \n",
       "25%     39.500000    4.505500    4.608172    4.374955    0.663371    1.042635   \n",
       "50%     78.000000    5.279000    5.370032    5.193152    1.064578    1.253918   \n",
       "75%    116.500000    6.101500    6.194600    6.006527    1.318027    1.414316   \n",
       "max    155.000000    7.537000    7.622030    7.479556    1.870766    1.610574   \n",
       "\n",
       "           lifexp     freedom  generosity  corruption    dystopia  \n",
       "count  155.000000  155.000000  155.000000  155.000000  155.000000  \n",
       "mean     0.551341    0.408786    0.246883    0.123120    1.850238  \n",
       "std      0.237073    0.149997    0.134780    0.101661    0.500028  \n",
       "min      0.000000    0.000000    0.000000    0.000000    0.377914  \n",
       "25%      0.369866    0.303677    0.154106    0.057271    1.591291  \n",
       "50%      0.606042    0.437454    0.231538    0.089848    1.832910  \n",
       "75%      0.723008    0.516561    0.323762    0.153296    2.144654  \n",
       "max      0.949492    0.658249    0.838075    0.464308    3.117485  "
      ]
     },
     "execution_count": 13,
     "metadata": {},
     "output_type": "execute_result"
    }
   ],
   "source": [
    "dataset.describe()"
   ]
  },
  {
   "cell_type": "code",
   "execution_count": 15,
   "id": "becb7a3a-b1b2-492e-a35f-409d4be2650f",
   "metadata": {},
   "outputs": [],
   "source": [
    "# Vamos a elegir los features que vamos a usar\n",
    "X = dataset[['gdp', 'family', 'lifexp', 'freedom' , 'corruption' , 'generosity', 'dystopia']]\n",
    "# Definimos nuestro objetivo, que sera nuestro data set, pero solo en la columna score \n",
    "y = dataset[['score']]"
   ]
  },
  {
   "cell_type": "code",
   "execution_count": 17,
   "id": "544e68ca-1179-4e34-bca1-7b966ba7ba28",
   "metadata": {},
   "outputs": [
    {
     "name": "stdout",
     "output_type": "stream",
     "text": [
      "(155, 7)\n",
      "(155, 1)\n"
     ]
    }
   ],
   "source": [
    "# En nuestros features tendremos definidos 155 registros, uno por cada pais, 7 colunas 1 por cada pais\n",
    "print(X.shape)\n",
    "# Y 155 para nuestra columna para nuestro target \n",
    "print(y.shape)"
   ]
  },
  {
   "cell_type": "code",
   "execution_count": 31,
   "id": "0b5f3c25-314c-4d9f-b4cc-8d636f7eedc0",
   "metadata": {},
   "outputs": [],
   "source": [
    "# Aquí vamos a partir nuestro entrenaminto en training y test, no hay olvidar el orden\n",
    "# Con el test size elejimos nuestro porcetaje de datos para training \n",
    "X_train, X_test, y_train, y_test = train_test_split(X,y, test_size=0.25)"
   ]
  },
  {
   "cell_type": "code",
   "execution_count": 33,
   "id": "ba9d3f45-aa2c-4dde-a496-492cf187ae1f",
   "metadata": {},
   "outputs": [],
   "source": [
    "# Aquí definimos nuestros regresores uno por 1 y llamamos el fit o ajuste \n",
    "modelLinear = LinearRegression().fit(X_train, y_train)"
   ]
  },
  {
   "cell_type": "code",
   "execution_count": 35,
   "id": "7eb8c867-fb22-4686-9e64-8668d1ab4b9f",
   "metadata": {},
   "outputs": [],
   "source": [
    "# Vamos calcular la prediccion que nos bota con la funcion predict con la regresion lineal \n",
    "# y le vamos a mandar el test \n",
    "y_predict_linear = modelLinear.predict(X_test)"
   ]
  },
  {
   "cell_type": "code",
   "execution_count": 53,
   "id": "ca97d68f-4c25-414e-8c82-25763c86354b",
   "metadata": {},
   "outputs": [],
   "source": [
    "# Configuramos alpha, que es valor labda y entre mas valor tenga alpha en lasso mas penalizacion \n",
    "# vamos a tener y lo entrenamos con la función fit \n",
    "modelLasso = Lasso(alpha=0.02).fit(X_train, y_train)"
   ]
  },
  {
   "cell_type": "code",
   "execution_count": 55,
   "id": "5d8eba9b-2269-4d0d-80b9-5e4e775f7cc5",
   "metadata": {},
   "outputs": [],
   "source": [
    "# Hacemos una prediccion para ver si es mejor o peor de lo que teniamos en el modelo lineal sobre\n",
    "# exactamente los mismos datos que teníamos anteriormente \n",
    "y_predict_lasso = modelLasso.predict(X_test)"
   ]
  },
  {
   "cell_type": "code",
   "execution_count": 57,
   "id": "e0ea898f-1dc6-4d0c-bc5f-6d1e68782e06",
   "metadata": {},
   "outputs": [],
   "source": [
    "# Hacemos la misma predicción, pero para nuestra regresion ridge \n",
    "modelRidge = Ridge(alpha=1).fit(X_train, y_train)\n",
    "# Calculamos el valor predicho para nuestra regresión ridge \n",
    "y_predict_ridge = modelRidge.predict(X_test)"
   ]
  },
  {
   "cell_type": "code",
   "execution_count": 59,
   "id": "d7e2d583-8b3d-47da-8aad-817c0ab25dd6",
   "metadata": {},
   "outputs": [
    {
     "name": "stdout",
     "output_type": "stream",
     "text": [
      "Linear loss:  7.513480741951884e-08\n"
     ]
    }
   ],
   "source": [
    "# Calculamos la perdida para cada uno de los modelos que entrenamos, empezaremos con nuestro modelo \n",
    "# lineal, con el error medio cuadratico y lo vamos a aplicar con los datos de prueba con la prediccion \n",
    "# que hicimos \n",
    "linear_loss = mean_squared_error(y_test, y_predict_linear)\n",
    "# Mostramos la perdida lineal con la variable que acabamos de calcular\n",
    "print(\"Linear loss: \", linear_loss) "
   ]
  },
  {
   "cell_type": "code",
   "execution_count": 65,
   "id": "0f56a575-fe9f-4f68-b18e-eeea93dfba8c",
   "metadata": {},
   "outputs": [
    {
     "name": "stdout",
     "output_type": "stream",
     "text": [
      "Lasso Loss.  0.03505839447637856\n"
     ]
    }
   ],
   "source": [
    "# Mostramos nuestra perdida Lasso, con la variable lasso loss \n",
    "lasso_loss = mean_squared_error(y_test, y_predict_lasso)\n",
    "print(\"Lasso Loss. \", lasso_loss) "
   ]
  },
  {
   "cell_type": "code",
   "execution_count": 67,
   "id": "66ee0a0a-0641-44e4-b3af-5280502191cc",
   "metadata": {},
   "outputs": [
    {
     "name": "stdout",
     "output_type": "stream",
     "text": [
      "Ridge loss:  0.0049334021982076655\n"
     ]
    }
   ],
   "source": [
    "# Mostramos nuestra perdida de Ridge con la variable lasso loss \n",
    "ridge_loss = mean_squared_error(y_test, y_predict_ridge)\n",
    "print(\"Ridge loss: \", ridge_loss)"
   ]
  },
  {
   "cell_type": "code",
   "execution_count": null,
   "id": "323a5cd8-6edc-4b4d-ab23-3b0f2b59a802",
   "metadata": {},
   "outputs": [],
   "source": [
    "# LA REGRESIÓN RIDGE es la ganadora para este problema "
   ]
  },
  {
   "cell_type": "code",
   "execution_count": 79,
   "id": "f469b12f-80bb-4672-98b1-d9150b29d949",
   "metadata": {},
   "outputs": [
    {
     "name": "stdout",
     "output_type": "stream",
     "text": [
      "Coeficientes lasso: \n",
      "[1.25956011 0.82484143 0.56214583 0.79052779 0.         0.35389607\n",
      " 0.90752348]\n"
     ]
    }
   ],
   "source": [
    "# Imprimimos las coficientes para ver como afecta a cada una de las regresiones (es decir, a cada una de las columnas)\n",
    "print(\"Coeficientes lasso: \")\n",
    "# Esta informacion la podemos encontrar en la variable coef_ \n",
    "print(modelLasso.coef_)"
   ]
  },
  {
   "cell_type": "code",
   "execution_count": 81,
   "id": "6628e4e7-cbce-46f4-b882-faa008ea3ffb",
   "metadata": {},
   "outputs": [
    {
     "name": "stdout",
     "output_type": "stream",
     "text": [
      "Coeficientes ridge:\n",
      "[[1.06989976 0.93783374 0.87572996 0.90015235 0.63147906 0.79051641\n",
      "  0.96338455]]\n"
     ]
    }
   ],
   "source": [
    "# Hacemos lo mismo con ridge \n",
    "print(\"Coeficientes ridge:\")\n",
    "print(modelRidge.coef_) "
   ]
  }
 ],
 "metadata": {
  "kernelspec": {
   "display_name": "Python 3 (ipykernel)",
   "language": "python",
   "name": "python3"
  },
  "language_info": {
   "codemirror_mode": {
    "name": "ipython",
    "version": 3
   },
   "file_extension": ".py",
   "mimetype": "text/x-python",
   "name": "python",
   "nbconvert_exporter": "python",
   "pygments_lexer": "ipython3",
   "version": "3.11.7"
  }
 },
 "nbformat": 4,
 "nbformat_minor": 5
}
