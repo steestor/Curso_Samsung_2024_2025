{
 "cells": [
  {
   "cell_type": "markdown",
   "id": "8db43d7c",
   "metadata": {},
   "source": [
    "### 1.5 Practicing to find an optimal method to solve problems with scikit-learn\n",
    "**Iris Data**\n"
   ]
  },
  {
   "cell_type": "code",
   "execution_count": 1,
   "id": "76759b0f",
   "metadata": {},
   "outputs": [
    {
     "data": {
      "text/plain": [
       "dict_keys(['data', 'target', 'frame', 'target_names', 'DESCR', 'feature_names', 'filename', 'data_module'])"
      ]
     },
     "execution_count": 1,
     "metadata": {},
     "output_type": "execute_result"
    }
   ],
   "source": [
    "### IRIS \n",
    "from sklearn.datasets import load_iris\n",
    "data = load_iris()\n",
    "data.keys()"
   ]
  },
  {
   "cell_type": "code",
   "execution_count": null,
   "id": "5c7c7dbe",
   "metadata": {},
   "outputs": [],
   "source": [
    "import pandas as pd\n",
    "import seaborn as sns\n",
    "import numpy as no\n",
    "import matplotlib.pyplot as plt\n",
    "\n",
    "iris = pd.DataFrame(data = data.data, columns = data.feature_names)\n",
    "print(iris)\n",
    "\n",
    "feature = pd.DataFrame(data = data.data, columns = data.feature_names)\n",
    "target = pd.DataFrame(data = data.target, columns = [\"species\"])\n",
    "print(target)\n",
    "\n",
    "iris = pd.concat([feature, target], axis = 1)\n",
    "iris.rename({\"sepal length (cm)\":\"sepal length\",  \"sepal width (cm)\":\"sepal width\",\n",
    "            \"petal length (cm)\":\"petal length\",  \"petal width (cm)\":\"petal width\"}, axis = 1, inplace = True)\n",
    "iris.columns"
   ]
  },
  {
   "cell_type": "markdown",
   "id": "2aeff154",
   "metadata": {},
   "source": [
    "**Q: Change the target value (“Species”) to {0 -> setosa, 1 -> versicolor, 2 -> virginica} using the map function.**\n"
   ]
  },
  {
   "cell_type": "code",
   "execution_count": null,
   "id": "7cc56a38",
   "metadata": {},
   "outputs": [],
   "source": [
    "# Q: Change the target value (“Species”) to {0 -> setosa, 1 -> versicolor, 2 -> virginica} using the map function.  \n",
    "\n",
    "\n"
   ]
  },
  {
   "cell_type": "markdown",
   "id": "9d22571b",
   "metadata": {},
   "source": [
    "**Q: Check the number of missing values per attribute**\n"
   ]
  },
  {
   "cell_type": "code",
   "execution_count": null,
   "id": "763c9bd5",
   "metadata": {
    "scrolled": true
   },
   "outputs": [],
   "source": [
    "# Q: Check the number of missing values per attribute\n",
    "\n"
   ]
  },
  {
   "cell_type": "code",
   "execution_count": null,
   "id": "10ae7e1c",
   "metadata": {},
   "outputs": [],
   "source": [
    "iris.info()"
   ]
  },
  {
   "cell_type": "code",
   "execution_count": null,
   "id": "1499fb09",
   "metadata": {},
   "outputs": [],
   "source": [
    "iris.describe()"
   ]
  },
  {
   "cell_type": "code",
   "execution_count": null,
   "id": "9da827fb",
   "metadata": {},
   "outputs": [],
   "source": [
    "iris.corr()"
   ]
  },
  {
   "cell_type": "code",
   "execution_count": null,
   "id": "2970ee8e",
   "metadata": {},
   "outputs": [],
   "source": [
    "iris.groupby(\"species\").size()"
   ]
  },
  {
   "cell_type": "code",
   "execution_count": null,
   "id": "31251ed9",
   "metadata": {},
   "outputs": [],
   "source": [
    "# plotting a scatterplot using seaborn \n",
    "sns.scatterplot(data=iris, x='sepal length', y='petal width', hue='species') \n",
    "plt.plot() \n"
   ]
  },
  {
   "cell_type": "code",
   "execution_count": null,
   "id": "863a9111",
   "metadata": {},
   "outputs": [],
   "source": [
    "# plotting a pairplot using seaborn \n",
    "sns.pairplot(iris, hue =\"species\")\n",
    "plt.plot()\n"
   ]
  },
  {
   "cell_type": "markdown",
   "id": "8f18fa84",
   "metadata": {},
   "source": [
    "**Q: What can you observe?  Check the distribution for the different classes, their separability for the different attributes, etc.**\n"
   ]
  },
  {
   "cell_type": "code",
   "execution_count": null,
   "id": "4fa982b4",
   "metadata": {},
   "outputs": [],
   "source": [
    "# Q: Split the data\n",
    "\n",
    "from sklearn.model_selection import train_test_split\n",
    "\n",
    "X_train, X_test, y_train, y_test = ??\n",
    "print(X_test)"
   ]
  },
  {
   "cell_type": "code",
   "execution_count": null,
   "id": "b3204124",
   "metadata": {},
   "outputs": [],
   "source": [
    "# Alg. selection\n",
    "\n",
    "from sklearn.tree import DecisionTreeClassifier\n",
    "\n",
    "model = DecisionTreeClassifier(criterion = \"gini\", splitter = \"best\", max_depth   = 5)\n",
    "model.fit(X_train, y_train)"
   ]
  },
  {
   "cell_type": "code",
   "execution_count": null,
   "id": "400b4330",
   "metadata": {},
   "outputs": [],
   "source": [
    "model.score(X_test, y_test)"
   ]
  },
  {
   "cell_type": "code",
   "execution_count": null,
   "id": "b490d0d0",
   "metadata": {},
   "outputs": [],
   "source": [
    "import numpy as np\n",
    "from sklearn.model_selection import cross_val_score, KFold\n",
    "cv = KFold(n_splits = 10, shuffle = True, random_state = 42)\n",
    "results = cross_val_score(model, X_train,y_train, cv = cv)\n",
    "fin_result = np.mean(results)\n",
    "fin_result\n",
    "results"
   ]
  },
  {
   "cell_type": "code",
   "execution_count": null,
   "id": "8a190c97",
   "metadata": {},
   "outputs": [],
   "source": [
    "for i, _ in enumerate(results):\n",
    "      print(str(i) + \"th cross validation score: \" + repr(_))\n",
    "print(\"Final cross validation score: \" + repr(fin_result))"
   ]
  },
  {
   "cell_type": "code",
   "execution_count": null,
   "id": "a25826ec",
   "metadata": {},
   "outputs": [],
   "source": [
    "# Learning Curves\n",
    "\n",
    "#!pip install scikit-plot\n",
    "\n",
    "import scikitplot as skplt\n",
    "import matplotlib.pyplot as plt\n",
    "skplt.estimators.plot_learning_curve(model,X_train, y_train, figsize = (6,6))\n",
    "plt.show()"
   ]
  },
  {
   "cell_type": "code",
   "execution_count": null,
   "id": "749107fd",
   "metadata": {},
   "outputs": [],
   "source": [
    "# Model Optimisation Strategy\n",
    "\n",
    "estimator = DecisionTreeClassifier()\n",
    "from sklearn.model_selection import GridSearchCV\n",
    "\n",
    "parameters = {\"max_depth\" : [4,6,8,10,12]}\n",
    "model2 = GridSearchCV(estimator = estimator,\n",
    "                      param_grid = parameters,\n",
    "                      cv = KFold(10), verbose = 1,\n",
    "                      n_jobs = -1, refit = True)\n",
    "model2.fit(X_train, y_train)"
   ]
  },
  {
   "cell_type": "code",
   "execution_count": null,
   "id": "97e2eef8",
   "metadata": {},
   "outputs": [],
   "source": [
    "model2.best_estimator_"
   ]
  },
  {
   "cell_type": "code",
   "execution_count": null,
   "id": "1738e196",
   "metadata": {},
   "outputs": [],
   "source": [
    "model2.best_params_"
   ]
  },
  {
   "cell_type": "code",
   "execution_count": null,
   "id": "61933dc9",
   "metadata": {},
   "outputs": [],
   "source": [
    "model2.best_score_"
   ]
  },
  {
   "cell_type": "code",
   "execution_count": null,
   "id": "bf0e399e",
   "metadata": {},
   "outputs": [],
   "source": [
    "# Evaluation Criteria and model evaluation\n",
    "\n",
    "from sklearn.metrics import accuracy_score\n",
    "pred = model2.predict(X_test)\n",
    "pred"
   ]
  },
  {
   "cell_type": "code",
   "execution_count": null,
   "id": "3efb9bdd",
   "metadata": {},
   "outputs": [],
   "source": [
    "accuracy_score(y_test, pred)"
   ]
  },
  {
   "cell_type": "code",
   "execution_count": null,
   "id": "7a198089",
   "metadata": {},
   "outputs": [],
   "source": [
    "# Limitations of accuracy\n",
    "\n",
    "from sklearn.metrics import confusion_matrix\n",
    "pred=model.predict(X_test)\n",
    "confusion_matrix(y_test, pred)"
   ]
  },
  {
   "cell_type": "code",
   "execution_count": null,
   "id": "b8048181",
   "metadata": {},
   "outputs": [],
   "source": [
    "from sklearn.metrics import precision_score\n",
    "precisions = precision_score(y_test, pred, average = None)\n",
    "precisions\n",
    "# array([1.    , 0.9375, 1.    ])\n",
    "\n",
    "for target, score in zip(data.target_names, precisions):\n",
    "        print(f\"{target} precion: {score}\")"
   ]
  },
  {
   "cell_type": "code",
   "execution_count": null,
   "id": "469c4723",
   "metadata": {},
   "outputs": [],
   "source": [
    "from sklearn.metrics import recall_score\n",
    "recalls = recall_score(y_test, pred, average = None)\n",
    "recalls\n",
    "\n",
    "for target, score in zip(data.target_names, recalls):\n",
    "        print(f\"{target} precion: {score}\")"
   ]
  },
  {
   "cell_type": "code",
   "execution_count": null,
   "id": "5d2e8ade",
   "metadata": {},
   "outputs": [],
   "source": [
    "from sklearn.metrics import classification_report\n",
    "print(classification_report(y_test, pred))"
   ]
  }
 ],
 "metadata": {
  "kernelspec": {
   "display_name": "Python 3 (ipykernel)",
   "language": "python",
   "name": "python3"
  },
  "language_info": {
   "codemirror_mode": {
    "name": "ipython",
    "version": 3
   },
   "file_extension": ".py",
   "mimetype": "text/x-python",
   "name": "python",
   "nbconvert_exporter": "python",
   "pygments_lexer": "ipython3",
   "version": "3.10.9"
  }
 },
 "nbformat": 4,
 "nbformat_minor": 5
}
