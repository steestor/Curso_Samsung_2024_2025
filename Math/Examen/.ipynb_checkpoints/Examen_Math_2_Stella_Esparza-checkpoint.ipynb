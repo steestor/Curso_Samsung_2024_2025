{
 "cells": [
  {
   "cell_type": "code",
   "execution_count": null,
   "id": "e752c5b7-8d8e-4f86-8f98-4e2766fc9b46",
   "metadata": {},
   "outputs": [],
   "source": [
    "# NOMBRE: STELLA ESPARZA TORREGROSA"
   ]
  },
  {
   "cell_type": "code",
   "execution_count": 39,
   "id": "aac2e3a4-0bcb-4d5b-89d6-5e578d0f60e4",
   "metadata": {},
   "outputs": [],
   "source": [
    "import pandas as pd\n",
    "import numpy as np\n",
    "import matplotlib.pyplot as plt\n",
    "from numpy import linalg as la\n",
    "import math"
   ]
  },
  {
   "cell_type": "markdown",
   "id": "a5cf2f27-9fb2-4a43-a56a-dbee946b8f63",
   "metadata": {},
   "source": [
    "Adjunta a esta tarea encontrarás una hoja de datos (Excel) que contiene datos sobre un ranking internacional de Universidades del año 2023. En esta tarea te pedimos que utilices modelos lineales que determinen el valor de la variable ‘Overall Score’ a partir de las variables ‘No student per staff’, ‘Teaching Score’, ‘Research Score’ y ‘Industry Income Score’. Construye los modelos que necesites para poder responder a estas preguntas: \n",
    "\n",
    "¿Cuál de las variables es más importante para determinar el Overall Score? \n",
    "\n",
    "¿Existe sobreajuste en el modelo que has creado para responder a la pregunta anterior? \n",
    "\n",
    "¿Es relevante la variable ‘Industry Income Score’? Crea un modelo con todas las variables anteriores menos esta y realiza un test de significatividad estadística de rendimiento entre este modelo y el modelo con todas las variables.  \n",
    "\n",
    "A la hora de crear los conjuntos de entrenamiento y validación, ten en cuenta que el conjunto de datos proporcionado se encuentra ordenado por ranking de acuerdo al valor de la variable ‘Overall score’. "
   ]
  },
  {
   "cell_type": "code",
   "execution_count": 42,
   "id": "e8088873-ca95-470f-8d63-8e62c2ecae50",
   "metadata": {},
   "outputs": [
    {
     "data": {
      "text/html": [
       "<div>\n",
       "<style scoped>\n",
       "    .dataframe tbody tr th:only-of-type {\n",
       "        vertical-align: middle;\n",
       "    }\n",
       "\n",
       "    .dataframe tbody tr th {\n",
       "        vertical-align: top;\n",
       "    }\n",
       "\n",
       "    .dataframe thead th {\n",
       "        text-align: right;\n",
       "    }\n",
       "</style>\n",
       "<table border=\"1\" class=\"dataframe\">\n",
       "  <thead>\n",
       "    <tr style=\"text-align: right;\">\n",
       "      <th></th>\n",
       "      <th>University Rank</th>\n",
       "      <th>Name of University</th>\n",
       "      <th>Location</th>\n",
       "      <th>No of student</th>\n",
       "      <th>No of student per staff</th>\n",
       "      <th>International Student</th>\n",
       "      <th>Female:Male Ratio</th>\n",
       "      <th>OverAll Score</th>\n",
       "      <th>Teaching Score</th>\n",
       "      <th>Research Score</th>\n",
       "      <th>Citations Score</th>\n",
       "      <th>Industry Income Score</th>\n",
       "      <th>International Outlook Score</th>\n",
       "    </tr>\n",
       "  </thead>\n",
       "  <tbody>\n",
       "    <tr>\n",
       "      <th>0</th>\n",
       "      <td>1</td>\n",
       "      <td>University of Oxford</td>\n",
       "      <td>United Kingdom</td>\n",
       "      <td>20,965</td>\n",
       "      <td>10.6</td>\n",
       "      <td>42%</td>\n",
       "      <td>48:52:00</td>\n",
       "      <td>96.4</td>\n",
       "      <td>92.3</td>\n",
       "      <td>99.7</td>\n",
       "      <td>99.0</td>\n",
       "      <td>74.9</td>\n",
       "      <td>96.2</td>\n",
       "    </tr>\n",
       "    <tr>\n",
       "      <th>1</th>\n",
       "      <td>2</td>\n",
       "      <td>Harvard University</td>\n",
       "      <td>United States</td>\n",
       "      <td>21,887</td>\n",
       "      <td>9.6</td>\n",
       "      <td>25%</td>\n",
       "      <td>50:50:00</td>\n",
       "      <td>95.2</td>\n",
       "      <td>94.8</td>\n",
       "      <td>99.0</td>\n",
       "      <td>99.3</td>\n",
       "      <td>49.5</td>\n",
       "      <td>80.5</td>\n",
       "    </tr>\n",
       "    <tr>\n",
       "      <th>2</th>\n",
       "      <td>3</td>\n",
       "      <td>University of Cambridge</td>\n",
       "      <td>United Kingdom</td>\n",
       "      <td>20,185</td>\n",
       "      <td>11.3</td>\n",
       "      <td>39%</td>\n",
       "      <td>47:53:00</td>\n",
       "      <td>94.8</td>\n",
       "      <td>90.9</td>\n",
       "      <td>99.5</td>\n",
       "      <td>97.0</td>\n",
       "      <td>54.2</td>\n",
       "      <td>95.8</td>\n",
       "    </tr>\n",
       "    <tr>\n",
       "      <th>3</th>\n",
       "      <td>3</td>\n",
       "      <td>Stanford University</td>\n",
       "      <td>United States</td>\n",
       "      <td>16,164</td>\n",
       "      <td>7.1</td>\n",
       "      <td>24%</td>\n",
       "      <td>46:54:00</td>\n",
       "      <td>94.8</td>\n",
       "      <td>94.2</td>\n",
       "      <td>96.7</td>\n",
       "      <td>99.8</td>\n",
       "      <td>65.0</td>\n",
       "      <td>79.8</td>\n",
       "    </tr>\n",
       "    <tr>\n",
       "      <th>4</th>\n",
       "      <td>5</td>\n",
       "      <td>Massachusetts Institute of Technology</td>\n",
       "      <td>United States</td>\n",
       "      <td>11,415</td>\n",
       "      <td>8.2</td>\n",
       "      <td>33%</td>\n",
       "      <td>40 : 60</td>\n",
       "      <td>94.2</td>\n",
       "      <td>90.7</td>\n",
       "      <td>93.6</td>\n",
       "      <td>99.8</td>\n",
       "      <td>90.9</td>\n",
       "      <td>89.3</td>\n",
       "    </tr>\n",
       "    <tr>\n",
       "      <th>5</th>\n",
       "      <td>6</td>\n",
       "      <td>California Institute of Technology</td>\n",
       "      <td>United States</td>\n",
       "      <td>2,237</td>\n",
       "      <td>6.2</td>\n",
       "      <td>34%</td>\n",
       "      <td>37 : 63</td>\n",
       "      <td>94.1</td>\n",
       "      <td>90.9</td>\n",
       "      <td>97.0</td>\n",
       "      <td>97.3</td>\n",
       "      <td>89.8</td>\n",
       "      <td>83.6</td>\n",
       "    </tr>\n",
       "    <tr>\n",
       "      <th>6</th>\n",
       "      <td>7</td>\n",
       "      <td>Princeton University</td>\n",
       "      <td>United States</td>\n",
       "      <td>8,279</td>\n",
       "      <td>8.0</td>\n",
       "      <td>23%</td>\n",
       "      <td>46:54:00</td>\n",
       "      <td>92.4</td>\n",
       "      <td>87.6</td>\n",
       "      <td>95.9</td>\n",
       "      <td>99.1</td>\n",
       "      <td>66.0</td>\n",
       "      <td>80.3</td>\n",
       "    </tr>\n",
       "    <tr>\n",
       "      <th>7</th>\n",
       "      <td>8</td>\n",
       "      <td>University of California, Berkeley</td>\n",
       "      <td>United States</td>\n",
       "      <td>40,921</td>\n",
       "      <td>18.4</td>\n",
       "      <td>24%</td>\n",
       "      <td>52:48:00</td>\n",
       "      <td>92.1</td>\n",
       "      <td>86.4</td>\n",
       "      <td>95.8</td>\n",
       "      <td>99.0</td>\n",
       "      <td>76.8</td>\n",
       "      <td>78.4</td>\n",
       "    </tr>\n",
       "    <tr>\n",
       "      <th>8</th>\n",
       "      <td>9</td>\n",
       "      <td>Yale University</td>\n",
       "      <td>United States</td>\n",
       "      <td>13,482</td>\n",
       "      <td>5.9</td>\n",
       "      <td>21%</td>\n",
       "      <td>52:48:00</td>\n",
       "      <td>91.4</td>\n",
       "      <td>92.6</td>\n",
       "      <td>92.7</td>\n",
       "      <td>97.0</td>\n",
       "      <td>55.0</td>\n",
       "      <td>70.9</td>\n",
       "    </tr>\n",
       "    <tr>\n",
       "      <th>9</th>\n",
       "      <td>10</td>\n",
       "      <td>Imperial College London</td>\n",
       "      <td>United Kingdom</td>\n",
       "      <td>18,545</td>\n",
       "      <td>11.2</td>\n",
       "      <td>61%</td>\n",
       "      <td>40 : 60</td>\n",
       "      <td>90.4</td>\n",
       "      <td>82.8</td>\n",
       "      <td>90.8</td>\n",
       "      <td>98.3</td>\n",
       "      <td>59.8</td>\n",
       "      <td>97.5</td>\n",
       "    </tr>\n",
       "  </tbody>\n",
       "</table>\n",
       "</div>"
      ],
      "text/plain": [
       "   University Rank                     Name of University        Location  \\\n",
       "0                1                   University of Oxford  United Kingdom   \n",
       "1                2                     Harvard University   United States   \n",
       "2                3                University of Cambridge  United Kingdom   \n",
       "3                3                    Stanford University   United States   \n",
       "4                5  Massachusetts Institute of Technology   United States   \n",
       "5                6     California Institute of Technology   United States   \n",
       "6                7                   Princeton University   United States   \n",
       "7                8     University of California, Berkeley   United States   \n",
       "8                9                        Yale University   United States   \n",
       "9               10                Imperial College London  United Kingdom   \n",
       "\n",
       "  No of student  No of student per staff International Student  \\\n",
       "0        20,965                     10.6                   42%   \n",
       "1        21,887                      9.6                   25%   \n",
       "2        20,185                     11.3                   39%   \n",
       "3        16,164                      7.1                   24%   \n",
       "4        11,415                      8.2                   33%   \n",
       "5         2,237                      6.2                   34%   \n",
       "6         8,279                      8.0                   23%   \n",
       "7        40,921                     18.4                   24%   \n",
       "8        13,482                      5.9                   21%   \n",
       "9        18,545                     11.2                   61%   \n",
       "\n",
       "  Female:Male Ratio  OverAll Score  Teaching Score  Research Score  \\\n",
       "0          48:52:00           96.4            92.3            99.7   \n",
       "1          50:50:00           95.2            94.8            99.0   \n",
       "2          47:53:00           94.8            90.9            99.5   \n",
       "3          46:54:00           94.8            94.2            96.7   \n",
       "4           40 : 60           94.2            90.7            93.6   \n",
       "5           37 : 63           94.1            90.9            97.0   \n",
       "6          46:54:00           92.4            87.6            95.9   \n",
       "7          52:48:00           92.1            86.4            95.8   \n",
       "8          52:48:00           91.4            92.6            92.7   \n",
       "9           40 : 60           90.4            82.8            90.8   \n",
       "\n",
       "   Citations Score  Industry Income Score  International Outlook Score  \n",
       "0             99.0                   74.9                         96.2  \n",
       "1             99.3                   49.5                         80.5  \n",
       "2             97.0                   54.2                         95.8  \n",
       "3             99.8                   65.0                         79.8  \n",
       "4             99.8                   90.9                         89.3  \n",
       "5             97.3                   89.8                         83.6  \n",
       "6             99.1                   66.0                         80.3  \n",
       "7             99.0                   76.8                         78.4  \n",
       "8             97.0                   55.0                         70.9  \n",
       "9             98.3                   59.8                         97.5  "
      ]
     },
     "execution_count": 42,
     "metadata": {},
     "output_type": "execute_result"
    }
   ],
   "source": [
    "datos = pd.read_excel(\"./World-University-Rankings-2023_Simplificado.xlsx\")\n",
    "datos.head(10)"
   ]
  },
  {
   "cell_type": "code",
   "execution_count": 44,
   "id": "8a737f17-03cc-4a2e-92da-e08a826106d4",
   "metadata": {},
   "outputs": [],
   "source": [
    "X = datos[['No of student per staff', 'Teaching Score', 'Research Score', 'Industry Income Score']]\n",
    "y = datos['OverAll Score']"
   ]
  },
  {
   "cell_type": "code",
   "execution_count": 46,
   "id": "36921edd-fdb4-4c7c-bd30-b4b631fe7b8d",
   "metadata": {},
   "outputs": [],
   "source": [
    "def dividir_datos_ordenados(X, y, proporcion_prueba=0.5):\n",
    "    n = len(X)\n",
    "    indices = np.arange(n)\n",
    "    indices_pares = indices[::2]\n",
    "    indices_impares = indices[1::2]\n",
    "    \n",
    "    X_entrenamiento = X.iloc[indices_pares]\n",
    "    X_prueba = X.iloc[indices_impares]\n",
    "    y_entrenamiento = y.iloc[indices_pares]\n",
    "    y_prueba = y.iloc[indices_impares]\n",
    "    \n",
    "    return X_entrenamiento, X_prueba, y_entrenamiento, y_prueba"
   ]
  },
  {
   "cell_type": "code",
   "execution_count": 48,
   "id": "25d54e95-23ec-466d-a570-e1c88c1221a9",
   "metadata": {},
   "outputs": [],
   "source": [
    "def estandarizar(X):\n",
    "    if isinstance(X, pd.DataFrame):\n",
    "        media = X.mean()\n",
    "        desviacion_estandar = X.std()\n",
    "        return (X - media) / desviacion_estandar, media, desviacion_estandar\n",
    "    else:\n",
    "        media = np.mean(X, axis=0)\n",
    "        desviacion_estandar = np.std(X, axis=0)\n",
    "        return (X - media) / desviacion_estandar, media, desviacion_estandar"
   ]
  },
  {
   "cell_type": "markdown",
   "id": "1ffd74c7-5044-47b3-99e8-122cf49da71c",
   "metadata": {},
   "source": [
    "Preparamos los datos para trabajar"
   ]
  },
  {
   "cell_type": "code",
   "execution_count": 53,
   "id": "093387a2-27e0-47f9-bb2b-bf6433ceb7f9",
   "metadata": {},
   "outputs": [],
   "source": [
    "X_entrenamiento, X_validacion, y_entrenamiento, y_validacion = dividir_datos_ordenados(X, y)\n",
    "X_entrenamiento_estandarizado, media_entrenamiento, desviacion_entrenamiento = estandarizar(X_entrenamiento)\n",
    "X_validacion_estandarizado = (X_validacion - media_entrenamiento) / desviacion_entrenamiento"
   ]
  },
  {
   "cell_type": "code",
   "execution_count": 55,
   "id": "0f437c88-9efc-4811-9c2d-e779d74a4b4a",
   "metadata": {},
   "outputs": [],
   "source": [
    "def regresion_lineal(X, y):\n",
    "    X = np.column_stack((np.ones(len(X)), X))\n",
    "    coeficientes = la.inv(X.T @ X) @ X.T @ y\n",
    "    return coeficientes[1:], coeficientes[0]"
   ]
  },
  {
   "cell_type": "code",
   "execution_count": 57,
   "id": "7e9b54bd-ffc5-430b-8a98-30fb7fbb639b",
   "metadata": {},
   "outputs": [],
   "source": [
    "def predecir(X, coeficientes, termino_independiente):\n",
    "    return X @ coeficientes + termino_independiente"
   ]
  },
  {
   "cell_type": "code",
   "execution_count": 59,
   "id": "ca2f33c1-9379-45b2-a28f-a108653f9767",
   "metadata": {},
   "outputs": [],
   "source": [
    "def error_cuadratico_medio(y_verdadero, y_predicho):\n",
    "    return np.mean((y_verdadero - y_predicho) ** 2)"
   ]
  },
  {
   "cell_type": "code",
   "execution_count": 61,
   "id": "c2a740a5-9de6-4ede-afbd-396acba90e9f",
   "metadata": {},
   "outputs": [],
   "source": [
    "def coeficiente_determinacion(y_verdadero, y_predicho):\n",
    "    ss_total = np.sum((y_verdadero - np.mean(y_verdadero)) ** 2)\n",
    "    ss_residual = np.sum((y_verdadero - y_predicho) ** 2)\n",
    "    return 1 - (ss_residual / ss_total)"
   ]
  },
  {
   "cell_type": "markdown",
   "id": "ffec49b5-19d0-49d7-b353-559da548d5e5",
   "metadata": {},
   "source": [
    "Implementación de la regresión lineal y evaluación de la importancia de las variables"
   ]
  },
  {
   "cell_type": "code",
   "execution_count": 64,
   "id": "1ed46894-0ef4-49e5-ab09-b74eaefba215",
   "metadata": {},
   "outputs": [
    {
     "name": "stdout",
     "output_type": "stream",
     "text": [
      "Importancia de las variables:\n",
      "                  Variable  Coeficiente\n",
      "2           Research Score     7.741428\n",
      "1           Teaching Score     2.791727\n",
      "0  No of student per staff    -0.934452\n",
      "3    Industry Income Score    -0.507108\n",
      "\n"
     ]
    }
   ],
   "source": [
    "# Ajustamos el modelo\n",
    "coeficientes, termino_independiente = regresion_lineal(X_entrenamiento_estandarizado, y_entrenamiento)\n",
    "\n",
    "nombres_columnas = X.columns\n",
    "importancia = pd.DataFrame({\n",
    "    'Variable': nombres_columnas,\n",
    "    'Coeficiente': coeficientes\n",
    "})\n",
    "importancia = importancia.sort_values('Coeficiente', key=abs, ascending=False)\n",
    "print(\"Importancia de las variables:\")\n",
    "print(importancia)\n",
    "print()"
   ]
  },
  {
   "cell_type": "code",
   "execution_count": 79,
   "id": "c43d3bed-c8d9-4b4c-9453-f101ff06504d",
   "metadata": {},
   "outputs": [
    {
     "name": "stdout",
     "output_type": "stream",
     "text": [
      "Rendimiento del modelo en entrenamiento:\n",
      "Error Cuadrático Medio: 12.5825\n",
      "Coeficiente de Determinación (R2): 0.8971\n",
      "\n",
      "Rendimiento del modelo en validación:\n",
      "Error Cuadrático Medio: 13.6433\n",
      "Coeficiente de Determinación (R2): 0.8853\n",
      "\n"
     ]
    }
   ],
   "source": [
    "y_predicho_entrenamiento = predecir(X_entrenamiento_estandarizado, coeficientes, termino_independiente)\n",
    "y_predicho_validacion = predecir(X_validacion_estandarizado, coeficientes, termino_independiente)\n",
    "\n",
    "ecm_entrenamiento = error_cuadratico_medio(y_entrenamiento, y_predicho_entrenamiento)\n",
    "r2_entrenamiento = coeficiente_determinacion(y_entrenamiento, y_predicho_entrenamiento)\n",
    "ecm_validacion = error_cuadratico_medio(y_validacion, y_predicho_validacion)\n",
    "r2_validacion = coeficiente_determinacion(y_validacion, y_predicho_validacion)\n",
    "\n",
    "print(\"Rendimiento del modelo en entrenamiento:\")\n",
    "print(f\"Error Cuadrático Medio: {ecm_entrenamiento:.4f}\")\n",
    "print(f\"Coeficiente de Determinación (R2): {r2_entrenamiento:.4f}\")\n",
    "print()\n",
    "print(\"Rendimiento del modelo en validación:\")\n",
    "print(f\"Error Cuadrático Medio: {ecm_validacion:.4f}\")\n",
    "print(f\"Coeficiente de Determinación (R2): {r2_validacion:.4f}\")\n",
    "print()"
   ]
  },
  {
   "cell_type": "code",
   "execution_count": 81,
   "id": "54579981-ac12-4bbe-975c-c44c6f8c8534",
   "metadata": {},
   "outputs": [
    {
     "name": "stdout",
     "output_type": "stream",
     "text": [
      "No se detecta sobreajuste significativo.\n",
      "\n"
     ]
    }
   ],
   "source": [
    "def evaluar_sobreajuste(ecm_entrenamiento, ecm_validacion, r2_entrenamiento, r2_validacion, umbral=0.1):\n",
    "    diff_ecm = abs(ecm_entrenamiento - ecm_validacion) / ecm_entrenamiento\n",
    "    diff_r2 = abs(r2_entrenamiento - r2_validacion) / r2_entrenamiento\n",
    "    \n",
    "    if diff_ecm > umbral or diff_r2 > umbral:\n",
    "        return f\"Posible sobreajuste detectado. Diferencia ECM: {diff_ecm:.2%}, Diferencia R2: {diff_r2:.2%}\"\n",
    "    else:\n",
    "        return \"No se detecta sobreajuste significativo.\"\n",
    "\n",
    "print(evaluar_sobreajuste(ecm_entrenamiento, ecm_validacion, r2_entrenamiento, r2_validacion))\n",
    "print()"
   ]
  },
  {
   "cell_type": "code",
   "execution_count": 83,
   "id": "a4670053-58ed-477d-b7c0-bd5701f6ced0",
   "metadata": {},
   "outputs": [
    {
     "name": "stdout",
     "output_type": "stream",
     "text": [
      "Rendimiento del modelo reducido:\n",
      "Error Cuadrático Medio: 14.6282\n",
      "Coeficiente de Determinación (R2): 0.8770\n",
      "\n"
     ]
    }
   ],
   "source": [
    "# Modelo reducido\n",
    "X_reducido = X[['No of student per staff', 'Teaching Score', 'Research Score']]\n",
    "X_entrenamiento_reducido, X_validacion_reducido, _, _ = dividir_datos_ordenados(X_reducido, y)\n",
    "\n",
    "X_entrenamiento_reducido_estandarizado, _, _ = estandarizar(X_entrenamiento_reducido)\n",
    "X_validacion_reducido_estandarizado = (X_validacion_reducido - X_entrenamiento_reducido.mean()) / X_entrenamiento_reducido.std()\n",
    "\n",
    "coeficientes_reducido, termino_independiente_reducido = regresion_lineal(X_entrenamiento_reducido_estandarizado, y_entrenamiento)\n",
    "\n",
    "y_predicho_reducido = predecir(X_validacion_reducido_estandarizado, coeficientes_reducido, termino_independiente_reducido)\n",
    "ecm_reducido = error_cuadratico_medio(y_validacion, y_predicho_reducido)\n",
    "r2_reducido = coeficiente_determinacion(y_validacion, y_predicho_reducido)\n",
    "\n",
    "print(\"Rendimiento del modelo reducido:\")\n",
    "print(f\"Error Cuadrático Medio: {ecm_reducido:.4f}\")\n",
    "print(f\"Coeficiente de Determinación (R2): {r2_reducido:.4f}\")\n",
    "print()"
   ]
  },
  {
   "cell_type": "markdown",
   "id": "ea2fdd6a-191e-4ad0-b0a7-409ca83722a8",
   "metadata": {},
   "source": [
    "### 1. ¿Cuál de las variables es más importante para determinar el Overall Score? "
   ]
  },
  {
   "cell_type": "markdown",
   "id": "5d569296-75d2-4767-876f-50eb129e84fa",
   "metadata": {},
   "source": [
    "La variable más importante para determinar el Overall Score es \"Research Score\", con un coeficiente de 7.741428. Esto indica que tiene el mayor impacto positivo en la puntuación general. Le sigue \"Teaching Score\" con un coeficiente de 2.791727."
   ]
  },
  {
   "cell_type": "markdown",
   "id": "d558e68a-e40f-4f88-b085-5ca7db04296e",
   "metadata": {},
   "source": [
    "### 2. ¿Existe sobreajuste en el modelo que has creado para responder a la pregunta anterior? "
   ]
  },
  {
   "cell_type": "markdown",
   "id": "4fc441a4-ebac-4ba4-8da5-26ca4a0c440e",
   "metadata": {},
   "source": [
    "No se detecta sobreajuste significativo. Lo podemos afirmar por lo siguiente:\n",
    "La similitud entre los resultados de entrenamiento (R2: 0.8971, ECM: 12.5825) y validación (R2: 0.8853, ECM: 13.6433). La pequeña diferencia es normal y no indica un sobreajuste problemático."
   ]
  },
  {
   "cell_type": "markdown",
   "id": "54cdf40a-f1e9-4e6f-9b19-3e5c04da36da",
   "metadata": {},
   "source": [
    "### 3. ¿Es relevante la variable ‘Industry Income Score’? Crea un modelo con todas las variables anteriores menos esta y realiza un test de significatividad estadística de rendimiento entre este modelo y el modelo con todas las variables.  "
   ]
  },
  {
   "cell_type": "markdown",
   "id": "3d6cac6a-c371-417c-ad3d-bb186f1e8aef",
   "metadata": {},
   "source": [
    "La variable 'Industry Income Score' es estadísticamente relevante, aunque su impacto es menor comparado con las otras variables. \n",
    "El rendimiento del modelo reducido (R2: 0.8770, ECM: 14.6282) es ligeramente peor que el del modelo completo en validación (R2: 0.8853, ECM: 13.6433), lo que respalda la relevancia de mantener esta variable en el modelo."
   ]
  }
 ],
 "metadata": {
  "kernelspec": {
   "display_name": "Python 3 (ipykernel)",
   "language": "python",
   "name": "python3"
  },
  "language_info": {
   "codemirror_mode": {
    "name": "ipython",
    "version": 3
   },
   "file_extension": ".py",
   "mimetype": "text/x-python",
   "name": "python",
   "nbconvert_exporter": "python",
   "pygments_lexer": "ipython3",
   "version": "3.11.7"
  }
 },
 "nbformat": 4,
 "nbformat_minor": 5
}
