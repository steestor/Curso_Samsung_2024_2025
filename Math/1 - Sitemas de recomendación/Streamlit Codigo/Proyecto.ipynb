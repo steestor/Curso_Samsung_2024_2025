{
 "cells": [
  {
   "cell_type": "code",
   "execution_count": 1,
   "metadata": {},
   "outputs": [],
   "source": [
    "import pandas as pd\n",
    "import numpy as np\n",
    "import matplotlib.pyplot as plt\n",
    "import seaborn as sns\n",
    "from sklearn.feature_extraction.text import TfidfVectorizer\n",
    "from sklearn.metrics.pairwise import cosine_similarity\n",
    "import matplotlib.pyplot as plt"
   ]
  },
  {
   "cell_type": "markdown",
   "metadata": {},
   "source": [
    "# ETL"
   ]
  },
  {
   "cell_type": "code",
   "execution_count": 11,
   "metadata": {},
   "outputs": [
    {
     "data": {
      "text/html": [
       "<div>\n",
       "<style scoped>\n",
       "    .dataframe tbody tr th:only-of-type {\n",
       "        vertical-align: middle;\n",
       "    }\n",
       "\n",
       "    .dataframe tbody tr th {\n",
       "        vertical-align: top;\n",
       "    }\n",
       "\n",
       "    .dataframe thead th {\n",
       "        text-align: right;\n",
       "    }\n",
       "</style>\n",
       "<table border=\"1\" class=\"dataframe\">\n",
       "  <thead>\n",
       "    <tr style=\"text-align: right;\">\n",
       "      <th></th>\n",
       "      <th>name</th>\n",
       "      <th>main_category</th>\n",
       "      <th>sub_category</th>\n",
       "      <th>image</th>\n",
       "      <th>link</th>\n",
       "      <th>ratings</th>\n",
       "      <th>no_of_ratings</th>\n",
       "      <th>discount_price</th>\n",
       "      <th>actual_price</th>\n",
       "    </tr>\n",
       "  </thead>\n",
       "  <tbody>\n",
       "    <tr>\n",
       "      <th>0</th>\n",
       "      <td>Redmi 10 Power (Power Black, 8GB RAM, 128GB St...</td>\n",
       "      <td>tv, audio &amp; cameras</td>\n",
       "      <td>All Electronics</td>\n",
       "      <td>https://m.media-amazon.com/images/I/81eM15lVcJ...</td>\n",
       "      <td>https://www.amazon.in/Redmi-Power-Black-128GB-...</td>\n",
       "      <td>4.0</td>\n",
       "      <td>965</td>\n",
       "      <td>₹10,999</td>\n",
       "      <td>₹18,999</td>\n",
       "    </tr>\n",
       "    <tr>\n",
       "      <th>1</th>\n",
       "      <td>OnePlus Nord CE 2 Lite 5G (Blue Tide, 6GB RAM,...</td>\n",
       "      <td>tv, audio &amp; cameras</td>\n",
       "      <td>All Electronics</td>\n",
       "      <td>https://m.media-amazon.com/images/I/71AvQd3Vzq...</td>\n",
       "      <td>https://www.amazon.in/OnePlus-Nord-Lite-128GB-...</td>\n",
       "      <td>4.3</td>\n",
       "      <td>113,956</td>\n",
       "      <td>₹18,999</td>\n",
       "      <td>₹19,999</td>\n",
       "    </tr>\n",
       "    <tr>\n",
       "      <th>2</th>\n",
       "      <td>OnePlus Bullets Z2 Bluetooth Wireless in Ear E...</td>\n",
       "      <td>tv, audio &amp; cameras</td>\n",
       "      <td>All Electronics</td>\n",
       "      <td>https://m.media-amazon.com/images/I/51UhwaQXCp...</td>\n",
       "      <td>https://www.amazon.in/Oneplus-Bluetooth-Wirele...</td>\n",
       "      <td>4.2</td>\n",
       "      <td>90,304</td>\n",
       "      <td>₹1,999</td>\n",
       "      <td>₹2,299</td>\n",
       "    </tr>\n",
       "    <tr>\n",
       "      <th>3</th>\n",
       "      <td>Samsung Galaxy M33 5G (Mystique Green, 6GB, 12...</td>\n",
       "      <td>tv, audio &amp; cameras</td>\n",
       "      <td>All Electronics</td>\n",
       "      <td>https://m.media-amazon.com/images/I/81I3w4J6yj...</td>\n",
       "      <td>https://www.amazon.in/Samsung-Mystique-Storage...</td>\n",
       "      <td>4.1</td>\n",
       "      <td>24,863</td>\n",
       "      <td>₹15,999</td>\n",
       "      <td>₹24,999</td>\n",
       "    </tr>\n",
       "    <tr>\n",
       "      <th>4</th>\n",
       "      <td>OnePlus Nord CE 2 Lite 5G (Black Dusk, 6GB RAM...</td>\n",
       "      <td>tv, audio &amp; cameras</td>\n",
       "      <td>All Electronics</td>\n",
       "      <td>https://m.media-amazon.com/images/I/71V--WZVUI...</td>\n",
       "      <td>https://www.amazon.in/OnePlus-Nord-Black-128GB...</td>\n",
       "      <td>4.3</td>\n",
       "      <td>113,956</td>\n",
       "      <td>₹18,999</td>\n",
       "      <td>₹19,999</td>\n",
       "    </tr>\n",
       "    <tr>\n",
       "      <th>...</th>\n",
       "      <td>...</td>\n",
       "      <td>...</td>\n",
       "      <td>...</td>\n",
       "      <td>...</td>\n",
       "      <td>...</td>\n",
       "      <td>...</td>\n",
       "      <td>...</td>\n",
       "      <td>...</td>\n",
       "      <td>...</td>\n",
       "    </tr>\n",
       "    <tr>\n",
       "      <th>9595</th>\n",
       "      <td>PALAY® BTS Backpack For Boys Kpop BTS Bangtan ...</td>\n",
       "      <td>tv, audio &amp; cameras</td>\n",
       "      <td>All Electronics</td>\n",
       "      <td>https://m.media-amazon.com/images/W/IMAGERENDE...</td>\n",
       "      <td>https://www.amazon.in/PALAY%C2%AE-Backpack-Ban...</td>\n",
       "      <td>4.1</td>\n",
       "      <td>37</td>\n",
       "      <td>₹1,710</td>\n",
       "      <td>₹2,491</td>\n",
       "    </tr>\n",
       "    <tr>\n",
       "      <th>9596</th>\n",
       "      <td>MOCA iPad Air 5th Generation Case 2022 / iPad ...</td>\n",
       "      <td>tv, audio &amp; cameras</td>\n",
       "      <td>All Electronics</td>\n",
       "      <td>https://m.media-amazon.com/images/W/IMAGERENDE...</td>\n",
       "      <td>https://www.amazon.in/MOCA-Protective-Generati...</td>\n",
       "      <td>4.2</td>\n",
       "      <td>1,133</td>\n",
       "      <td>₹475</td>\n",
       "      <td>₹1,999</td>\n",
       "    </tr>\n",
       "    <tr>\n",
       "      <th>9597</th>\n",
       "      <td>ZEBRONICS Zeb-Sound Bomb 5 TWS V5.0 Bluetooth ...</td>\n",
       "      <td>tv, audio &amp; cameras</td>\n",
       "      <td>All Electronics</td>\n",
       "      <td>https://m.media-amazon.com/images/W/IMAGERENDE...</td>\n",
       "      <td>https://www.amazon.in/Zebronics-Zeb-Sound-Blue...</td>\n",
       "      <td>3.5</td>\n",
       "      <td>3,177</td>\n",
       "      <td>₹962</td>\n",
       "      <td>₹3,999</td>\n",
       "    </tr>\n",
       "    <tr>\n",
       "      <th>9598</th>\n",
       "      <td>LINQS® Original NXP Chip | Waterproof NFC Tag ...</td>\n",
       "      <td>tv, audio &amp; cameras</td>\n",
       "      <td>All Electronics</td>\n",
       "      <td>https://m.media-amazon.com/images/W/IMAGERENDE...</td>\n",
       "      <td>https://www.amazon.in/LINQS-Sticker-Smartrac-C...</td>\n",
       "      <td>3.6</td>\n",
       "      <td>210</td>\n",
       "      <td>₹400</td>\n",
       "      <td>₹1,000</td>\n",
       "    </tr>\n",
       "    <tr>\n",
       "      <th>9599</th>\n",
       "      <td>Pragati Systems® Medium Grain 24x36 Inch 10 Oz...</td>\n",
       "      <td>tv, audio &amp; cameras</td>\n",
       "      <td>All Electronics</td>\n",
       "      <td>https://m.media-amazon.com/images/W/IMAGERENDE...</td>\n",
       "      <td>https://www.amazon.in/Pragati-Systems-Stretche...</td>\n",
       "      <td>4.5</td>\n",
       "      <td>938</td>\n",
       "      <td>₹940</td>\n",
       "      <td>₹1,120</td>\n",
       "    </tr>\n",
       "  </tbody>\n",
       "</table>\n",
       "<p>9600 rows × 9 columns</p>\n",
       "</div>"
      ],
      "text/plain": [
       "                                                   name        main_category  \\\n",
       "0     Redmi 10 Power (Power Black, 8GB RAM, 128GB St...  tv, audio & cameras   \n",
       "1     OnePlus Nord CE 2 Lite 5G (Blue Tide, 6GB RAM,...  tv, audio & cameras   \n",
       "2     OnePlus Bullets Z2 Bluetooth Wireless in Ear E...  tv, audio & cameras   \n",
       "3     Samsung Galaxy M33 5G (Mystique Green, 6GB, 12...  tv, audio & cameras   \n",
       "4     OnePlus Nord CE 2 Lite 5G (Black Dusk, 6GB RAM...  tv, audio & cameras   \n",
       "...                                                 ...                  ...   \n",
       "9595  PALAY® BTS Backpack For Boys Kpop BTS Bangtan ...  tv, audio & cameras   \n",
       "9596  MOCA iPad Air 5th Generation Case 2022 / iPad ...  tv, audio & cameras   \n",
       "9597  ZEBRONICS Zeb-Sound Bomb 5 TWS V5.0 Bluetooth ...  tv, audio & cameras   \n",
       "9598  LINQS® Original NXP Chip | Waterproof NFC Tag ...  tv, audio & cameras   \n",
       "9599  Pragati Systems® Medium Grain 24x36 Inch 10 Oz...  tv, audio & cameras   \n",
       "\n",
       "         sub_category                                              image  \\\n",
       "0     All Electronics  https://m.media-amazon.com/images/I/81eM15lVcJ...   \n",
       "1     All Electronics  https://m.media-amazon.com/images/I/71AvQd3Vzq...   \n",
       "2     All Electronics  https://m.media-amazon.com/images/I/51UhwaQXCp...   \n",
       "3     All Electronics  https://m.media-amazon.com/images/I/81I3w4J6yj...   \n",
       "4     All Electronics  https://m.media-amazon.com/images/I/71V--WZVUI...   \n",
       "...               ...                                                ...   \n",
       "9595  All Electronics  https://m.media-amazon.com/images/W/IMAGERENDE...   \n",
       "9596  All Electronics  https://m.media-amazon.com/images/W/IMAGERENDE...   \n",
       "9597  All Electronics  https://m.media-amazon.com/images/W/IMAGERENDE...   \n",
       "9598  All Electronics  https://m.media-amazon.com/images/W/IMAGERENDE...   \n",
       "9599  All Electronics  https://m.media-amazon.com/images/W/IMAGERENDE...   \n",
       "\n",
       "                                                   link ratings no_of_ratings  \\\n",
       "0     https://www.amazon.in/Redmi-Power-Black-128GB-...     4.0           965   \n",
       "1     https://www.amazon.in/OnePlus-Nord-Lite-128GB-...     4.3       113,956   \n",
       "2     https://www.amazon.in/Oneplus-Bluetooth-Wirele...     4.2        90,304   \n",
       "3     https://www.amazon.in/Samsung-Mystique-Storage...     4.1        24,863   \n",
       "4     https://www.amazon.in/OnePlus-Nord-Black-128GB...     4.3       113,956   \n",
       "...                                                 ...     ...           ...   \n",
       "9595  https://www.amazon.in/PALAY%C2%AE-Backpack-Ban...     4.1            37   \n",
       "9596  https://www.amazon.in/MOCA-Protective-Generati...     4.2         1,133   \n",
       "9597  https://www.amazon.in/Zebronics-Zeb-Sound-Blue...     3.5         3,177   \n",
       "9598  https://www.amazon.in/LINQS-Sticker-Smartrac-C...     3.6           210   \n",
       "9599  https://www.amazon.in/Pragati-Systems-Stretche...     4.5           938   \n",
       "\n",
       "     discount_price actual_price  \n",
       "0           ₹10,999      ₹18,999  \n",
       "1           ₹18,999      ₹19,999  \n",
       "2            ₹1,999       ₹2,299  \n",
       "3           ₹15,999      ₹24,999  \n",
       "4           ₹18,999      ₹19,999  \n",
       "...             ...          ...  \n",
       "9595         ₹1,710       ₹2,491  \n",
       "9596           ₹475       ₹1,999  \n",
       "9597           ₹962       ₹3,999  \n",
       "9598           ₹400       ₹1,000  \n",
       "9599           ₹940       ₹1,120  \n",
       "\n",
       "[9600 rows x 9 columns]"
      ]
     },
     "execution_count": 11,
     "metadata": {},
     "output_type": "execute_result"
    }
   ],
   "source": [
    "data = pd.read_csv(\"dataset/electronics.csv\", low_memory=False)\n",
    "data"
   ]
  },
  {
   "cell_type": "code",
   "execution_count": 13,
   "metadata": {},
   "outputs": [],
   "source": [
    "# Se quitan las columnas innecesarias\n",
    "data = data.drop('image', axis=1)\n",
    "data = data.drop('link', axis=1)\n",
    "data = data.drop('no_of_ratings', axis=1)\n"
   ]
  },
  {
   "cell_type": "code",
   "execution_count": 15,
   "metadata": {},
   "outputs": [
    {
     "name": "stdout",
     "output_type": "stream",
     "text": [
      "<class 'pandas.core.frame.DataFrame'>\n",
      "RangeIndex: 9600 entries, 0 to 9599\n",
      "Data columns (total 6 columns):\n",
      " #   Column          Non-Null Count  Dtype \n",
      "---  ------          --------------  ----- \n",
      " 0   name            9600 non-null   object\n",
      " 1   main_category   9600 non-null   object\n",
      " 2   sub_category    9600 non-null   object\n",
      " 3   ratings         9505 non-null   object\n",
      " 4   discount_price  9116 non-null   object\n",
      " 5   actual_price    9530 non-null   object\n",
      "dtypes: object(6)\n",
      "memory usage: 450.1+ KB\n"
     ]
    }
   ],
   "source": [
    "data.info()"
   ]
  },
  {
   "cell_type": "code",
   "execution_count": 17,
   "metadata": {},
   "outputs": [],
   "source": [
    "#Eliminación de nulos\n",
    "data = data.dropna()"
   ]
  },
  {
   "cell_type": "code",
   "execution_count": 19,
   "metadata": {},
   "outputs": [
    {
     "data": {
      "text/plain": [
       "name              0\n",
       "main_category     0\n",
       "sub_category      0\n",
       "ratings           0\n",
       "discount_price    0\n",
       "actual_price      0\n",
       "dtype: int64"
      ]
     },
     "execution_count": 19,
     "metadata": {},
     "output_type": "execute_result"
    }
   ],
   "source": [
    "data.isnull().sum()"
   ]
  },
  {
   "cell_type": "code",
   "execution_count": 23,
   "metadata": {},
   "outputs": [],
   "source": [
    "# Eliminación del caracter de la rupia china, ya que molesta la normalización de los datos al ser de tipo objeto\n",
    "data['actual_price'] = data['actual_price'].str.replace('₹', '')\n",
    "data['discount_price'] = data['discount_price'].str.replace('₹', '')"
   ]
  },
  {
   "cell_type": "code",
   "execution_count": 25,
   "metadata": {},
   "outputs": [],
   "source": [
    "# Conversión a valores numericos\n",
    "data[[\"ratings\", \"discount_price\", \"actual_price\"]] = data[[\"ratings\", \"discount_price\", \"actual_price\"]].apply(pd.to_numeric, errors='coerce')\n",
    "\n",
    "data = data.dropna(subset=[\"ratings\", \"discount_price\", \"actual_price\"])"
   ]
  },
  {
   "cell_type": "code",
   "execution_count": 27,
   "metadata": {},
   "outputs": [
    {
     "name": "stderr",
     "output_type": "stream",
     "text": [
      "C:\\Users\\34665\\AppData\\Local\\Temp\\ipykernel_18108\\3279789620.py:2: SettingWithCopyWarning: \n",
      "A value is trying to be set on a copy of a slice from a DataFrame.\n",
      "Try using .loc[row_indexer,col_indexer] = value instead\n",
      "\n",
      "See the caveats in the documentation: https://pandas.pydata.org/pandas-docs/stable/user_guide/indexing.html#returning-a-view-versus-a-copy\n",
      "  data[[\"ratings\", \"discount_price\", \"actual_price\"]] = data[[\"ratings\", \"discount_price\", \"actual_price\"]].astype(float)\n"
     ]
    }
   ],
   "source": [
    "#Conversión a valores flotantes\n",
    "data[[\"ratings\", \"discount_price\", \"actual_price\"]] = data[[\"ratings\", \"discount_price\", \"actual_price\"]].astype(float)"
   ]
  },
  {
   "cell_type": "code",
   "execution_count": 29,
   "metadata": {},
   "outputs": [],
   "source": [
    "# Traducción de columnas\n",
    "data.columns = ['nombre', 'categoria', \"sub_categoria\", \"calificacion\", \"precio_descuento\", \"precio_actual\"]"
   ]
  },
  {
   "cell_type": "code",
   "execution_count": 13,
   "metadata": {},
   "outputs": [
    {
     "data": {
      "text/html": [
       "<div>\n",
       "<style scoped>\n",
       "    .dataframe tbody tr th:only-of-type {\n",
       "        vertical-align: middle;\n",
       "    }\n",
       "\n",
       "    .dataframe tbody tr th {\n",
       "        vertical-align: top;\n",
       "    }\n",
       "\n",
       "    .dataframe thead th {\n",
       "        text-align: right;\n",
       "    }\n",
       "</style>\n",
       "<table border=\"1\" class=\"dataframe\">\n",
       "  <thead>\n",
       "    <tr style=\"text-align: right;\">\n",
       "      <th></th>\n",
       "      <th>nombre</th>\n",
       "      <th>categoria</th>\n",
       "      <th>sub_categoria</th>\n",
       "      <th>calificacion</th>\n",
       "      <th>precio_descuento</th>\n",
       "      <th>precio_actual</th>\n",
       "    </tr>\n",
       "  </thead>\n",
       "  <tbody>\n",
       "    <tr>\n",
       "      <th>15</th>\n",
       "      <td>boAt BassHeads 100 in-Ear Wired Headphones wit...</td>\n",
       "      <td>tv, audio &amp; cameras</td>\n",
       "      <td>All Electronics</td>\n",
       "      <td>4.1</td>\n",
       "      <td>399.0</td>\n",
       "      <td>999.0</td>\n",
       "    </tr>\n",
       "    <tr>\n",
       "      <th>17</th>\n",
       "      <td>Lapster 5-in-1 Multi-Function Laptop Cleaning ...</td>\n",
       "      <td>tv, audio &amp; cameras</td>\n",
       "      <td>All Electronics</td>\n",
       "      <td>4.2</td>\n",
       "      <td>97.0</td>\n",
       "      <td>999.0</td>\n",
       "    </tr>\n",
       "    <tr>\n",
       "      <th>32</th>\n",
       "      <td>SanDisk Cruzer Blade 32GB USB Flash Drive</td>\n",
       "      <td>tv, audio &amp; cameras</td>\n",
       "      <td>All Electronics</td>\n",
       "      <td>4.3</td>\n",
       "      <td>278.0</td>\n",
       "      <td>650.0</td>\n",
       "    </tr>\n",
       "    <tr>\n",
       "      <th>42</th>\n",
       "      <td>Portronics Toad 23 Wireless Optical Mouse with...</td>\n",
       "      <td>tv, audio &amp; cameras</td>\n",
       "      <td>All Electronics</td>\n",
       "      <td>4.1</td>\n",
       "      <td>299.0</td>\n",
       "      <td>599.0</td>\n",
       "    </tr>\n",
       "    <tr>\n",
       "      <th>44</th>\n",
       "      <td>ZEBRONICS Zeb-Bro in Ear Wired Earphones with ...</td>\n",
       "      <td>tv, audio &amp; cameras</td>\n",
       "      <td>All Electronics</td>\n",
       "      <td>3.5</td>\n",
       "      <td>149.0</td>\n",
       "      <td>399.0</td>\n",
       "    </tr>\n",
       "    <tr>\n",
       "      <th>...</th>\n",
       "      <td>...</td>\n",
       "      <td>...</td>\n",
       "      <td>...</td>\n",
       "      <td>...</td>\n",
       "      <td>...</td>\n",
       "      <td>...</td>\n",
       "    </tr>\n",
       "    <tr>\n",
       "      <th>9585</th>\n",
       "      <td>LUNAGARIYA®, Protective Cover for LG AC Remote...</td>\n",
       "      <td>tv, audio &amp; cameras</td>\n",
       "      <td>All Electronics</td>\n",
       "      <td>4.3</td>\n",
       "      <td>199.0</td>\n",
       "      <td>399.0</td>\n",
       "    </tr>\n",
       "    <tr>\n",
       "      <th>9588</th>\n",
       "      <td>Kangaro Paper Punch DP 700 - Colour May Vary</td>\n",
       "      <td>tv, audio &amp; cameras</td>\n",
       "      <td>All Electronics</td>\n",
       "      <td>4.5</td>\n",
       "      <td>465.0</td>\n",
       "      <td>575.0</td>\n",
       "    </tr>\n",
       "    <tr>\n",
       "      <th>9589</th>\n",
       "      <td>wooum Polyester iPad 11 Pro Sleeve / Case / Po...</td>\n",
       "      <td>tv, audio &amp; cameras</td>\n",
       "      <td>All Electronics</td>\n",
       "      <td>4.3</td>\n",
       "      <td>328.7</td>\n",
       "      <td>999.0</td>\n",
       "    </tr>\n",
       "    <tr>\n",
       "      <th>9590</th>\n",
       "      <td>Lauret Blanc Daily Planner and Organizer, Grat...</td>\n",
       "      <td>tv, audio &amp; cameras</td>\n",
       "      <td>All Electronics</td>\n",
       "      <td>4.4</td>\n",
       "      <td>449.0</td>\n",
       "      <td>899.0</td>\n",
       "    </tr>\n",
       "    <tr>\n",
       "      <th>9594</th>\n",
       "      <td>WOW IMAGINE Shockproof Crystal Clear Back Case...</td>\n",
       "      <td>tv, audio &amp; cameras</td>\n",
       "      <td>All Electronics</td>\n",
       "      <td>4.2</td>\n",
       "      <td>189.0</td>\n",
       "      <td>999.0</td>\n",
       "    </tr>\n",
       "  </tbody>\n",
       "</table>\n",
       "<p>3835 rows × 6 columns</p>\n",
       "</div>"
      ],
      "text/plain": [
       "                                                 nombre            categoria  \\\n",
       "15    boAt BassHeads 100 in-Ear Wired Headphones wit...  tv, audio & cameras   \n",
       "17    Lapster 5-in-1 Multi-Function Laptop Cleaning ...  tv, audio & cameras   \n",
       "32            SanDisk Cruzer Blade 32GB USB Flash Drive  tv, audio & cameras   \n",
       "42    Portronics Toad 23 Wireless Optical Mouse with...  tv, audio & cameras   \n",
       "44    ZEBRONICS Zeb-Bro in Ear Wired Earphones with ...  tv, audio & cameras   \n",
       "...                                                 ...                  ...   \n",
       "9585  LUNAGARIYA®, Protective Cover for LG AC Remote...  tv, audio & cameras   \n",
       "9588       Kangaro Paper Punch DP 700 - Colour May Vary  tv, audio & cameras   \n",
       "9589  wooum Polyester iPad 11 Pro Sleeve / Case / Po...  tv, audio & cameras   \n",
       "9590  Lauret Blanc Daily Planner and Organizer, Grat...  tv, audio & cameras   \n",
       "9594  WOW IMAGINE Shockproof Crystal Clear Back Case...  tv, audio & cameras   \n",
       "\n",
       "        sub_categoria  calificacion  precio_descuento  precio_actual  \n",
       "15    All Electronics           4.1             399.0          999.0  \n",
       "17    All Electronics           4.2              97.0          999.0  \n",
       "32    All Electronics           4.3             278.0          650.0  \n",
       "42    All Electronics           4.1             299.0          599.0  \n",
       "44    All Electronics           3.5             149.0          399.0  \n",
       "...               ...           ...               ...            ...  \n",
       "9585  All Electronics           4.3             199.0          399.0  \n",
       "9588  All Electronics           4.5             465.0          575.0  \n",
       "9589  All Electronics           4.3             328.7          999.0  \n",
       "9590  All Electronics           4.4             449.0          899.0  \n",
       "9594  All Electronics           4.2             189.0          999.0  \n",
       "\n",
       "[3835 rows x 6 columns]"
      ]
     },
     "execution_count": 13,
     "metadata": {},
     "output_type": "execute_result"
    }
   ],
   "source": [
    "data"
   ]
  },
  {
   "cell_type": "code",
   "execution_count": 31,
   "metadata": {},
   "outputs": [],
   "source": [
    "# Exportación para el consumo desde el Streamlit\n",
    "data.to_csv(\"dataset/data.csv\", index=False)"
   ]
  },
  {
   "cell_type": "markdown",
   "metadata": {},
   "source": [
    "## Visualización de precios"
   ]
  },
  {
   "cell_type": "code",
   "execution_count": 33,
   "metadata": {},
   "outputs": [
    {
     "name": "stderr",
     "output_type": "stream",
     "text": [
      "C:\\Users\\34665\\anaconda3\\Lib\\site-packages\\seaborn\\_oldcore.py:1119: FutureWarning: use_inf_as_na option is deprecated and will be removed in a future version. Convert inf values to NaN before operating instead.\n",
      "  with pd.option_context('mode.use_inf_as_na', True):\n",
      "C:\\Users\\34665\\anaconda3\\Lib\\site-packages\\seaborn\\_oldcore.py:1119: FutureWarning: use_inf_as_na option is deprecated and will be removed in a future version. Convert inf values to NaN before operating instead.\n",
      "  with pd.option_context('mode.use_inf_as_na', True):\n"
     ]
    },
    {
     "data": {
      "image/png": "[encoded data removed]",
      "text/plain": [
       "<Figure size 1000x600 with 1 Axes>"
      ]
     },
     "metadata": {},
     "output_type": "display_data"
    }
   ],
   "source": [
    "plt.figure(figsize=(10,6))\n",
    "\n",
    "sns.histplot(data=data, x=\"precio_actual\", bins=30, kde=True, color='blue', label='Precio Actual')\n",
    "\n",
    "sns.histplot(data=data, x=\"precio_descuento\", bins=30, kde=True, color='red', label='Precio Descuento')\n",
    "\n",
    "plt.title('Comparación de Precios Actuales y Precios en Descuento')\n",
    "plt.legend()\n",
    "plt.show()\n"
   ]
  },
  {
   "cell_type": "code",
   "execution_count": 37,
   "metadata": {},
   "outputs": [
    {
     "data": {
      "text/plain": [
       "array([[  0. ,   0. ,   0. , ...,   4.1, 399. , 999. ],\n",
       "       [  0. ,   0. ,   0. , ...,   4.2,  97. , 999. ],\n",
       "       [  0. ,   0. ,   0. , ...,   4.3, 278. , 650. ],\n",
       "       ...,\n",
       "       [  0. ,   0. ,   0. , ...,   4.3, 328.7, 999. ],\n",
       "       [  0. ,   0. ,   0. , ...,   4.4, 449. , 899. ],\n",
       "       [  0. ,   0. ,   0. , ...,   4.2, 189. , 999. ]])"
      ]
     },
     "execution_count": 37,
     "metadata": {},
     "output_type": "execute_result"
    }
   ],
   "source": [
    "# Primero, vamos a convertir la columna 'nombre' a una representación numérica usando TF-IDF\n",
    "vectorizer = TfidfVectorizer()\n",
    "tfidf_matrix = vectorizer.fit_transform(data['nombre'])\n",
    "\n",
    "# Luego, vamos a añadir las columnas numéricas a nuestra matriz de características\n",
    "features = np.column_stack([tfidf_matrix.toarray(), data['calificacion'], data['precio_descuento'], data['precio_actual']])\n",
    "features\n"
   ]
  },
  {
   "cell_type": "code",
   "execution_count": 17,
   "metadata": {},
   "outputs": [
    {
     "name": "stdout",
     "output_type": "stream",
     "text": [
      "Los productos más similares al producto SanDisk Cruzer Blade 32GB USB Flash Drive son:\n",
      "2               SanDisk Cruzer Blade 32GB USB Flash Drive\n",
      "839                 HP v207w 32GB USB 2.0 Pen Drive,Black\n",
      "1263    Gizga Essentials Hard Drive Case Shell, 6.35cm...\n",
      "3682    CodersParadise Pack of 50 Random Anime Aesthet...\n",
      "2427    CodersParadise Laptop Sticker for Programmer, ...\n",
      "                              ...                        \n",
      "1405    Parker Vector Standard Gold Trim Roller Ball P...\n",
      "194                          Camlin Brush Pens, 24 Shades\n",
      "662     Cello Aspro Mavro Ball Pen | Black Ball Pen | ...\n",
      "313               HP 805 Tri-Color Original Ink Cartridge\n",
      "269                        HP 678 Tri-Color Ink Cartridge\n",
      "Name: nombre, Length: 3835, dtype: object\n"
     ]
    }
   ],
   "source": [
    "# Reindexamos el DataFrame\n",
    "data = data.reset_index(drop=True)\n",
    "\n",
    "# Ahora, calculamos la matriz de similitud de coseno\n",
    "similarity_matrix = cosine_similarity(features)\n",
    "\n",
    "# Para hacer recomendaciones, puedes buscar los productos más similares a un producto dado\n",
    "nombre_del_producto = \"SanDisk Cruzer Blade 32GB USB Flash Drive\"  # El nombre del producto para el que quieres hacer recomendaciones\n",
    "producto = data[data['nombre'] == nombre_del_producto]\n",
    "\n",
    "if not producto.empty:\n",
    "    product_index = producto.index[0]\n",
    "    product_similarities = similarity_matrix[product_index]\n",
    "    most_similar_products_indices = np.argsort(-product_similarities)\n",
    "    most_similar_products = data.loc[most_similar_products_indices, 'nombre']\n",
    "    print(\"Los productos más similares al producto\", nombre_del_producto, \"son:\")\n",
    "    print(most_similar_products)\n",
    "else:\n",
    "    print(\"Producto no encontrado\")\n"
   ]
  },
  {
   "cell_type": "markdown",
   "metadata": {},
   "source": [
    "### Algunas pruebas de recomendación"
   ]
  },
  {
   "cell_type": "code",
   "execution_count": 18,
   "metadata": {},
   "outputs": [
    {
     "name": "stdout",
     "output_type": "stream",
     "text": [
      "Los 10 productos más similares al producto SanDisk Cruzer Blade 32GB USB Flash Drive son:\n",
      "2               SanDisk Cruzer Blade 32GB USB Flash Drive\n",
      "839                 HP v207w 32GB USB 2.0 Pen Drive,Black\n",
      "1263    Gizga Essentials Hard Drive Case Shell, 6.35cm...\n",
      "3682    CodersParadise Pack of 50 Random Anime Aesthet...\n",
      "2427    CodersParadise Laptop Sticker for Programmer, ...\n",
      "2745    CodersParadise Pack of 58 Random Music Aesthet...\n",
      "1705    Storite 20cm USB 3.0 Cable A to Micro B high S...\n",
      "3124    A3sprime Back Camera Lens Ring Guard Protector...\n",
      "2610    iVoltaa 3.5mm Metal Braided Aux (Auxiliary) to...\n",
      "1382    Ant Value Fkbri01 Wired Usb Multi-Device Keybo...\n",
      "Name: nombre, dtype: object\n"
     ]
    }
   ],
   "source": [
    "# Para hacer recomendaciones, puedes buscar los productos más similares a un producto dado\n",
    "nombre_del_producto = \"SanDisk Cruzer Blade 32GB USB Flash Drive\"  # El nombre del producto para el que quieres hacer recomendaciones\n",
    "producto = data[data['nombre'] == nombre_del_producto]\n",
    "\n",
    "if not producto.empty:\n",
    "    product_index = producto.index[0]\n",
    "    product_similarities = similarity_matrix[product_index]\n",
    "    most_similar_products_indices = np.argsort(-product_similarities)\n",
    "\n",
    "    # Obtenemos los nombres de los 10 productos más similares\n",
    "    top_10_similar_products = data.loc[most_similar_products_indices[:10], 'nombre']\n",
    "    print(\"Los 10 productos más similares al producto\", nombre_del_producto, \"son:\")\n",
    "    print(top_10_similar_products)\n",
    "else:\n",
    "    print(\"Producto no encontrado\")\n"
   ]
  },
  {
   "cell_type": "code",
   "execution_count": 19,
   "metadata": {},
   "outputs": [
    {
     "name": "stdout",
     "output_type": "stream",
     "text": [
      "Los 10 productos más similares al producto boAt BassHeads 100 in-Ear Wired Headphones with Mic (Black) son:\n",
      "0      boAt BassHeads 100 in-Ear Wired Headphones wit...\n",
      "116    boAt BassHeads 100 in-Ear Wired Headphones wit...\n",
      "41     boAt Bassheads 100 in Ear Wired Earphones with...\n",
      "81     boAt Bassheads 100 Wired in Ear Earphones with...\n",
      "274    boAt Bassheads 100 Wired in Ear Earphones with...\n",
      "17     boAt BassHeads 220 Wired in Ear Earphones with...\n",
      "181    boAt Bassheads 220 Wired in Ear Earphones with...\n",
      "5      boAt Bassheads 220 Wired in Ear Earphones(Blac...\n",
      "155    boAt Bassheads 220 Wired in Ear Earphones(Indi...\n",
      "95     boAt Bassheads 220 Wired in Ear Earphones(Indi...\n",
      "Name: nombre, dtype: object\n"
     ]
    }
   ],
   "source": [
    "# Para hacer recomendaciones, puedes buscar los productos más similares a un producto dado\n",
    "nombre_del_producto = \"boAt BassHeads 100 in-Ear Wired Headphones with Mic (Black)\"  # El nombre del producto para el que quieres hacer recomendaciones\n",
    "producto = data[data['nombre'] == nombre_del_producto]\n",
    "\n",
    "if not producto.empty:\n",
    "    product_index = producto.index[0]\n",
    "    product_similarities = similarity_matrix[product_index]\n",
    "    most_similar_products_indices = np.argsort(-product_similarities)\n",
    "\n",
    "    # Obtenemos los nombres de los 10 productos más similares\n",
    "    top_10_similar_products = data.loc[most_similar_products_indices[:10], 'nombre']\n",
    "    print(\"Los 10 productos más similares al producto\", nombre_del_producto, \"son:\")\n",
    "    print(top_10_similar_products)\n",
    "else:\n",
    "    print(\"Producto no encontrado\")\n"
   ]
  }
 ],
 "metadata": {
  "kernelspec": {
   "display_name": "Python 3 (ipykernel)",
   "language": "python",
   "name": "python3"
  },
  "language_info": {
   "codemirror_mode": {
    "name": "ipython",
    "version": 3
   },
   "file_extension": ".py",
   "mimetype": "text/x-python",
   "name": "python",
   "nbconvert_exporter": "python",
   "pygments_lexer": "ipython3",
   "version": "3.11.7"
  }
 },
 "nbformat": 4,
 "nbformat_minor": 4
}
