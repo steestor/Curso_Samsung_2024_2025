{
 "cells": [
  {
   "cell_type": "code",
   "execution_count": 174,
   "id": "aa4ad4c8-5e20-429a-a798-c81329825c7b",
   "metadata": {},
   "outputs": [],
   "source": [
    "import numpy as np\n",
    "from numpy import linalg as la\n",
    "import pandas as pd\n",
    "from sklearn.metrics.pairwise import cosine_similarity"
   ]
  },
  {
   "cell_type": "code",
   "execution_count": 99,
   "id": "c2b7023c-d7c4-4132-b0d1-67e8f2dc1102",
   "metadata": {},
   "outputs": [
    {
     "data": {
      "text/html": [
       "<div>\n",
       "<style scoped>\n",
       "    .dataframe tbody tr th:only-of-type {\n",
       "        vertical-align: middle;\n",
       "    }\n",
       "\n",
       "    .dataframe tbody tr th {\n",
       "        vertical-align: top;\n",
       "    }\n",
       "\n",
       "    .dataframe thead th {\n",
       "        text-align: right;\n",
       "    }\n",
       "</style>\n",
       "<table border=\"1\" class=\"dataframe\">\n",
       "  <thead>\n",
       "    <tr style=\"text-align: right;\">\n",
       "      <th></th>\n",
       "      <th>MAD-AGP</th>\n",
       "      <th>MAD-LPA</th>\n",
       "      <th>MAD-SVQ</th>\n",
       "      <th>MAD-VLC</th>\n",
       "      <th>MAD-IBZ</th>\n",
       "      <th>MAD-SCQ</th>\n",
       "    </tr>\n",
       "  </thead>\n",
       "  <tbody>\n",
       "    <tr>\n",
       "      <th>0</th>\n",
       "      <td>0.0</td>\n",
       "      <td>0.0</td>\n",
       "      <td>1.0</td>\n",
       "      <td>0.0</td>\n",
       "      <td>0.0</td>\n",
       "      <td>2.0</td>\n",
       "    </tr>\n",
       "    <tr>\n",
       "      <th>1</th>\n",
       "      <td>0.0</td>\n",
       "      <td>2.0</td>\n",
       "      <td>1.0</td>\n",
       "      <td>1.0</td>\n",
       "      <td>0.0</td>\n",
       "      <td>0.0</td>\n",
       "    </tr>\n",
       "    <tr>\n",
       "      <th>2</th>\n",
       "      <td>0.0</td>\n",
       "      <td>0.0</td>\n",
       "      <td>1.0</td>\n",
       "      <td>1.0</td>\n",
       "      <td>1.0</td>\n",
       "      <td>1.0</td>\n",
       "    </tr>\n",
       "    <tr>\n",
       "      <th>3</th>\n",
       "      <td>0.0</td>\n",
       "      <td>0.0</td>\n",
       "      <td>1.0</td>\n",
       "      <td>2.0</td>\n",
       "      <td>0.0</td>\n",
       "      <td>0.0</td>\n",
       "    </tr>\n",
       "    <tr>\n",
       "      <th>4</th>\n",
       "      <td>0.0</td>\n",
       "      <td>0.0</td>\n",
       "      <td>1.0</td>\n",
       "      <td>1.0</td>\n",
       "      <td>0.0</td>\n",
       "      <td>0.0</td>\n",
       "    </tr>\n",
       "    <tr>\n",
       "      <th>5</th>\n",
       "      <td>0.0</td>\n",
       "      <td>0.0</td>\n",
       "      <td>2.0</td>\n",
       "      <td>0.0</td>\n",
       "      <td>0.0</td>\n",
       "      <td>1.0</td>\n",
       "    </tr>\n",
       "    <tr>\n",
       "      <th>6</th>\n",
       "      <td>1.0</td>\n",
       "      <td>0.0</td>\n",
       "      <td>0.0</td>\n",
       "      <td>1.0</td>\n",
       "      <td>0.0</td>\n",
       "      <td>1.0</td>\n",
       "    </tr>\n",
       "    <tr>\n",
       "      <th>7</th>\n",
       "      <td>0.0</td>\n",
       "      <td>1.0</td>\n",
       "      <td>0.0</td>\n",
       "      <td>1.0</td>\n",
       "      <td>0.0</td>\n",
       "      <td>2.0</td>\n",
       "    </tr>\n",
       "    <tr>\n",
       "      <th>8</th>\n",
       "      <td>1.0</td>\n",
       "      <td>2.0</td>\n",
       "      <td>0.0</td>\n",
       "      <td>0.0</td>\n",
       "      <td>0.0</td>\n",
       "      <td>1.0</td>\n",
       "    </tr>\n",
       "    <tr>\n",
       "      <th>9</th>\n",
       "      <td>1.0</td>\n",
       "      <td>0.0</td>\n",
       "      <td>1.0</td>\n",
       "      <td>0.0</td>\n",
       "      <td>1.0</td>\n",
       "      <td>0.0</td>\n",
       "    </tr>\n",
       "  </tbody>\n",
       "</table>\n",
       "</div>"
      ],
      "text/plain": [
       "   MAD-AGP  MAD-LPA  MAD-SVQ  MAD-VLC  MAD-IBZ  MAD-SCQ\n",
       "0      0.0      0.0      1.0      0.0      0.0      2.0\n",
       "1      0.0      2.0      1.0      1.0      0.0      0.0\n",
       "2      0.0      0.0      1.0      1.0      1.0      1.0\n",
       "3      0.0      0.0      1.0      2.0      0.0      0.0\n",
       "4      0.0      0.0      1.0      1.0      0.0      0.0\n",
       "5      0.0      0.0      2.0      0.0      0.0      1.0\n",
       "6      1.0      0.0      0.0      1.0      0.0      1.0\n",
       "7      0.0      1.0      0.0      1.0      0.0      2.0\n",
       "8      1.0      2.0      0.0      0.0      0.0      1.0\n",
       "9      1.0      0.0      1.0      0.0      1.0      0.0"
      ]
     },
     "execution_count": 99,
     "metadata": {},
     "output_type": "execute_result"
    }
   ],
   "source": [
    "vuelos = pd.read_csv(\"./vuelos.csv\")\n",
    "vuelos"
   ]
  },
  {
   "cell_type": "code",
   "execution_count": 5,
   "id": "86bebecb-eccc-4a38-a739-e727f3101446",
   "metadata": {},
   "outputs": [
    {
     "data": {
      "text/plain": [
       "array([[0., 0., 1., 0., 0., 2.],\n",
       "       [0., 2., 1., 1., 0., 0.],\n",
       "       [0., 0., 1., 1., 1., 1.],\n",
       "       [0., 0., 1., 2., 0., 0.],\n",
       "       [0., 0., 1., 1., 0., 0.],\n",
       "       [0., 0., 2., 0., 0., 1.],\n",
       "       [1., 0., 0., 1., 0., 1.],\n",
       "       [0., 1., 0., 1., 0., 2.],\n",
       "       [1., 2., 0., 0., 0., 1.],\n",
       "       [1., 0., 1., 0., 1., 0.]])"
      ]
     },
     "execution_count": 5,
     "metadata": {},
     "output_type": "execute_result"
    }
   ],
   "source": [
    "vuelos_np = vuelos.to_numpy()\n",
    "vuelos_np"
   ]
  },
  {
   "cell_type": "code",
   "execution_count": 29,
   "id": "6ac4c1e8-dd14-4181-9b36-92aa7c10d7d5",
   "metadata": {},
   "outputs": [
    {
     "name": "stdout",
     "output_type": "stream",
     "text": [
      "10\n"
     ]
    },
    {
     "data": {
      "text/plain": [
       "array([[2.23606798],\n",
       "       [2.44948974],\n",
       "       [2.        ],\n",
       "       [2.23606798],\n",
       "       [1.41421356],\n",
       "       [2.23606798],\n",
       "       [1.73205081],\n",
       "       [2.44948974],\n",
       "       [2.44948974],\n",
       "       [1.73205081]])"
      ]
     },
     "execution_count": 29,
     "metadata": {},
     "output_type": "execute_result"
    }
   ],
   "source": [
    "# Calculamos la norma Ecuclidia, esto nos dará la longitud de las búsquedas de cada usuario y nos hará que tengan una magnitud comparableable\n",
    "norma = la.linalg.norm(vuelos_np, axis= 1, keepdims=True)\n",
    "print(norma.size)\n",
    "norma"
   ]
  },
  {
   "cell_type": "code",
   "execution_count": 33,
   "id": "bf629b93-c10b-40d1-8aa0-5ee0fd30f0f8",
   "metadata": {},
   "outputs": [
    {
     "data": {
      "text/plain": [
       "array([[0.        , 0.        , 0.4472136 , 0.        , 0.        ,\n",
       "        0.89442719],\n",
       "       [0.        , 0.81649658, 0.40824829, 0.40824829, 0.        ,\n",
       "        0.        ],\n",
       "       [0.        , 0.        , 0.5       , 0.5       , 0.5       ,\n",
       "        0.5       ],\n",
       "       [0.        , 0.        , 0.4472136 , 0.89442719, 0.        ,\n",
       "        0.        ],\n",
       "       [0.        , 0.        , 0.70710678, 0.70710678, 0.        ,\n",
       "        0.        ],\n",
       "       [0.        , 0.        , 0.89442719, 0.        , 0.        ,\n",
       "        0.4472136 ],\n",
       "       [0.57735027, 0.        , 0.        , 0.57735027, 0.        ,\n",
       "        0.57735027],\n",
       "       [0.        , 0.40824829, 0.        , 0.40824829, 0.        ,\n",
       "        0.81649658],\n",
       "       [0.40824829, 0.81649658, 0.        , 0.        , 0.        ,\n",
       "        0.40824829],\n",
       "       [0.57735027, 0.        , 0.57735027, 0.        , 0.57735027,\n",
       "        0.        ]])"
      ]
     },
     "execution_count": 33,
     "metadata": {},
     "output_type": "execute_result"
    }
   ],
   "source": [
    "vuelos_normalizados = vuelos_np / norma\n",
    "vuelos_normalizados"
   ]
  },
  {
   "cell_type": "code",
   "execution_count": 195,
   "id": "e0b2de7b-870b-4c97-b4b1-3af6608f4674",
   "metadata": {},
   "outputs": [
    {
     "data": {
      "text/plain": [
       "0.33333333333333337"
      ]
     },
     "execution_count": 195,
     "metadata": {},
     "output_type": "execute_result"
    }
   ],
   "source": [
    "# Calcular la similtud para el v1 y v6\n",
    "\n",
    "v1 = (vuelos_np.T)[0]\n",
    "v6 = (vuelos_np.T)[5]\n",
    "\n",
    "producto_escalar = v1 @ v6\n",
    "norma_vuelo1 = la.norm(v1)\n",
    "norma_vuelo6 = la.norm(v6)\n",
    "\n",
    "S = producto_escalar / (norma_vuelo1 * norma_vuelo6)\n",
    "# S = cosine_similarity([v1],[v6])\n",
    "S"
   ]
  },
  {
   "cell_type": "code",
   "execution_count": 203,
   "id": "cc9ffa8a-b740-45d8-9b36-3f2a03e717eb",
   "metadata": {},
   "outputs": [
    {
     "name": "stdout",
     "output_type": "stream",
     "text": [
      "[[1.         0.38490018 0.18257419 0.19245009 0.40824829 0.33333333]\n",
      " [0.38490018 1.         0.21081851 0.33333333 0.         0.38490018]\n",
      " [0.18257419 0.21081851 1.         0.52704628 0.4472136  0.45643546]\n",
      " [0.19245009 0.33333333 0.52704628 1.         0.23570226 0.38490018]\n",
      " [0.40824829 0.         0.4472136  0.23570226 1.         0.20412415]\n",
      " [0.33333333 0.38490018 0.45643546 0.38490018 0.20412415 1.        ]]\n"
     ]
    }
   ],
   "source": [
    "# Calcular la matriz de similtud para todo los vuelos\n",
    "S = (vuelos_np/ la.norm(vuelos_np, axis=0)).T @ (vuelos_np / la.norm(vuelos_np, axis=0))\n",
    "print(S)"
   ]
  },
  {
   "cell_type": "code",
   "execution_count": 217,
   "id": "09b546ff-6501-4f93-b0e9-11dccfc57708",
   "metadata": {},
   "outputs": [
    {
     "name": "stdout",
     "output_type": "stream",
     "text": [
      "Matriz de recomendaciones:\n",
      "[[0.849 0.981 1.913 1.297 0.855 2.456]\n",
      " [1.145 2.544 1.949 2.194 0.683 1.611]\n",
      " [1.117 0.929 2.431 2.148 1.887 2.045]\n",
      " [0.567 0.877 2.054 2.527 0.919 1.226]\n",
      " [0.375 0.544 1.527 1.527 0.683 0.841]\n",
      " [0.698 0.807 2.456 1.439 1.099 1.913]\n",
      " [1.526 1.103 1.166 1.577 0.848 1.718]\n",
      " [1.244 2.103 1.651 2.103 0.644 2.77 ]\n",
      " [2.103 2.77  1.061 1.244 0.612 2.103]\n",
      " [1.591 0.596 1.63  0.955 1.855 0.994]]\n",
      "\n",
      "Matriz original de búsquedas:\n",
      "[[0. 0. 1. 0. 0. 2.]\n",
      " [0. 2. 1. 1. 0. 0.]\n",
      " [0. 0. 1. 1. 1. 1.]\n",
      " [0. 0. 1. 2. 0. 0.]\n",
      " [0. 0. 1. 1. 0. 0.]\n",
      " [0. 0. 2. 0. 0. 1.]\n",
      " [1. 0. 0. 1. 0. 1.]\n",
      " [0. 1. 0. 1. 0. 2.]\n",
      " [1. 2. 0. 0. 0. 1.]\n",
      " [1. 0. 1. 0. 1. 0.]]\n"
     ]
    }
   ],
   "source": [
    "# Calcular las recomendaciones para todos los usuarios\n",
    "recomendaciones = np.round(vuelos_np @ S, 3)\n",
    "\n",
    "print(\"Matriz de recomendaciones:\")\n",
    "print(recomendaciones)\n",
    "print(\"\\nMatriz original de búsquedas:\")\n",
    "print(vuelos_np)"
   ]
  },
  {
   "cell_type": "code",
   "execution_count": 246,
   "id": "dca4ae07-c544-4679-ad99-ed18cc4434aa",
   "metadata": {},
   "outputs": [
    {
     "name": "stdout",
     "output_type": "stream",
     "text": [
      "Para el usuario 1, se recomienda el vuelo 4\n",
      "Para el usuario 2, se recomienda el vuelo 6\n",
      "Para el usuario 3, se recomienda el vuelo 1\n",
      "Para el usuario 4, se recomienda el vuelo 6\n",
      "Para el usuario 5, se recomienda el vuelo 6\n",
      "Para el usuario 6, se recomienda el vuelo 4\n",
      "Para el usuario 7, se recomienda el vuelo 3\n",
      "Para el usuario 8, se recomienda el vuelo 3\n",
      "Para el usuario 9, se recomienda el vuelo 4\n",
      "Para el usuario 10, se recomienda el vuelo 6\n"
     ]
    }
   ],
   "source": [
    "# ANOTACIONES DE LA FUNCIÓN: \n",
    "# Lo hacemos de forma descendente\n",
    "# La función np.argsort() en NumPy devuelve los índices que ordenarían un array. \n",
    "def recomendar_vuelo(usuario_index):\n",
    "    busquedas_usuario = vuelos_np[usuario_index] # Extraemos la fila de las veces que ha visitado ese usuario ese vuelo\n",
    "    recomendaciones_usuario = recomendaciones[usuario_index] # Extrae la fila correspondiente al usuario de la matriz de recomendaciones. \n",
    "    \n",
    "    # Encontrar el índice del vuelo más recomendado que aún no ha sido buscado\n",
    "    for i in np.argsort(recomendaciones_usuario)[::-1]:\n",
    "        if busquedas_usuario[i] == 0:\n",
    "            return i\n",
    "    \n",
    "    return None  # Si todos los vuelos ya han sido buscados\n",
    "\n",
    "# Recomendaciones para los usuarios especificados\n",
    "usuarios = [0,1,2,3,4,5,6,7,8,9]  # Índices de los usuarios 1, 2, 3, 5, 7 y 10\n",
    "for usuario in usuarios:\n",
    "    vuelo_recomendado = recomendar_vuelo(usuario)\n",
    "    print(f\"Para el usuario {usuario + 1}, se recomienda el vuelo {vuelo_recomendado + 1 if vuelo_recomendado is not None else 'ninguno'}\")"
   ]
  },
  {
   "cell_type": "code",
   "execution_count": null,
   "id": "d3542aa7-dffd-400f-8db2-57873664f16e",
   "metadata": {},
   "outputs": [],
   "source": []
  }
 ],
 "metadata": {
  "kernelspec": {
   "display_name": "Python 3 (ipykernel)",
   "language": "python",
   "name": "python3"
  },
  "language_info": {
   "codemirror_mode": {
    "name": "ipython",
    "version": 3
   },
   "file_extension": ".py",
   "mimetype": "text/x-python",
   "name": "python",
   "nbconvert_exporter": "python",
   "pygments_lexer": "ipython3",
   "version": "3.11.7"
  }
 },
 "nbformat": 4,
 "nbformat_minor": 5
}
