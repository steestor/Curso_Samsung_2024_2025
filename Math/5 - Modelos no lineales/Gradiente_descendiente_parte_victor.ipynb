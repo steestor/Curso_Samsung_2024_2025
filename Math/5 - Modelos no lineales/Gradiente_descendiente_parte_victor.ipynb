{
 "cells": [
  {
   "cell_type": "code",
   "execution_count": 75,
   "id": "96ce160e-b72b-4138-b4e6-b2e51155ad40",
   "metadata": {},
   "outputs": [],
   "source": [
    "import numpy as np\n",
    "from numpy import linalg as la\n",
    "import pandas as pd\n",
    "import matplotlib.pyplot as plt"
   ]
  },
  {
   "cell_type": "code",
   "execution_count": 11,
   "id": "8a2950d9-713d-4697-a681-c8b1fa2da9a6",
   "metadata": {},
   "outputs": [],
   "source": [
    "x = np.array([-2,-1,1,2,2,3,3,4])\n",
    "y = np.array([1,1,1,2,3,3,4,5])"
   ]
  },
  {
   "cell_type": "code",
   "execution_count": 13,
   "id": "5744f78d-cf60-4ccc-9398-ba3c4230f158",
   "metadata": {},
   "outputs": [
    {
     "data": {
      "text/plain": [
       "array([-2, -1,  1,  2,  2,  3,  3,  4])"
      ]
     },
     "execution_count": 13,
     "metadata": {},
     "output_type": "execute_result"
    }
   ],
   "source": [
    "x"
   ]
  },
  {
   "cell_type": "code",
   "execution_count": 15,
   "id": "6abe6b00-c735-4b67-892d-1d5772f607b3",
   "metadata": {},
   "outputs": [
    {
     "data": {
      "text/plain": [
       "array([1, 1, 1, 2, 3, 3, 4, 5])"
      ]
     },
     "execution_count": 15,
     "metadata": {},
     "output_type": "execute_result"
    }
   ],
   "source": [
    "y"
   ]
  },
  {
   "cell_type": "code",
   "execution_count": 47,
   "id": "efc3d550-73cb-44d1-80fc-f7d4a6231a7c",
   "metadata": {},
   "outputs": [
    {
     "data": {
      "image/png": "[encoded data removed]",
      "text/plain": [
       "<Figure size 640x480 with 1 Axes>"
      ]
     },
     "metadata": {},
     "output_type": "display_data"
    }
   ],
   "source": [
    "plt.plot(x,y, 'bo')\n",
    "plt.plot(x,np.exp(x), 'g')\n",
    "plt.xlim(-5,5)\n",
    "plt.ylim(-2,10)\n",
    "plt.show()"
   ]
  },
  {
   "cell_type": "code",
   "execution_count": 67,
   "id": "97be8ce1-6555-4d4b-86a0-c8464ce726c2",
   "metadata": {},
   "outputs": [],
   "source": [
    "a=1\n",
    "b=1\n",
    "alpha = 0.005"
   ]
  },
  {
   "cell_type": "code",
   "execution_count": 86,
   "id": "be2e75ad-510a-4eea-8c32-9bf991126e8b",
   "metadata": {},
   "outputs": [
    {
     "ename": "ValueError",
     "evalue": "setting an array element with a sequence. The requested array would exceed the maximum number of dimension of 32.",
     "output_type": "error",
     "traceback": [
      "\u001b[1;31m---------------------------------------------------------------------------\u001b[0m",
      "\u001b[1;31mValueError\u001b[0m                                Traceback (most recent call last)",
      "Cell \u001b[1;32mIn[86], line 3\u001b[0m\n\u001b[0;32m      1\u001b[0m \u001b[38;5;66;03m# primera iteración del método del método gradiente descendientea\u001b[39;00m\n\u001b[0;32m      2\u001b[0m \u001b[38;5;28;01mfor\u001b[39;00m i \u001b[38;5;129;01min\u001b[39;00m \u001b[38;5;28mrange\u001b[39m(\u001b[38;5;241m200\u001b[39m):\n\u001b[1;32m----> 3\u001b[0m     gradiente \u001b[38;5;241m=\u001b[39m np\u001b[38;5;241m.\u001b[39marray([[a],[b]]) \u001b[38;5;241m-\u001b[39m alpha \u001b[38;5;241m*\u001b[39m (np\u001b[38;5;241m.\u001b[39marray([[np\u001b[38;5;241m.\u001b[39msum(\u001b[38;5;241m2\u001b[39m \u001b[38;5;241m*\u001b[39m (y\u001b[38;5;241m-\u001b[39ma\u001b[38;5;241m*\u001b[39mnp\u001b[38;5;241m.\u001b[39mexp(b\u001b[38;5;241m*\u001b[39mx)) \u001b[38;5;241m*\u001b[39m (\u001b[38;5;241m-\u001b[39mnp\u001b[38;5;241m.\u001b[39mexp(b\u001b[38;5;241m*\u001b[39mx)))],\n\u001b[0;32m      4\u001b[0m                                        [np\u001b[38;5;241m.\u001b[39msum(\u001b[38;5;241m2\u001b[39m \u001b[38;5;241m*\u001b[39m (y\u001b[38;5;241m-\u001b[39ma\u001b[38;5;241m*\u001b[39mnp\u001b[38;5;241m.\u001b[39mexp(b\u001b[38;5;241m*\u001b[39mx)) \u001b[38;5;241m*\u001b[39m (\u001b[38;5;241m-\u001b[39ma\u001b[38;5;241m*\u001b[39mnp\u001b[38;5;241m.\u001b[39mexp(b\u001b[38;5;241m*\u001b[39mx)\u001b[38;5;241m*\u001b[39mx))]]))\n\u001b[0;32m      6\u001b[0m     DMD \u001b[38;5;241m=\u001b[39m gradiente\u001b[38;5;241m/\u001b[39mla\u001b[38;5;241m.\u001b[39mnorm(gradiente)\n\u001b[0;32m      7\u001b[0m     a, b \u001b[38;5;241m=\u001b[39m np\u001b[38;5;241m.\u001b[39marray([[a],[b]]) \u001b[38;5;241m-\u001b[39m alpha\u001b[38;5;241m*\u001b[39mDMD\n",
      "\u001b[1;31mValueError\u001b[0m: setting an array element with a sequence. The requested array would exceed the maximum number of dimension of 32."
     ]
    }
   ],
   "source": [
    "# primera iteración del método del método gradiente descendientea\n",
    "for i in range(200):\n",
    "    gradiente = np.array([[a],[b]]) - alpha * (np.array([[np.sum(2 * (y-a*np.exp(b*x)) * (-np.exp(b*x)))],\n",
    "                                       [np.sum(2 * (y-a*np.exp(b*x)) * (-a*np.exp(b*x)*x))]]))\n",
    "\n",
    "    DMD = gradiente/la.norm(gradiente)\n",
    "    a, b = np.array([[a],[b]]) - alpha*DMD\n",
    "    #print(a)\n",
    "    #print(b)\n",
    "    error= np.sum((y-a*np.exp(b*x))**2)"
   ]
  },
  {
   "cell_type": "code",
   "execution_count": null,
   "id": "1bf93f25-32de-4102-bd5d-9d9c24b98622",
   "metadata": {},
   "outputs": [],
   "source": []
  },
  {
   "cell_type": "code",
   "execution_count": null,
   "id": "36aef708-4ea9-4c02-9a99-229af643ed54",
   "metadata": {},
   "outputs": [],
   "source": []
  }
 ],
 "metadata": {
  "kernelspec": {
   "display_name": "Python 3 (ipykernel)",
   "language": "python",
   "name": "python3"
  },
  "language_info": {
   "codemirror_mode": {
    "name": "ipython",
    "version": 3
   },
   "file_extension": ".py",
   "mimetype": "text/x-python",
   "name": "python",
   "nbconvert_exporter": "python",
   "pygments_lexer": "ipython3",
   "version": "3.11.7"
  }
 },
 "nbformat": 4,
 "nbformat_minor": 5
}
