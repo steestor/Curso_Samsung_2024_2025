{
 "cells": [
  {
   "cell_type": "code",
   "execution_count": 21,
   "id": "19f0f3c1",
   "metadata": {},
   "outputs": [],
   "source": [
    "import numpy as np\n",
    "from numpy import linalg as la\n",
    "import matplotlib.pyplot as plt"
   ]
  },
  {
   "cell_type": "code",
   "execution_count": 56,
   "id": "f7989ed2",
   "metadata": {},
   "outputs": [
    {
     "data": {
      "text/plain": [
       "[<matplotlib.lines.Line2D at 0x2422a763ee0>]"
      ]
     },
     "execution_count": 56,
     "metadata": {},
     "output_type": "execute_result"
    },
    {
     "data": {
      "image/png": "[encoded data removed]",
      "text/plain": [
       "<Figure size 432x288 with 1 Axes>"
      ]
     },
     "metadata": {
      "needs_background": "light"
     },
     "output_type": "display_data"
    }
   ],
   "source": [
    "x = np.array([-2,-1,1,2,2,3,3,4])\n",
    "y = np.array([1,1,1,2,3,3,4,5])\n",
    "\n",
    "plt.xlim(-4,5)\n",
    "plt.ylim(-1,7)\n",
    "plt.plot(x,y,'ro')\n",
    "plt.plot(x,a*np.exp(b*x),'g')"
   ]
  },
  {
   "cell_type": "code",
   "execution_count": 51,
   "id": "88f20013",
   "metadata": {},
   "outputs": [
    {
     "name": "stdout",
     "output_type": "stream",
     "text": [
      "3063.042009763433\n"
     ]
    }
   ],
   "source": [
    "a = 1\n",
    "b = 1\n",
    "alpha = 0.005\n",
    "\n",
    "error = np.sum((y-a*np.exp(b*x))**2)\n",
    "print(error)"
   ]
  },
  {
   "cell_type": "code",
   "execution_count": 52,
   "id": "312f7cd4",
   "metadata": {},
   "outputs": [
    {
     "name": "stdout",
     "output_type": "stream",
     "text": [
      "[0.99871538] \n",
      "\n",
      "[0.99516784]\n"
     ]
    }
   ],
   "source": [
    "# primera iteración del método del gradiente descendiente\n",
    "\n",
    "gradiente = np.array([[np.sum(2*(y-a*np.exp(b*x))*(-np.exp(b*x)))],\n",
    "                                      [np.sum(2*(y-a*np.exp(b*x))*(-a*np.exp(b*x)*x))]])\n",
    "\n",
    "DMD = gradiente/la.norm(gradiente)\n",
    "\n",
    "a, b = np.array([[a],[b]]) - alpha*DMD\n",
    "print(a, \"\\n\")\n",
    "print(b)"
   ]
  },
  {
   "cell_type": "code",
   "execution_count": 53,
   "id": "67e80767",
   "metadata": {},
   "outputs": [
    {
     "name": "stdout",
     "output_type": "stream",
     "text": [
      "2931.49350851948\n"
     ]
    }
   ],
   "source": [
    "error = np.sum((y-a*np.exp(b*x))**2)\n",
    "print(error)"
   ]
  },
  {
   "cell_type": "code",
   "execution_count": 55,
   "id": "716a9bc2",
   "metadata": {},
   "outputs": [
    {
     "name": "stdout",
     "output_type": "stream",
     "text": [
      "2931.49350851948\n",
      "2805.3234737831503\n",
      "2684.317189743892\n",
      "2568.2684467682097\n",
      "2456.9792049536686\n",
      "2350.2592709986734\n",
      "2247.9259878603457\n",
      "2149.8039366937764\n",
      "2055.724650586017\n",
      "1965.5263396174764\n",
      "1879.053626801945\n",
      "1796.15729447428\n",
      "1716.6940407118302\n",
      "1640.5262453921841\n",
      "1567.521745505493\n",
      "1497.553619354844\n",
      "1430.49997929264\n",
      "1366.2437726549385\n",
      "1304.672590569083\n",
      "1245.6784843228625\n",
      "1189.1577889957648\n",
      "1135.0109540647998\n",
      "1083.1423807087356\n",
      "1033.4602655455526\n",
      "985.8764505484577\n",
      "940.306278895839\n",
      "896.6684565203095\n",
      "854.8849191312402\n",
      "814.8807044941531\n",
      "776.5838297589291\n",
      "739.9251736370247\n",
      "704.838363235813\n",
      "671.2596653657686\n",
      "639.1278821435205\n",
      "608.3842507208022\n",
      "578.9723469760778\n",
      "550.8379930120725\n",
      "523.9291683086549\n",
      "498.19592438649073\n",
      "473.5903028425958\n",
      "450.06625662443525\n",
      "427.5795744144896\n",
      "406.08780800228175\n",
      "385.5502025257257\n",
      "365.92762946835074\n",
      "347.1825223034299\n",
      "329.27881468036725\n",
      "312.18188105283946\n",
      "295.8584796521628\n",
      "280.2766977131854\n",
      "265.40589886366325\n",
      "251.21667259161563\n",
      "237.68078570852984\n",
      "224.77113572954127\n",
      "212.46170609483326\n",
      "200.72752315950044\n",
      "189.54461488199757\n",
      "178.88997114406254\n",
      "168.74150563765127\n",
      "159.0780192569811\n",
      "149.87916493621987\n",
      "141.12541387571426\n",
      "132.79802310190695\n",
      "124.87900430826281\n",
      "117.35109392660496\n",
      "110.19772438026371\n",
      "103.40299647236036\n",
      "96.95165286439352\n",
      "90.82905260206584\n",
      "85.02114664699072\n",
      "79.51445437455017\n",
      "74.29604099974497\n",
      "69.35349589438162\n",
      "64.67491176038693\n",
      "60.2488646254288\n",
      "56.06439462835139\n",
      "52.1109875632127\n",
      "48.37855715193615\n",
      "44.857428016765866\n",
      "41.53831932483837\n",
      "38.41232907826677\n",
      "35.470919024164154\n",
      "32.70590016002111\n",
      "30.10941881079582\n",
      "27.673943254972464\n",
      "25.392250877695588\n",
      "23.257415829893414\n",
      "21.26279717305787\n",
      "19.402027490049115\n",
      "17.66900194293129\n",
      "16.057867759412137\n",
      "14.563014129935532\n",
      "13.179062497838693\n",
      "11.900857225194496\n",
      "10.72345661695418\n",
      "9.642124285691281\n",
      "8.65232083846892\n",
      "7.749695865855403\n",
      "6.93008021046753\n",
      "6.189478487876064\n",
      "5.524061824915154\n",
      "4.9301607668738265\n",
      "4.404258280792279\n",
      "3.9429827370491908\n",
      "3.5431006636912716\n",
      "3.201508886526069\n",
      "2.9152252639920757\n",
      "2.6813762385814224\n",
      "2.497176707623355\n",
      "2.3598889280715465\n",
      "2.2667115255530783\n",
      "2.2143439639830733\n",
      "2.1957647275027417\n",
      "2.180897952236027\n",
      "2.166896146184942\n",
      "2.1538362920365763\n",
      "2.1417096448181807\n",
      "2.130128987300039\n",
      "2.1190630119126768\n",
      "2.1082356316589435\n",
      "2.0978255602223634\n",
      "2.087598068647461\n",
      "2.0777738136589314\n",
      "2.0681024409159026\n",
      "2.0588256313117816\n",
      "2.0496749224526103\n",
      "2.0409113351230035\n",
      "2.0322489545470797\n",
      "2.023967188400001\n",
      "2.015763387136677\n",
      "2.0079344645495345\n",
      "2.00016174718698\n",
      "1.992758822948152\n",
      "1.9853916919976864\n",
      "1.978389824612126\n",
      "1.9714045750263285\n",
      "1.9647805398266223\n",
      "1.9581550883664975\n",
      "1.9518872203920834\n",
      "1.9456009605214795\n",
      "1.9396690196306912\n",
      "1.9337026959120418\n",
      "1.928087749147009\n",
      "1.9224233470455871\n",
      "1.9171076648049596\n",
      "1.9117283130026772\n",
      "1.9066952765436986\n",
      "1.9015851596336817\n",
      "1.8968191780591113\n",
      "1.891963458008488\n",
      "1.8874498933248403\n",
      "1.882834638451029\n",
      "1.8785597375870953\n",
      "1.8741718580484996\n",
      "1.8701226909416147\n",
      "1.8659498799313303\n",
      "1.8621142829508193\n",
      "1.8581449629230955\n",
      "1.8545114870232644\n",
      "1.850734760390989\n",
      "1.8472926234812972\n",
      "1.8436982273079006\n",
      "1.8404372704031857\n",
      "1.837015534680273\n",
      "1.8339261814543653\n",
      "1.830667990611436\n",
      "1.8277412100268169\n",
      "1.8246379673647022\n",
      "1.8218652390915848\n",
      "1.8189088338688837\n",
      "1.8162821162412035\n",
      "1.8134648931746944\n",
      "1.8109765934592896\n",
      "1.8082913244261736\n",
      "1.8059342712060136\n",
      "1.8033741289589158\n",
      "1.801141546452362\n",
      "1.7987000801778825\n",
      "1.7965855643342536\n",
      "1.794256676903136\n",
      "1.7922541731308257\n",
      "1.790032099902879\n",
      "1.7881358823002083\n",
      "1.786015171360398\n",
      "1.784219823331726\n",
      "1.7821953170454943\n",
      "1.7804957131959946\n",
      "1.7785625309822395\n",
      "1.7769538201944024\n",
      "1.775107342423754\n",
      "1.773584932027309\n",
      "1.7718207849615197\n",
      "1.770380325916183\n",
      "1.768694367611817\n",
      "1.7673317406291607\n",
      "1.7657200477353379\n",
      "1.7644313502722992\n",
      "1.7628902056581772\n",
      "1.7616717397203328\n",
      "1.760197620873353\n"
     ]
    }
   ],
   "source": [
    "a=b=1\n",
    "for i in range(200):\n",
    "    gradiente = np.array([[np.sum(2*(y-a*np.exp(b*x))*(-np.exp(b*x)))],\n",
    "                                      [np.sum(2*(y-a*np.exp(b*x))*(-a*np.exp(b*x)*x))]])\n",
    "    DMD = gradiente/la.norm(gradiente)\n",
    "    resultado = np.array([[a],[b]]) - alpha*DMD\n",
    "    a = resultado[0,0]\n",
    "    b = resultado[1,0]\n",
    "    error = np.sum((y-a*np.exp(b*x))**2)\n",
    "    print(error)"
   ]
  },
  {
   "cell_type": "code",
   "execution_count": 38,
   "id": "5764456c",
   "metadata": {},
   "outputs": [],
   "source": []
  },
  {
   "cell_type": "code",
   "execution_count": null,
   "id": "ac2673d7",
   "metadata": {},
   "outputs": [],
   "source": []
  },
  {
   "cell_type": "code",
   "execution_count": null,
   "id": "5d1ffca5",
   "metadata": {},
   "outputs": [],
   "source": []
  },
  {
   "cell_type": "code",
   "execution_count": null,
   "id": "c8b42557",
   "metadata": {},
   "outputs": [],
   "source": []
  }
 ],
 "metadata": {
  "kernelspec": {
   "display_name": "Python 3 (ipykernel)",
   "language": "python",
   "name": "python3"
  },
  "language_info": {
   "codemirror_mode": {
    "name": "ipython",
    "version": 3
   },
   "file_extension": ".py",
   "mimetype": "text/x-python",
   "name": "python",
   "nbconvert_exporter": "python",
   "pygments_lexer": "ipython3",
   "version": "3.9.12"
  }
 },
 "nbformat": 4,
 "nbformat_minor": 5
}
